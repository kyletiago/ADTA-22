{
 "cells": [
  {
   "cell_type": "code",
   "execution_count": 1,
   "metadata": {},
   "outputs": [
    {
     "name": "stdout",
     "output_type": "stream",
     "text": [
      "showing info https://raw.githubusercontent.com/nltk/nltk_data/gh-pages/index.xml\n"
     ]
    },
    {
     "data": {
      "text/plain": [
       "True"
      ]
     },
     "execution_count": 1,
     "metadata": {},
     "output_type": "execute_result"
    }
   ],
   "source": [
    "import numpy as np\n",
    "import pandas as pd\n",
    "import nltk\n",
    "import string\n",
    "\n",
    "from matplotlib import pyplot as plt\n",
    "from sklearn.cluster import KMeans\n",
    "from nltk.tokenize import word_tokenize\n",
    "from nltk.corpus import stopwords\n",
    "from sklearn.feature_extraction.text import CountVectorizer\n",
    "from sklearn.feature_extraction.text import TfidfVectorizer\n",
    "\n",
    "nltk.download()"
   ]
  },
  {
   "cell_type": "code",
   "execution_count": 2,
   "metadata": {},
   "outputs": [],
   "source": [
    "headerNames = ['Text', 'Sentiment']\n",
    "reviews = pd.read_csv(\"imdb_labelled.txt\", sep='\\t', names=headerNames)"
   ]
  },
  {
   "cell_type": "code",
   "execution_count": 3,
   "metadata": {},
   "outputs": [
    {
     "data": {
      "text/html": [
       "<div>\n",
       "<style scoped>\n",
       "    .dataframe tbody tr th:only-of-type {\n",
       "        vertical-align: middle;\n",
       "    }\n",
       "\n",
       "    .dataframe tbody tr th {\n",
       "        vertical-align: top;\n",
       "    }\n",
       "\n",
       "    .dataframe thead th {\n",
       "        text-align: right;\n",
       "    }\n",
       "</style>\n",
       "<table border=\"1\" class=\"dataframe\">\n",
       "  <thead>\n",
       "    <tr style=\"text-align: right;\">\n",
       "      <th></th>\n",
       "      <th>Text</th>\n",
       "      <th>Sentiment</th>\n",
       "    </tr>\n",
       "  </thead>\n",
       "  <tbody>\n",
       "    <tr>\n",
       "      <th>0</th>\n",
       "      <td>A very, very, very slow-moving, aimless movie ...</td>\n",
       "      <td>0</td>\n",
       "    </tr>\n",
       "    <tr>\n",
       "      <th>1</th>\n",
       "      <td>Not sure who was more lost - the flat characte...</td>\n",
       "      <td>0</td>\n",
       "    </tr>\n",
       "    <tr>\n",
       "      <th>2</th>\n",
       "      <td>Attempting artiness with black &amp; white and cle...</td>\n",
       "      <td>0</td>\n",
       "    </tr>\n",
       "    <tr>\n",
       "      <th>3</th>\n",
       "      <td>Very little music or anything to speak of.</td>\n",
       "      <td>0</td>\n",
       "    </tr>\n",
       "    <tr>\n",
       "      <th>4</th>\n",
       "      <td>The best scene in the movie was when Gerardo i...</td>\n",
       "      <td>1</td>\n",
       "    </tr>\n",
       "  </tbody>\n",
       "</table>\n",
       "</div>"
      ],
      "text/plain": [
       "                                                Text  Sentiment\n",
       "0  A very, very, very slow-moving, aimless movie ...          0\n",
       "1  Not sure who was more lost - the flat characte...          0\n",
       "2  Attempting artiness with black & white and cle...          0\n",
       "3       Very little music or anything to speak of.            0\n",
       "4  The best scene in the movie was when Gerardo i...          1"
      ]
     },
     "execution_count": 3,
     "metadata": {},
     "output_type": "execute_result"
    }
   ],
   "source": [
    "reviews.head()"
   ]
  },
  {
   "cell_type": "code",
   "execution_count": 4,
   "metadata": {},
   "outputs": [
    {
     "data": {
      "text/plain": [
       "(748, 2)"
      ]
     },
     "execution_count": 4,
     "metadata": {},
     "output_type": "execute_result"
    }
   ],
   "source": [
    "reviews.shape"
   ]
  },
  {
   "cell_type": "code",
   "execution_count": 5,
   "metadata": {},
   "outputs": [
    {
     "data": {
      "text/plain": [
       "1    386\n",
       "0    362\n",
       "Name: Sentiment, dtype: int64"
      ]
     },
     "execution_count": 5,
     "metadata": {},
     "output_type": "execute_result"
    }
   ],
   "source": [
    "reviews['Sentiment'].value_counts()"
   ]
  },
  {
   "cell_type": "code",
   "execution_count": 6,
   "metadata": {},
   "outputs": [
    {
     "name": "stdout",
     "output_type": "stream",
     "text": [
      "[0 0 0 0 1 0 0 1 0 1]\n",
      "0    0\n",
      "1    0\n",
      "2    0\n",
      "3    0\n",
      "4    1\n",
      "5    0\n",
      "6    0\n",
      "7    1\n",
      "8    0\n",
      "9    1\n",
      "Name: Sentiment, dtype: int64\n"
     ]
    }
   ],
   "source": [
    "from sklearn.preprocessing import LabelEncoder\n",
    "\n",
    "enc = LabelEncoder()\n",
    "label = enc.fit_transform(reviews['Sentiment'])\n",
    "print(label[:10])\n",
    "print(reviews['Sentiment'][:10])"
   ]
  },
  {
   "cell_type": "code",
   "execution_count": 7,
   "metadata": {},
   "outputs": [],
   "source": [
    "reviews = reviews.astype({'Text':'string'})"
   ]
  },
  {
   "cell_type": "code",
   "execution_count": 8,
   "metadata": {},
   "outputs": [
    {
     "data": {
      "text/plain": [
       "0    A very, very, very slow-moving, aimless movie ...\n",
       "1    Not sure who was more lost - the flat characte...\n",
       "2    Attempting artiness with black & white and cle...\n",
       "3         Very little music or anything to speak of.  \n",
       "4    The best scene in the movie was when Gerardo i...\n",
       "Name: Text, dtype: string"
      ]
     },
     "execution_count": 8,
     "metadata": {},
     "output_type": "execute_result"
    }
   ],
   "source": [
    "text = reviews['Text']\n",
    "text[:5]"
   ]
  },
  {
   "cell_type": "code",
   "execution_count": 9,
   "metadata": {},
   "outputs": [
    {
     "data": {
      "text/plain": [
       "['a very very very slowmoving aimless movie about a distressed drifting young man  ',\n",
       " 'not sure who was more lost  the flat characters or the audience nearly half of whom walked out  ',\n",
       " 'attempting artiness with black  white and clever camera angles the movie disappointed  became even more ridiculous  as the acting was poor and the plot and lines almost nonexistent  ',\n",
       " 'very little music or anything to speak of  ',\n",
       " 'the best scene in the movie was when gerardo is trying to find a song that keeps running through his head  ']"
      ]
     },
     "execution_count": 9,
     "metadata": {},
     "output_type": "execute_result"
    }
   ],
   "source": [
    "text1 = []\n",
    "\n",
    "for review in text:\n",
    "    review = review.translate(str.maketrans('','',string.punctuation))\n",
    "    review = review.translate(str.maketrans('','',string.digits))\n",
    "    review = review.lower()\n",
    "    text1.append(review)\n",
    "\n",
    "text1[:5]"
   ]
  },
  {
   "cell_type": "code",
   "execution_count": 10,
   "metadata": {},
   "outputs": [
    {
     "data": {
      "text/plain": [
       "0    a very very very slowmoving aimless movie abou...\n",
       "1    not sure who was more lost  the flat character...\n",
       "2    attempting artiness with black  white and clev...\n",
       "3          very little music or anything to speak of  \n",
       "4    the best scene in the movie was when gerardo i...\n",
       "dtype: object"
      ]
     },
     "execution_count": 10,
     "metadata": {},
     "output_type": "execute_result"
    }
   ],
   "source": [
    "text1 = pd.Series(text1)\n",
    "text1[:5]"
   ]
  },
  {
   "cell_type": "code",
   "execution_count": 11,
   "metadata": {},
   "outputs": [
    {
     "data": {
      "text/plain": [
       "0    slowmoving aimless movie distressed drifting y...\n",
       "1    sure lost flat characters audience nearly half...\n",
       "2    attempting artiness black white clever camera ...\n",
       "3                          little music anything speak\n",
       "4    best scene movie gerardo trying find song keep...\n",
       "dtype: object"
      ]
     },
     "execution_count": 11,
     "metadata": {},
     "output_type": "execute_result"
    }
   ],
   "source": [
    "stop_words = set(stopwords.words('english'))\n",
    "text1 = text1.apply(lambda x: ' '.join(term for term in x.split() if term not in stop_words) )\n",
    "text1[:5]"
   ]
  },
  {
   "cell_type": "code",
   "execution_count": 12,
   "metadata": {},
   "outputs": [
    {
     "data": {
      "text/plain": [
       "0    slowmoving aimless movie distressed drifting y...\n",
       "1    sure lost flat character audience nearly half ...\n",
       "2    attempting artiness black white clever camera ...\n",
       "3                          little music anything speak\n",
       "4    best scene movie gerardo trying find song keep...\n",
       "dtype: object"
      ]
     },
     "execution_count": 12,
     "metadata": {},
     "output_type": "execute_result"
    }
   ],
   "source": [
    "from nltk.stem import WordNetLemmatizer\n",
    "\n",
    "lemmatizer = WordNetLemmatizer()\n",
    "text2 = text1.apply(lambda x:' '.join(lemmatizer.lemmatize(w) for w in x.split()))\n",
    "text2[:5]"
   ]
  },
  {
   "cell_type": "code",
   "execution_count": 13,
   "metadata": {},
   "outputs": [
    {
     "data": {
      "text/plain": [
       "0    slowmoving aimless movie distressed drift youn...\n",
       "1    sure lose flat character audience nearly half ...\n",
       "2    attempt artiness black white clever camera ang...\n",
       "3                          little music anything speak\n",
       "4    best scene movie gerardo try find song keep ru...\n",
       "dtype: object"
      ]
     },
     "execution_count": 13,
     "metadata": {},
     "output_type": "execute_result"
    }
   ],
   "source": [
    "from nltk.corpus import wordnet\n",
    "\n",
    "def get_wordnet_pos(word):\n",
    "    tag = nltk.pos_tag([word])[0][1][0].upper()\n",
    "    tag_dict = {\"J\": wordnet.ADJ, \"N\": wordnet.NOUN, \"V\": wordnet.VERB, \"R\": wordnet.ADV}\n",
    "\n",
    "    return tag_dict.get(tag, wordnet.NOUN)\n",
    "\n",
    "lemmatizer = WordNetLemmatizer()\n",
    "text3 = text1.apply(lambda x:' '.join(lemmatizer.lemmatize(w, get_wordnet_pos(w)) for w in x.split()))\n",
    "text3[:5]"
   ]
  },
  {
   "cell_type": "code",
   "execution_count": 14,
   "metadata": {},
   "outputs": [
    {
     "data": {
      "text/plain": [
       "0        slowmov aimless movi distress drift young man\n",
       "1      sure lost flat charact audienc nearli half walk\n",
       "2    attempt arti black white clever camera angl mo...\n",
       "3                              littl music anyth speak\n",
       "4    best scene movi gerardo tri find song keep run...\n",
       "dtype: object"
      ]
     },
     "execution_count": 14,
     "metadata": {},
     "output_type": "execute_result"
    }
   ],
   "source": [
    "ps = nltk.PorterStemmer()\n",
    "\n",
    "text4 = text1.apply(lambda x: ' '.join(ps.stem(term) for term in x.split()))\n",
    "text4[:5]"
   ]
  },
  {
   "cell_type": "code",
   "execution_count": 15,
   "metadata": {},
   "outputs": [
    {
     "data": {
      "text/html": [
       "<div>\n",
       "<style scoped>\n",
       "    .dataframe tbody tr th:only-of-type {\n",
       "        vertical-align: middle;\n",
       "    }\n",
       "\n",
       "    .dataframe tbody tr th {\n",
       "        vertical-align: top;\n",
       "    }\n",
       "\n",
       "    .dataframe thead th {\n",
       "        text-align: right;\n",
       "    }\n",
       "</style>\n",
       "<table border=\"1\" class=\"dataframe\">\n",
       "  <thead>\n",
       "    <tr style=\"text-align: right;\">\n",
       "      <th></th>\n",
       "      <th>Review</th>\n",
       "      <th>Sentiment</th>\n",
       "    </tr>\n",
       "  </thead>\n",
       "  <tbody>\n",
       "    <tr>\n",
       "      <th>0</th>\n",
       "      <td>slowmoving aimless movie distressed drift youn...</td>\n",
       "      <td>0</td>\n",
       "    </tr>\n",
       "    <tr>\n",
       "      <th>1</th>\n",
       "      <td>sure lose flat character audience nearly half ...</td>\n",
       "      <td>0</td>\n",
       "    </tr>\n",
       "    <tr>\n",
       "      <th>2</th>\n",
       "      <td>attempt artiness black white clever camera ang...</td>\n",
       "      <td>0</td>\n",
       "    </tr>\n",
       "    <tr>\n",
       "      <th>3</th>\n",
       "      <td>little music anything speak</td>\n",
       "      <td>0</td>\n",
       "    </tr>\n",
       "    <tr>\n",
       "      <th>4</th>\n",
       "      <td>best scene movie gerardo try find song keep ru...</td>\n",
       "      <td>1</td>\n",
       "    </tr>\n",
       "    <tr>\n",
       "      <th>...</th>\n",
       "      <td>...</td>\n",
       "      <td>...</td>\n",
       "    </tr>\n",
       "    <tr>\n",
       "      <th>743</th>\n",
       "      <td>get bore watch jessice lange take clothes</td>\n",
       "      <td>0</td>\n",
       "    </tr>\n",
       "    <tr>\n",
       "      <th>744</th>\n",
       "      <td>unfortunately virtue film production work lose...</td>\n",
       "      <td>0</td>\n",
       "    </tr>\n",
       "    <tr>\n",
       "      <th>745</th>\n",
       "      <td>word embarrass</td>\n",
       "      <td>0</td>\n",
       "    </tr>\n",
       "    <tr>\n",
       "      <th>746</th>\n",
       "      <td>exceptionally bad</td>\n",
       "      <td>0</td>\n",
       "    </tr>\n",
       "    <tr>\n",
       "      <th>747</th>\n",
       "      <td>insult one intelligence huge waste money</td>\n",
       "      <td>0</td>\n",
       "    </tr>\n",
       "  </tbody>\n",
       "</table>\n",
       "<p>748 rows × 2 columns</p>\n",
       "</div>"
      ],
      "text/plain": [
       "                                                Review  Sentiment\n",
       "0    slowmoving aimless movie distressed drift youn...          0\n",
       "1    sure lose flat character audience nearly half ...          0\n",
       "2    attempt artiness black white clever camera ang...          0\n",
       "3                          little music anything speak          0\n",
       "4    best scene movie gerardo try find song keep ru...          1\n",
       "..                                                 ...        ...\n",
       "743          get bore watch jessice lange take clothes          0\n",
       "744  unfortunately virtue film production work lose...          0\n",
       "745                                     word embarrass          0\n",
       "746                                  exceptionally bad          0\n",
       "747           insult one intelligence huge waste money          0\n",
       "\n",
       "[748 rows x 2 columns]"
      ]
     },
     "execution_count": 15,
     "metadata": {},
     "output_type": "execute_result"
    }
   ],
   "source": [
    "reviews1 = list(zip(text3, label))\n",
    "\n",
    "reviewsP = pd.DataFrame(reviews1, columns = ['Review', 'Sentiment'])\n",
    "reviewsP"
   ]
  },
  {
   "cell_type": "code",
   "execution_count": 16,
   "metadata": {},
   "outputs": [
    {
     "data": {
      "text/plain": [
       "array(['aailiyah', 'abandon', 'ability', ..., 'zombie', 'zombiestudents',\n",
       "       'zombiez'], dtype=object)"
      ]
     },
     "execution_count": 16,
     "metadata": {},
     "output_type": "execute_result"
    }
   ],
   "source": [
    "cv=CountVectorizer()\n",
    "cv_reviews = cv.fit_transform(reviewsP['Review'])\n",
    "cv.get_feature_names_out()"
   ]
  },
  {
   "cell_type": "code",
   "execution_count": 17,
   "metadata": {},
   "outputs": [
    {
     "name": "stdout",
     "output_type": "stream",
     "text": [
      "  (0, 2070)\t1\n",
      "  (0, 49)\t1\n",
      "  (0, 1494)\t1\n",
      "  (0, 625)\t1\n",
      "  (0, 654)\t1\n",
      "  (0, 2616)\t1\n",
      "  (0, 1395)\t1\n",
      "  (1, 2217)\t1\n",
      "  (1, 1368)\t1\n",
      "  (1, 881)\t1\n",
      "  (1, 337)\t1\n",
      "  (1, 138)\t1\n",
      "  (1, 1522)\t1\n",
      "  (1, 1028)\t1\n",
      "  (1, 2513)\t1\n",
      "  (2, 1494)\t1\n",
      "  (2, 135)\t1\n",
      "  (2, 118)\t1\n",
      "  (2, 215)\t1\n",
      "  (2, 2555)\t1\n",
      "  (2, 383)\t1\n",
      "  (2, 292)\t1\n",
      "  (2, 81)\t1\n",
      "  (2, 609)\t1\n",
      "  (2, 185)\t1\n",
      "  :\t:\n",
      "  (743, 2242)\t1\n",
      "  (743, 2524)\t1\n",
      "  (743, 970)\t1\n",
      "  (743, 244)\t1\n",
      "  (743, 1295)\t1\n",
      "  (743, 1237)\t1\n",
      "  (743, 390)\t1\n",
      "  (744, 1368)\t1\n",
      "  (744, 2587)\t1\n",
      "  (744, 855)\t1\n",
      "  (744, 1967)\t1\n",
      "  (744, 2433)\t1\n",
      "  (744, 1763)\t1\n",
      "  (744, 2495)\t1\n",
      "  (744, 1842)\t1\n",
      "  (745, 2585)\t1\n",
      "  (745, 702)\t1\n",
      "  (746, 160)\t1\n",
      "  (746, 773)\t1\n",
      "  (747, 2523)\t1\n",
      "  (747, 1593)\t1\n",
      "  (747, 1476)\t1\n",
      "  (747, 1116)\t1\n",
      "  (747, 1196)\t1\n",
      "  (747, 1192)\t1\n"
     ]
    }
   ],
   "source": [
    "print(cv_reviews)"
   ]
  },
  {
   "cell_type": "code",
   "execution_count": 18,
   "metadata": {},
   "outputs": [
    {
     "data": {
      "text/plain": [
       "(748, 2626)"
      ]
     },
     "execution_count": 18,
     "metadata": {},
     "output_type": "execute_result"
    }
   ],
   "source": [
    "cv_reviews.shape"
   ]
  },
  {
   "cell_type": "code",
   "execution_count": 19,
   "metadata": {},
   "outputs": [
    {
     "data": {
      "text/html": [
       "<div>\n",
       "<style scoped>\n",
       "    .dataframe tbody tr th:only-of-type {\n",
       "        vertical-align: middle;\n",
       "    }\n",
       "\n",
       "    .dataframe tbody tr th {\n",
       "        vertical-align: top;\n",
       "    }\n",
       "\n",
       "    .dataframe thead th {\n",
       "        text-align: right;\n",
       "    }\n",
       "</style>\n",
       "<table border=\"1\" class=\"dataframe\">\n",
       "  <thead>\n",
       "    <tr style=\"text-align: right;\">\n",
       "      <th></th>\n",
       "      <th>aailiyah</th>\n",
       "      <th>abandon</th>\n",
       "      <th>ability</th>\n",
       "      <th>abroad</th>\n",
       "      <th>absolutely</th>\n",
       "      <th>abstruse</th>\n",
       "      <th>abysmal</th>\n",
       "      <th>academy</th>\n",
       "      <th>accent</th>\n",
       "      <th>accessible</th>\n",
       "      <th>...</th>\n",
       "      <th>young</th>\n",
       "      <th>youre</th>\n",
       "      <th>youthful</th>\n",
       "      <th>youtube</th>\n",
       "      <th>youve</th>\n",
       "      <th>yun</th>\n",
       "      <th>zillion</th>\n",
       "      <th>zombie</th>\n",
       "      <th>zombiestudents</th>\n",
       "      <th>zombiez</th>\n",
       "    </tr>\n",
       "  </thead>\n",
       "  <tbody>\n",
       "    <tr>\n",
       "      <th>0</th>\n",
       "      <td>0</td>\n",
       "      <td>0</td>\n",
       "      <td>0</td>\n",
       "      <td>0</td>\n",
       "      <td>0</td>\n",
       "      <td>0</td>\n",
       "      <td>0</td>\n",
       "      <td>0</td>\n",
       "      <td>0</td>\n",
       "      <td>0</td>\n",
       "      <td>...</td>\n",
       "      <td>1</td>\n",
       "      <td>0</td>\n",
       "      <td>0</td>\n",
       "      <td>0</td>\n",
       "      <td>0</td>\n",
       "      <td>0</td>\n",
       "      <td>0</td>\n",
       "      <td>0</td>\n",
       "      <td>0</td>\n",
       "      <td>0</td>\n",
       "    </tr>\n",
       "    <tr>\n",
       "      <th>1</th>\n",
       "      <td>0</td>\n",
       "      <td>0</td>\n",
       "      <td>0</td>\n",
       "      <td>0</td>\n",
       "      <td>0</td>\n",
       "      <td>0</td>\n",
       "      <td>0</td>\n",
       "      <td>0</td>\n",
       "      <td>0</td>\n",
       "      <td>0</td>\n",
       "      <td>...</td>\n",
       "      <td>0</td>\n",
       "      <td>0</td>\n",
       "      <td>0</td>\n",
       "      <td>0</td>\n",
       "      <td>0</td>\n",
       "      <td>0</td>\n",
       "      <td>0</td>\n",
       "      <td>0</td>\n",
       "      <td>0</td>\n",
       "      <td>0</td>\n",
       "    </tr>\n",
       "    <tr>\n",
       "      <th>2</th>\n",
       "      <td>0</td>\n",
       "      <td>0</td>\n",
       "      <td>0</td>\n",
       "      <td>0</td>\n",
       "      <td>0</td>\n",
       "      <td>0</td>\n",
       "      <td>0</td>\n",
       "      <td>0</td>\n",
       "      <td>0</td>\n",
       "      <td>0</td>\n",
       "      <td>...</td>\n",
       "      <td>0</td>\n",
       "      <td>0</td>\n",
       "      <td>0</td>\n",
       "      <td>0</td>\n",
       "      <td>0</td>\n",
       "      <td>0</td>\n",
       "      <td>0</td>\n",
       "      <td>0</td>\n",
       "      <td>0</td>\n",
       "      <td>0</td>\n",
       "    </tr>\n",
       "    <tr>\n",
       "      <th>3</th>\n",
       "      <td>0</td>\n",
       "      <td>0</td>\n",
       "      <td>0</td>\n",
       "      <td>0</td>\n",
       "      <td>0</td>\n",
       "      <td>0</td>\n",
       "      <td>0</td>\n",
       "      <td>0</td>\n",
       "      <td>0</td>\n",
       "      <td>0</td>\n",
       "      <td>...</td>\n",
       "      <td>0</td>\n",
       "      <td>0</td>\n",
       "      <td>0</td>\n",
       "      <td>0</td>\n",
       "      <td>0</td>\n",
       "      <td>0</td>\n",
       "      <td>0</td>\n",
       "      <td>0</td>\n",
       "      <td>0</td>\n",
       "      <td>0</td>\n",
       "    </tr>\n",
       "    <tr>\n",
       "      <th>4</th>\n",
       "      <td>0</td>\n",
       "      <td>0</td>\n",
       "      <td>0</td>\n",
       "      <td>0</td>\n",
       "      <td>0</td>\n",
       "      <td>0</td>\n",
       "      <td>0</td>\n",
       "      <td>0</td>\n",
       "      <td>0</td>\n",
       "      <td>0</td>\n",
       "      <td>...</td>\n",
       "      <td>0</td>\n",
       "      <td>0</td>\n",
       "      <td>0</td>\n",
       "      <td>0</td>\n",
       "      <td>0</td>\n",
       "      <td>0</td>\n",
       "      <td>0</td>\n",
       "      <td>0</td>\n",
       "      <td>0</td>\n",
       "      <td>0</td>\n",
       "    </tr>\n",
       "  </tbody>\n",
       "</table>\n",
       "<p>5 rows × 2626 columns</p>\n",
       "</div>"
      ],
      "text/plain": [
       "   aailiyah  abandon  ability  abroad  absolutely  abstruse  abysmal  academy  \\\n",
       "0         0        0        0       0           0         0        0        0   \n",
       "1         0        0        0       0           0         0        0        0   \n",
       "2         0        0        0       0           0         0        0        0   \n",
       "3         0        0        0       0           0         0        0        0   \n",
       "4         0        0        0       0           0         0        0        0   \n",
       "\n",
       "   accent  accessible  ...  young  youre  youthful  youtube  youve  yun  \\\n",
       "0       0           0  ...      1      0         0        0      0    0   \n",
       "1       0           0  ...      0      0         0        0      0    0   \n",
       "2       0           0  ...      0      0         0        0      0    0   \n",
       "3       0           0  ...      0      0         0        0      0    0   \n",
       "4       0           0  ...      0      0         0        0      0    0   \n",
       "\n",
       "   zillion  zombie  zombiestudents  zombiez  \n",
       "0        0       0               0        0  \n",
       "1        0       0               0        0  \n",
       "2        0       0               0        0  \n",
       "3        0       0               0        0  \n",
       "4        0       0               0        0  \n",
       "\n",
       "[5 rows x 2626 columns]"
      ]
     },
     "execution_count": 19,
     "metadata": {},
     "output_type": "execute_result"
    }
   ],
   "source": [
    "df = pd.DataFrame(cv_reviews.toarray(), columns=cv.get_feature_names_out())\n",
    "df.head()"
   ]
  },
  {
   "cell_type": "code",
   "execution_count": 20,
   "metadata": {},
   "outputs": [
    {
     "data": {
      "text/plain": [
       "(748, 2626)"
      ]
     },
     "execution_count": 20,
     "metadata": {},
     "output_type": "execute_result"
    }
   ],
   "source": [
    "cv = CountVectorizer(max_features=10000)\n",
    "cv_reviews = cv.fit_transform(reviewsP['Review'])\n",
    "cv_reviews.shape"
   ]
  },
  {
   "cell_type": "code",
   "execution_count": 21,
   "metadata": {},
   "outputs": [
    {
     "name": "stdout",
     "output_type": "stream",
     "text": [
      "['aailiyah' 'abandon' 'ability' ... 'zombie' 'zombiestudents' 'zombiez']\n"
     ]
    }
   ],
   "source": [
    "tv = TfidfVectorizer()\n",
    "tv_reviews = tv.fit_transform(reviewsP['Review'])\n",
    "print(tv.get_feature_names_out())\n"
   ]
  },
  {
   "cell_type": "code",
   "execution_count": 22,
   "metadata": {},
   "outputs": [
    {
     "name": "stdout",
     "output_type": "stream",
     "text": [
      "[array(['movie', 'film', 'bad', 'see', 'good', 'one', 'like', 'watch',\n",
      "       'well', 'make'], dtype=object)]\n"
     ]
    }
   ],
   "source": [
    "feature_names = np.array(tv.get_feature_names_out())\n",
    "def get_top_tf_idf_words(tv_reviews, top_n=10):\n",
    "    importance = np.argsort(np.asarray(tv_reviews.sum(axis=0)).ravel())[::-1]\n",
    "    return feature_names[importance[:top_n]]\n",
    "\n",
    "print([get_top_tf_idf_words(tv_reviews,10)])"
   ]
  },
  {
   "cell_type": "code",
   "execution_count": 23,
   "metadata": {},
   "outputs": [
    {
     "data": {
      "text/plain": [
       "count    748.000000\n",
       "mean       0.041413\n",
       "std        0.095187\n",
       "min        0.000000\n",
       "25%        0.000000\n",
       "50%        0.000000\n",
       "75%        0.000000\n",
       "max        0.613011\n",
       "Name: movie, dtype: float64"
      ]
     },
     "execution_count": 23,
     "metadata": {},
     "output_type": "execute_result"
    }
   ],
   "source": [
    "df1 = pd.DataFrame(tv_reviews.toarray(), columns=tv.get_feature_names_out())\n",
    "df1['movie'].describe()"
   ]
  },
  {
   "cell_type": "code",
   "execution_count": 24,
   "metadata": {},
   "outputs": [
    {
     "data": {
      "text/plain": [
       "<AxesSubplot: >"
      ]
     },
     "execution_count": 24,
     "metadata": {},
     "output_type": "execute_result"
    },
    {
     "data": {
      "image/png": "[encoded data removed]",
      "text/plain": [
       "<Figure size 640x480 with 1 Axes>"
      ]
     },
     "metadata": {},
     "output_type": "display_data"
    }
   ],
   "source": [
    "df1['movie'].hist()"
   ]
  },
  {
   "cell_type": "code",
   "execution_count": 25,
   "metadata": {},
   "outputs": [
    {
     "name": "stdout",
     "output_type": "stream",
     "text": [
      "[array(['lino', 'legendary', 'patriotism', 'fabulous', 'belmondo',\n",
      "       'tremendous', 'treachery', 'pander', 'transcend', 'biographical'],\n",
      "      dtype=object)]\n"
     ]
    }
   ],
   "source": [
    "##Descriptive Analytics\n",
    "\n",
    "feature_names = np.array(tv.get_feature_names_out())\n",
    "\n",
    "def get_top_tf_idf_words(tv_reviews, top_n = 10):\n",
    "    importance = np.argsort(np.asarray(tv_reviews.sum(axis=0)).ravel())[::1]\n",
    "    return feature_names[importance[:top_n]]\n",
    "print([get_top_tf_idf_words(tv_reviews, 10)])"
   ]
  },
  {
   "cell_type": "code",
   "execution_count": 26,
   "metadata": {},
   "outputs": [],
   "source": [
    "df = pd.DataFrame(tv_reviews.toarray(), columns=tv.get_feature_names_out())"
   ]
  },
  {
   "cell_type": "code",
   "execution_count": 27,
   "metadata": {},
   "outputs": [
    {
     "data": {
      "text/html": [
       "<div>\n",
       "<style scoped>\n",
       "    .dataframe tbody tr th:only-of-type {\n",
       "        vertical-align: middle;\n",
       "    }\n",
       "\n",
       "    .dataframe tbody tr th {\n",
       "        vertical-align: top;\n",
       "    }\n",
       "\n",
       "    .dataframe thead th {\n",
       "        text-align: right;\n",
       "    }\n",
       "</style>\n",
       "<table border=\"1\" class=\"dataframe\">\n",
       "  <thead>\n",
       "    <tr style=\"text-align: right;\">\n",
       "      <th></th>\n",
       "      <th>Review</th>\n",
       "      <th>Sentiment</th>\n",
       "    </tr>\n",
       "  </thead>\n",
       "  <tbody>\n",
       "    <tr>\n",
       "      <th>0</th>\n",
       "      <td>slowmoving aimless movie distressed drift youn...</td>\n",
       "      <td>0</td>\n",
       "    </tr>\n",
       "    <tr>\n",
       "      <th>1</th>\n",
       "      <td>sure lose flat character audience nearly half ...</td>\n",
       "      <td>0</td>\n",
       "    </tr>\n",
       "    <tr>\n",
       "      <th>2</th>\n",
       "      <td>attempt artiness black white clever camera ang...</td>\n",
       "      <td>0</td>\n",
       "    </tr>\n",
       "    <tr>\n",
       "      <th>3</th>\n",
       "      <td>little music anything speak</td>\n",
       "      <td>0</td>\n",
       "    </tr>\n",
       "    <tr>\n",
       "      <th>4</th>\n",
       "      <td>best scene movie gerardo try find song keep ru...</td>\n",
       "      <td>1</td>\n",
       "    </tr>\n",
       "  </tbody>\n",
       "</table>\n",
       "</div>"
      ],
      "text/plain": [
       "                                              Review  Sentiment\n",
       "0  slowmoving aimless movie distressed drift youn...          0\n",
       "1  sure lose flat character audience nearly half ...          0\n",
       "2  attempt artiness black white clever camera ang...          0\n",
       "3                        little music anything speak          0\n",
       "4  best scene movie gerardo try find song keep ru...          1"
      ]
     },
     "execution_count": 27,
     "metadata": {},
     "output_type": "execute_result"
    }
   ],
   "source": [
    "reviewsP.head()"
   ]
  },
  {
   "cell_type": "code",
   "execution_count": 28,
   "metadata": {},
   "outputs": [
    {
     "data": {
      "text/html": [
       "<div>\n",
       "<style scoped>\n",
       "    .dataframe tbody tr th:only-of-type {\n",
       "        vertical-align: middle;\n",
       "    }\n",
       "\n",
       "    .dataframe tbody tr th {\n",
       "        vertical-align: top;\n",
       "    }\n",
       "\n",
       "    .dataframe thead th {\n",
       "        text-align: right;\n",
       "    }\n",
       "</style>\n",
       "<table border=\"1\" class=\"dataframe\">\n",
       "  <thead>\n",
       "    <tr style=\"text-align: right;\">\n",
       "      <th></th>\n",
       "      <th>index</th>\n",
       "      <th>Review</th>\n",
       "      <th>Sentiment</th>\n",
       "    </tr>\n",
       "  </thead>\n",
       "  <tbody>\n",
       "    <tr>\n",
       "      <th>0</th>\n",
       "      <td>265</td>\n",
       "      <td>premise film ridiculous president u</td>\n",
       "      <td>0</td>\n",
       "    </tr>\n",
       "    <tr>\n",
       "      <th>1</th>\n",
       "      <td>519</td>\n",
       "      <td>find well movie youtube</td>\n",
       "      <td>0</td>\n",
       "    </tr>\n",
       "    <tr>\n",
       "      <th>2</th>\n",
       "      <td>584</td>\n",
       "      <td>saw child tv back stranger love</td>\n",
       "      <td>1</td>\n",
       "    </tr>\n",
       "    <tr>\n",
       "      <th>3</th>\n",
       "      <td>717</td>\n",
       "      <td>time seem film animation dominate disneypixars...</td>\n",
       "      <td>1</td>\n",
       "    </tr>\n",
       "    <tr>\n",
       "      <th>4</th>\n",
       "      <td>90</td>\n",
       "      <td>also real treat see anthony quinn play crazy h...</td>\n",
       "      <td>1</td>\n",
       "    </tr>\n",
       "  </tbody>\n",
       "</table>\n",
       "</div>"
      ],
      "text/plain": [
       "   index                                             Review  Sentiment\n",
       "0    265                premise film ridiculous president u          0\n",
       "1    519                            find well movie youtube          0\n",
       "2    584                    saw child tv back stranger love          1\n",
       "3    717  time seem film animation dominate disneypixars...          1\n",
       "4     90  also real treat see anthony quinn play crazy h...          1"
      ]
     },
     "execution_count": 28,
     "metadata": {},
     "output_type": "execute_result"
    }
   ],
   "source": [
    "reviewsP1 = reviewsP.sample(frac=1, random_state=1).reset_index()\n",
    "reviewsP1.head()"
   ]
  },
  {
   "cell_type": "code",
   "execution_count": 29,
   "metadata": {},
   "outputs": [
    {
     "data": {
      "text/plain": [
       "(748,)"
      ]
     },
     "execution_count": 29,
     "metadata": {},
     "output_type": "execute_result"
    }
   ],
   "source": [
    "reviewsP1.Sentiment.shape"
   ]
  },
  {
   "cell_type": "code",
   "execution_count": 30,
   "metadata": {},
   "outputs": [
    {
     "name": "stdout",
     "output_type": "stream",
     "text": [
      "(374,) (374,)\n",
      "(374,) (374,)\n"
     ]
    }
   ],
   "source": [
    "train_reviews = reviewsP1.Review[:374]\n",
    "train_sentiments = reviewsP1.Sentiment[:374]\n",
    "\n",
    "test_reviews = reviewsP1.Review[374:]\n",
    "test_sentiments = reviewsP1.Sentiment[374:]\n",
    "\n",
    "print(train_reviews.shape, train_sentiments.shape)\n",
    "print(test_reviews.shape, test_sentiments.shape)"
   ]
  },
  {
   "cell_type": "code",
   "execution_count": 31,
   "metadata": {},
   "outputs": [
    {
     "name": "stdout",
     "output_type": "stream",
     "text": [
      "BOW_cv_train: (374, 1552)\n",
      "BOW_cv_test; (374, 1552)\n"
     ]
    }
   ],
   "source": [
    "cv = CountVectorizer()\n",
    "cv_train_reviews = cv.fit_transform(train_reviews)\n",
    "cv_test_reviews = cv.transform(test_reviews)\n",
    "\n",
    "print('BOW_cv_train:',cv_train_reviews.shape)\n",
    "print('BOW_cv_test;',cv_test_reviews.shape)"
   ]
  },
  {
   "cell_type": "code",
   "execution_count": 32,
   "metadata": {},
   "outputs": [
    {
     "name": "stdout",
     "output_type": "stream",
     "text": [
      "Tfidf_train: (374, 1552)\n",
      "Tfidf_test: (374, 1552)\n"
     ]
    }
   ],
   "source": [
    "tv = TfidfVectorizer()\n",
    "\n",
    "tv_train_reviews = tv.fit_transform(train_reviews)\n",
    "tv_test_reviews=tv.transform(test_reviews)\n",
    "print('Tfidf_train:',tv_train_reviews.shape)\n",
    "print('Tfidf_test:',tv_test_reviews.shape)"
   ]
  },
  {
   "cell_type": "code",
   "execution_count": 33,
   "metadata": {},
   "outputs": [
    {
     "name": "stdout",
     "output_type": "stream",
     "text": [
      "  (0, 1043)\t0.5805511787663015\n",
      "  (0, 1125)\t0.5805511787663015\n",
      "  (0, 511)\t0.24426676724000135\n",
      "  (0, 1040)\t0.5159984535715536\n"
     ]
    }
   ],
   "source": [
    "print(tv_train_reviews[0])"
   ]
  },
  {
   "cell_type": "code",
   "execution_count": 34,
   "metadata": {},
   "outputs": [
    {
     "name": "stdout",
     "output_type": "stream",
     "text": [
      "0      0\n",
      "1      0\n",
      "2      1\n",
      "3      1\n",
      "4      1\n",
      "      ..\n",
      "369    0\n",
      "370    1\n",
      "371    1\n",
      "372    1\n",
      "373    1\n",
      "Name: Sentiment, Length: 374, dtype: int64\n",
      "374    1\n",
      "375    0\n",
      "376    0\n",
      "377    1\n",
      "378    0\n",
      "      ..\n",
      "743    1\n",
      "744    1\n",
      "745    0\n",
      "746    0\n",
      "747    1\n",
      "Name: Sentiment, Length: 374, dtype: int64\n"
     ]
    }
   ],
   "source": [
    "print(train_sentiments)\n",
    "print(test_sentiments)"
   ]
  },
  {
   "cell_type": "code",
   "execution_count": 35,
   "metadata": {},
   "outputs": [
    {
     "name": "stdout",
     "output_type": "stream",
     "text": [
      "DT_bow accuracy:  0.6363636363636364\n",
      "DT_tfidf accuracy:  0.6443850267379679\n"
     ]
    }
   ],
   "source": [
    "## Decision Tree\n",
    "\n",
    "from sklearn.metrics import accuracy_score, confusion_matrix, classification_report\n",
    "from sklearn.tree import DecisionTreeClassifier\n",
    "\n",
    "DT = DecisionTreeClassifier(criterion = 'entropy', random_state = 0)\n",
    "DT_bow = DT.fit(cv_train_reviews,train_sentiments)\n",
    "DT_tfidf= DT.fit(tv_train_reviews,train_sentiments)\n",
    "\n",
    "DT_bow_predict = DT.predict(cv_test_reviews)\n",
    "DT_tfidf_predict = DT.predict(tv_test_reviews)\n",
    "DT_bow_score = accuracy_score(test_sentiments, DT_bow_predict)\n",
    "print(\"DT_bow accuracy: \", DT_bow_score)\n",
    "\n",
    "DT_tfidf_score = accuracy_score(test_sentiments, DT_tfidf_predict)\n",
    "print(\"DT_tfidf accuracy: \", DT_tfidf_score)"
   ]
  },
  {
   "cell_type": "code",
   "execution_count": 36,
   "metadata": {},
   "outputs": [
    {
     "name": "stdout",
     "output_type": "stream",
     "text": [
      "[[101  94]\n",
      " [ 42 137]] \n",
      "\n",
      "              precision    recall  f1-score   support\n",
      "\n",
      "    Positive       0.71      0.52      0.60       195\n",
      "    Negative       0.59      0.77      0.67       179\n",
      "\n",
      "    accuracy                           0.64       374\n",
      "   macro avg       0.65      0.64      0.63       374\n",
      "weighted avg       0.65      0.64      0.63       374\n",
      "\n",
      "[[ 99  96]\n",
      " [ 37 142]] \n",
      "\n",
      "              precision    recall  f1-score   support\n",
      "\n",
      "    Positive       0.73      0.51      0.60       195\n",
      "    Negative       0.60      0.79      0.68       179\n",
      "\n",
      "    accuracy                           0.64       374\n",
      "   macro avg       0.66      0.65      0.64       374\n",
      "weighted avg       0.67      0.64      0.64       374\n",
      "\n"
     ]
    }
   ],
   "source": [
    "DT_bow_report = classification_report(test_sentiments, DT_bow_predict, target_names=['Positive','Negative'])\n",
    "print(confusion_matrix(test_sentiments,DT_bow_predict),'\\n')\n",
    "print(DT_bow_report)\n",
    "\n",
    "DT_tfidf_report=classification_report(test_sentiments, DT_tfidf_predict,target_names=['Positive', 'Negative'])\n",
    "print(confusion_matrix(test_sentiments,DT_tfidf_predict),'\\n')\n",
    "print(DT_tfidf_report)"
   ]
  },
  {
   "cell_type": "code",
   "execution_count": 37,
   "metadata": {},
   "outputs": [
    {
     "name": "stdout",
     "output_type": "stream",
     "text": [
      "roc_auc_score for DT:  0.6504941985388912\n"
     ]
    },
    {
     "data": {
      "image/png": "[encoded data removed]",
      "text/plain": [
       "<Figure size 1000x1000 with 1 Axes>"
      ]
     },
     "metadata": {},
     "output_type": "display_data"
    }
   ],
   "source": [
    "from sklearn.metrics import roc_curve, roc_auc_score\n",
    "\n",
    "FP, TP, threshold1 = roc_curve(test_sentiments,DT_tfidf_predict)\n",
    "print('roc_auc_score for DT: ', roc_auc_score(test_sentiments, DT_tfidf_predict))\n",
    "\n",
    "import matplotlib.pyplot as plt\n",
    "\n",
    "plt.subplots(1, figsize=(10,10))\n",
    "plt.title('Reciever Operating Characteristic - DT')\n",
    "plt.plot(FP, TP)\n",
    "plt.plot([0,1], ls=\"--\")\n",
    "plt.plot([0,0],[1,0],c=\".7\"), plt.plot([1,1], c=\".7\")\n",
    "plt.ylabel('True Positive Rate')\n",
    "plt.xlabel('False Positive Rate')\n",
    "plt.show()"
   ]
  },
  {
   "cell_type": "code",
   "execution_count": 38,
   "metadata": {},
   "outputs": [
    {
     "name": "stdout",
     "output_type": "stream",
     "text": [
      "SVM_bow accuracy: 0.7486631016042781\n",
      "SVM_tfidf accuracy:  0.7406417112299465\n"
     ]
    }
   ],
   "source": [
    "from sklearn.svm import SVC\n",
    "from sklearn.linear_model import SGDClassifier\n",
    "\n",
    "SVM = SGDClassifier(loss='hinge',max_iter=500,random_state=42)\n",
    "SVM_bow = SVM.fit(cv_train_reviews, train_sentiments)\n",
    "SVM_tfidf = SVM.fit(tv_train_reviews, train_sentiments)\n",
    "SVM_bow_predict = SVM.predict(cv_test_reviews)\n",
    "SVM_tfidf_predict = SVM.predict(tv_test_reviews)\n",
    "    \n",
    "SVM_bow_score = accuracy_score(test_sentiments,SVM_bow_predict)\n",
    "print(\"SVM_bow accuracy:\", SVM_bow_score)\n",
    "\n",
    "SVM_tfidf_score = accuracy_score(test_sentiments,SVM_tfidf_predict)\n",
    "print(\"SVM_tfidf accuracy: \", SVM_tfidf_score)"
   ]
  },
  {
   "cell_type": "code",
   "execution_count": 39,
   "metadata": {},
   "outputs": [
    {
     "name": "stdout",
     "output_type": "stream",
     "text": [
      "[[129  66]\n",
      " [ 28 151]] \n",
      "\n",
      "              precision    recall  f1-score   support\n",
      "\n",
      "    Positive       0.82      0.66      0.73       195\n",
      "    Negative       0.70      0.84      0.76       179\n",
      "\n",
      "    accuracy                           0.75       374\n",
      "   macro avg       0.76      0.75      0.75       374\n",
      "weighted avg       0.76      0.75      0.75       374\n",
      "\n",
      "[[123  72]\n",
      " [ 25 154]] \n",
      "\n",
      "              precision    recall  f1-score   support\n",
      "\n",
      "    Positive       0.83      0.63      0.72       195\n",
      "    Negative       0.68      0.86      0.76       179\n",
      "\n",
      "    accuracy                           0.74       374\n",
      "   macro avg       0.76      0.75      0.74       374\n",
      "weighted avg       0.76      0.74      0.74       374\n",
      "\n"
     ]
    }
   ],
   "source": [
    "SVM_bow_report = classification_report(test_sentiments,SVM_bow_predict,target_names=['Positive','Negative'])\n",
    "print(confusion_matrix(test_sentiments,SVM_bow_predict),'\\n')\n",
    "print(SVM_bow_report)\n",
    "\n",
    "SVM_tfidf_report = classification_report(test_sentiments, SVM_tfidf_predict, target_names=['Positive','Negative'])\n",
    "print(confusion_matrix(test_sentiments,SVM_tfidf_predict),'\\n')\n",
    "print(SVM_tfidf_report)"
   ]
  },
  {
   "cell_type": "code",
   "execution_count": 40,
   "metadata": {},
   "outputs": [
    {
     "name": "stdout",
     "output_type": "stream",
     "text": [
      "kNN_bow accuracy: 0.713903743315508\n",
      "kNN_tfidf accuracy:  0.7486631016042781\n"
     ]
    }
   ],
   "source": [
    "from sklearn.neighbors import KNeighborsClassifier\n",
    "\n",
    "kNN = KNeighborsClassifier(n_neighbors=7)\n",
    "\n",
    "kNN_bow = kNN.fit(cv_train_reviews, train_sentiments)\n",
    "kNN_tfidf = kNN.fit(tv_train_reviews, train_sentiments)\n",
    "kNN_bow_predict = kNN.predict(cv_test_reviews)\n",
    "kNN_tfidf_predict = kNN.predict(tv_test_reviews)\n",
    "\n",
    "kNN_bow_score = accuracy_score(test_sentiments,kNN_bow_predict)\n",
    "print(\"kNN_bow accuracy:\", kNN_bow_score)\n",
    "\n",
    "kNN_tfidf_score = accuracy_score(test_sentiments,kNN_tfidf_predict)\n",
    "print(\"kNN_tfidf accuracy: \", kNN_tfidf_score)"
   ]
  },
  {
   "cell_type": "code",
   "execution_count": 41,
   "metadata": {},
   "outputs": [
    {
     "name": "stdout",
     "output_type": "stream",
     "text": [
      "[[128  67]\n",
      " [ 40 139]] \n",
      "\n",
      "              precision    recall  f1-score   support\n",
      "\n",
      "    Positive       0.76      0.66      0.71       195\n",
      "    Negative       0.67      0.78      0.72       179\n",
      "\n",
      "    accuracy                           0.71       374\n",
      "   macro avg       0.72      0.72      0.71       374\n",
      "weighted avg       0.72      0.71      0.71       374\n",
      "\n",
      "[[138  57]\n",
      " [ 37 142]] \n",
      "\n",
      "              precision    recall  f1-score   support\n",
      "\n",
      "    Positive       0.79      0.71      0.75       195\n",
      "    Negative       0.71      0.79      0.75       179\n",
      "\n",
      "    accuracy                           0.75       374\n",
      "   macro avg       0.75      0.75      0.75       374\n",
      "weighted avg       0.75      0.75      0.75       374\n",
      "\n"
     ]
    }
   ],
   "source": [
    "kNN_bow_report = classification_report(test_sentiments,kNN_bow_predict,target_names=['Positive','Negative'])\n",
    "print(confusion_matrix(test_sentiments,kNN_bow_predict),'\\n')\n",
    "print(kNN_bow_report)\n",
    "\n",
    "kNN_tfidf_report = classification_report(test_sentiments, kNN_tfidf_predict, target_names=['Positive','Negative'])\n",
    "print(confusion_matrix(test_sentiments,kNN_tfidf_predict),'\\n')\n",
    "print(kNN_tfidf_report)"
   ]
  },
  {
   "cell_type": "code",
   "execution_count": 42,
   "metadata": {},
   "outputs": [],
   "source": [
    "import gensim\n",
    "from gensim.utils import simple_preprocess\n",
    "data = reviewsP.Review.values.tolist()\n",
    "def sent_to_words(sentences):\n",
    "    for sentence in sentences:\n",
    "        yield(gensim.utils.simple_preprocess(str(sentence)))\n",
    "words = list(sent_to_words(data))"
   ]
  },
  {
   "cell_type": "code",
   "execution_count": 43,
   "metadata": {},
   "outputs": [
    {
     "name": "stdout",
     "output_type": "stream",
     "text": [
      "['slowmoving', 'aimless', 'movie', 'distressed', 'drift', 'young', 'man']\n"
     ]
    }
   ],
   "source": [
    "print(words[:1][0][:30])"
   ]
  },
  {
   "cell_type": "code",
   "execution_count": 44,
   "metadata": {},
   "outputs": [
    {
     "name": "stdout",
     "output_type": "stream",
     "text": [
      "[(0, 1), (1, 1), (2, 1), (3, 1), (4, 1), (5, 1), (6, 1)]\n"
     ]
    }
   ],
   "source": [
    "import gensim.corpora as corpora\n",
    "id2word = corpora.Dictionary(words)\n",
    "texts = words\n",
    "corpus = [id2word.doc2bow(text) for text in texts]\n",
    "\n",
    "print(corpus[:1][0][:30])"
   ]
  },
  {
   "cell_type": "code",
   "execution_count": 45,
   "metadata": {},
   "outputs": [
    {
     "name": "stdout",
     "output_type": "stream",
     "text": [
      "[(0,\n",
      "  '0.017*\"movie\" + 0.015*\"time\" + 0.011*\"one\" + 0.009*\"film\" + 0.009*\"great\" + '\n",
      "  '0.008*\"waste\" + 0.008*\"also\" + 0.008*\"see\" + 0.007*\"make\" + 0.006*\"bad\"'),\n",
      " (1,\n",
      "  '0.026*\"film\" + 0.024*\"movie\" + 0.012*\"character\" + 0.009*\"like\" + '\n",
      "  '0.008*\"art\" + 0.007*\"well\" + 0.007*\"one\" + 0.007*\"ever\" + 0.006*\"see\" + '\n",
      "  '0.005*\"dont\"'),\n",
      " (2,\n",
      "  '0.014*\"film\" + 0.013*\"movie\" + 0.009*\"make\" + 0.007*\"character\" + '\n",
      "  '0.007*\"really\" + 0.006*\"act\" + 0.006*\"good\" + 0.006*\"write\" + 0.006*\"plot\" '\n",
      "  '+ 0.005*\"well\"'),\n",
      " (3,\n",
      "  '0.022*\"bad\" + 0.017*\"film\" + 0.016*\"movie\" + 0.014*\"make\" + 0.011*\"good\" + '\n",
      "  '0.009*\"script\" + 0.009*\"even\" + 0.008*\"character\" + 0.008*\"one\" + '\n",
      "  '0.006*\"watch\"'),\n",
      " (4,\n",
      "  '0.034*\"movie\" + 0.023*\"film\" + 0.014*\"bad\" + 0.010*\"see\" + 0.009*\"good\" + '\n",
      "  '0.008*\"like\" + 0.007*\"make\" + 0.006*\"one\" + 0.006*\"time\" + 0.006*\"plot\"'),\n",
      " (5,\n",
      "  '0.018*\"movie\" + 0.015*\"film\" + 0.011*\"well\" + 0.010*\"bad\" + 0.009*\"great\" + '\n",
      "  '0.009*\"really\" + 0.009*\"act\" + 0.009*\"watch\" + 0.008*\"like\" + 0.006*\"one\"'),\n",
      " (6,\n",
      "  '0.034*\"film\" + 0.020*\"movie\" + 0.010*\"see\" + 0.010*\"like\" + 0.010*\"one\" + '\n",
      "  '0.008*\"character\" + 0.008*\"bad\" + 0.006*\"really\" + 0.006*\"get\" + '\n",
      "  '0.006*\"good\"'),\n",
      " (7,\n",
      "  '0.026*\"movie\" + 0.010*\"bad\" + 0.009*\"even\" + 0.009*\"go\" + 0.008*\"film\" + '\n",
      "  '0.007*\"watch\" + 0.007*\"act\" + 0.007*\"make\" + 0.007*\"thing\" + 0.006*\"get\"'),\n",
      " (8,\n",
      "  '0.018*\"film\" + 0.017*\"movie\" + 0.010*\"one\" + 0.009*\"bad\" + 0.007*\"time\" + '\n",
      "  '0.007*\"go\" + 0.006*\"see\" + 0.006*\"would\" + 0.006*\"well\" + 0.005*\"best\"'),\n",
      " (9,\n",
      "  '0.018*\"movie\" + 0.015*\"film\" + 0.012*\"one\" + 0.010*\"see\" + '\n",
      "  '0.010*\"character\" + 0.009*\"good\" + 0.007*\"scene\" + 0.007*\"time\" + '\n",
      "  '0.007*\"like\" + 0.006*\"love\"')]\n"
     ]
    }
   ],
   "source": [
    "from pprint import pprint\n",
    "\n",
    "num_topics = 10\n",
    "lda_model = gensim.models.LdaMulticore(corpus=corpus,id2word=id2word,num_topics=num_topics)\n",
    "pprint(lda_model.print_topics())\n",
    "doc_lda = lda_model[corpus]"
   ]
  },
  {
   "cell_type": "code",
   "execution_count": 46,
   "metadata": {},
   "outputs": [
    {
     "name": "stderr",
     "output_type": "stream",
     "text": [
      "c:\\Users\\Kyle\\AppData\\Local\\Programs\\Python\\Python310\\lib\\site-packages\\past\\builtins\\misc.py:45: DeprecationWarning: the imp module is deprecated in favour of importlib and slated for removal in Python 3.12; see the module's documentation for alternative uses\n",
      "  from imp import reload\n",
      "c:\\Users\\Kyle\\AppData\\Local\\Programs\\Python\\Python310\\lib\\site-packages\\pyLDAvis\\_prepare.py:247: FutureWarning: In a future version of pandas all arguments of DataFrame.drop except for the argument 'labels' will be keyword-only.\n",
      "  by='saliency', ascending=False).head(R).drop('saliency', 1)\n"
     ]
    },
    {
     "data": {
      "text/html": [
       "\n",
       "<link rel=\"stylesheet\" type=\"text/css\" href=\"https://cdn.jsdelivr.net/gh/bmabey/pyLDAvis@3.3.1/pyLDAvis/js/ldavis.v1.0.0.css\">\n",
       "\n",
       "\n",
       "<div id=\"ldavis_el1913615827015860005802355315\"></div>\n",
       "<script type=\"text/javascript\">\n",
       "\n",
       "var ldavis_el1913615827015860005802355315_data = {\"mdsDat\": {\"x\": [0.031001766200358702, -0.014648810641451921, 0.02480366477357707, -0.05120463862066149, 0.04850672708755772, 0.08052623744971985, -0.03199714400310793, -0.07322720351251147, -0.013464003720086925, -0.0002965950133938436], \"y\": [0.008374421535985827, -0.006486837243905472, 0.022491915797132316, 0.07665113604452033, -0.08622841183006298, 0.036488424270231565, -0.000964640009831334, -0.06138649323398491, 0.020201277579173487, -0.009140792909258889], \"topics\": [1, 2, 3, 4, 5, 6, 7, 8, 9, 10], \"cluster\": [1, 1, 1, 1, 1, 1, 1, 1, 1, 1], \"Freq\": [16.348635151889656, 16.188651144784668, 15.453095936055853, 11.313643655720309, 8.342803071300214, 7.179032400579939, 6.852392908466875, 6.389631883193749, 6.187160376734341, 5.744953471274397]}, \"tinfo\": {\"Term\": [\"bad\", \"film\", \"character\", \"time\", \"movie\", \"make\", \"even\", \"go\", \"art\", \"script\", \"act\", \"good\", \"also\", \"right\", \"get\", \"one\", \"would\", \"waste\", \"played\", \"awful\", \"great\", \"dont\", \"write\", \"well\", \"see\", \"mess\", \"real\", \"watch\", \"put\", \"want\", \"father\", \"surprising\", \"realize\", \"subject\", \"close\", \"credit\", \"jimmy\", \"emotion\", \"portrayed\", \"slowmotion\", \"company\", \"host\", \"worthless\", \"cutebut\", \"jones\", \"affected\", \"musicincluding\", \"armand\", \"lifemy\", \"needlessly\", \"flashback\", \"duethe\", \"shirley\", \"badass\", \"schizophrenic\", \"creature\", \"poler\", \"monotonous\", \"scifis\", \"vandiver\", \"learn\", \"issue\", \"dramatic\", \"played\", \"exceptional\", \"back\", \"stand\", \"cheap\", \"mind\", \"white\", \"man\", \"well\", \"really\", \"great\", \"could\", \"act\", \"song\", \"fast\", \"along\", \"watch\", \"cast\", \"write\", \"story\", \"end\", \"movie\", \"bad\", \"like\", \"film\", \"many\", \"part\", \"little\", \"look\", \"one\", \"scene\", \"interest\", \"actor\", \"make\", \"give\", \"script\", \"love\", \"best\", \"see\", \"way\", \"mark\", \"discover\", \"depress\", \"length\", \"stereotype\", \"disliked\", \"bullock\", \"sandra\", \"ole\", \"violinplaying\", \"cox\", \"appear\", \"bigbudget\", \"breeder\", \"rpger\", \"unrealistic\", \"sci\", \"elia\", \"product\", \"palance\", \"teach\", \"thorsen\", \"selfrespecting\", \"sven\", \"cutout\", \"dysfunctionhe\", \"bela\", \"highlight\", \"confuses\", \"court\", \"budget\", \"possible\", \"open\", \"cool\", \"pure\", \"race\", \"racial\", \"nonsense\", \"edit\", \"relation\", \"line\", \"movie\", \"ive\", \"place\", \"martin\", \"bad\", \"feature\", \"action\", \"become\", \"everything\", \"film\", \"would\", \"plot\", \"ever\", \"good\", \"see\", \"actor\", \"nothing\", \"like\", \"recommend\", \"make\", \"time\", \"much\", \"little\", \"quite\", \"one\", \"even\", \"way\", \"say\", \"character\", \"scene\", \"cast\", \"totally\", \"show\", \"best\", \"love\", \"act\", \"thing\", \"provoke\", \"compelling\", \"clearly\", \"surround\", \"lovely\", \"type\", \"recover\", \"boob\", \"taxidermist\", \"foreign\", \"sculpture\", \"southern\", \"understatement\", \"aailiyah\", \"indictment\", \"consequence\", \"freshness\", \"tract\", \"monstrous\", \"jaclyn\", \"hoffman\", \"aesthetically\", \"matthew\", \"theatrical\", \"imitation\", \"smoothly\", \"wrotedirected\", \"everyones\", \"falwell\", \"nasty\", \"decipher\", \"main\", \"stage\", \"sort\", \"question\", \"remake\", \"ready\", \"poor\", \"clich\\u00e9s\", \"film\", \"animation\", \"two\", \"felt\", \"think\", \"get\", \"american\", \"god\", \"like\", \"handle\", \"see\", \"job\", \"play\", \"full\", \"character\", \"movie\", \"one\", \"really\", \"first\", \"scene\", \"best\", \"great\", \"director\", \"bad\", \"good\", \"funny\", \"people\", \"use\", \"well\", \"saw\", \"screen\", \"work\", \"never\", \"love\", \"dont\", \"watch\", \"make\", \"ever\", \"much\", \"plot\", \"freedom\", \"joes\", \"opening\", \"junkyard\", \"versus\", \"mercy\", \"cut\", \"past\", \"negative\", \"delight\", \"specialtoo\", \"simmer\", \"disbelief\", \"wartime\", \"heroism\", \"argue\", \"riot\", \"microsoft\", \"blandly\", \"error\", \"outward\", \"chodorov\", \"nutbag\", \"paolo\", \"practical\", \"bombardment\", \"lust\", \"mchattie\", \"weave\", \"tongue\", \"aerial\", \"sequence\", \"surprisingly\", \"kill\", \"giallo\", \"wrong\", \"terrific\", \"deliver\", \"th\", \"character\", \"drago\", \"one\", \"scene\", \"house\", \"see\", \"never\", \"good\", \"classic\", \"care\", \"love\", \"work\", \"movie\", \"time\", \"film\", \"predictable\", \"year\", \"like\", \"watch\", \"show\", \"story\", \"piece\", \"thing\", \"really\", \"play\", \"every\", \"didnt\", \"make\", \"end\", \"ever\", \"write\", \"plot\", \"well\", \"look\", \"bad\", \"silent\", \"several\", \"masterpiece\", \"dr\", \"grant\", \"consolation\", \"crowes\", \"postproduction\", \"netflix\", \"oblige\", \"stock\", \"filmsomething\", \"crowd\", \"wed\", \"underact\", \"brilliantly\", \"bat\", \"garbo\", \"mar\", \"borrow\", \"marion\", \"ton\", \"within\", \"screenplay\", \"assault\", \"belowpar\", \"chosen\", \"france\", \"frost\", \"animate\", \"balance\", \"moment\", \"sea\", \"screenwriter\", \"mess\", \"money\", \"knew\", \"waste\", \"time\", \"wilkinson\", \"need\", \"cover\", \"hand\", \"put\", \"also\", \"doesnt\", \"huge\", \"involve\", \"small\", \"hour\", \"avoid\", \"great\", \"easy\", \"share\", \"one\", \"come\", \"move\", \"take\", \"movie\", \"dont\", \"could\", \"see\", \"love\", \"make\", \"act\", \"film\", \"music\", \"bad\", \"even\", \"would\", \"life\", \"like\", \"good\", \"show\", \"watch\", \"scamp\", \"fifteen\", \"italian\", \"angel\", \"brainsucking\", \"behold\", \"endall\", \"native\", \"motivation\", \"basic\", \"eat\", \"elegant\", \"confuse\", \"behind\", \"popcorn\", \"team\", \"characterage\", \"phrase\", \"homework\", \"depends\", \"routine\", \"boost\", \"greenstreet\", \"integral\", \"damian\", \"overdue\", \"inventive\", \"versatile\", \"gorman\", \"bechard\", \"dignity\", \"brain\", \"effective\", \"course\", \"suffer\", \"suspense\", \"sound\", \"seem\", \"understand\", \"solid\", \"year\", \"write\", \"right\", \"beautiful\", \"real\", \"make\", \"since\", \"attempt\", \"feel\", \"worth\", \"camera\", \"plot\", \"everything\", \"really\", \"film\", \"character\", \"give\", \"movie\", \"act\", \"good\", \"well\", \"even\", \"thought\", \"great\", \"look\", \"story\", \"one\", \"bad\", \"unrecognizable\", \"none\", \"crayonpencil\", \"spot\", \"slacker\", \"weight\", \"tender\", \"simplify\", \"emptiness\", \"sole\", \"complexity\", \"school\", \"mclaglen\", \"round\", \"drawing\", \"interim\", \"victor\", \"alongside\", \"pile\", \"orient\", \"fulfil\", \"opera\", \"brevity\", \"fanciful\", \"donlevy\", \"havilland\", \"stanwycks\", \"dwight\", \"apt\", \"four\", \"yes\", \"mean\", \"visual\", \"expect\", \"almost\", \"garbage\", \"go\", \"awful\", \"utterly\", \"even\", \"movie\", \"de\", \"without\", \"thing\", \"happen\", \"art\", \"hilarious\", \"get\", \"drama\", \"anything\", \"act\", \"watch\", \"give\", \"bad\", \"create\", \"real\", \"dont\", \"rent\", \"make\", \"minute\", \"definitely\", \"film\", \"way\", \"look\", \"well\", \"work\", \"like\", \"one\", \"see\", \"character\", \"costume\", \"nun\", \"understated\", \"shakespear\", \"notable\", \"astronaut\", \"light\", \"throwback\", \"sell\", \"nationality\", \"lilli\", \"screenjames\", \"plmer\", \"dracula\", \"color\", \"gere\", \"horse\", \"garfield\", \"fest\", \"leeand\", \"crisp\", \"wong\", \"gerardo\", \"eiko\", \"student\", \"barcelona\", \"steamboat\", \"lifetime\", \"unrestrained\", \"conrad\", \"judith\", \"head\", \"fun\", \"star\", \"id\", \"go\", \"would\", \"right\", \"film\", \"enjoy\", \"john\", \"movie\", \"last\", \"one\", \"fine\", \"also\", \"best\", \"face\", \"time\", \"cast\", \"funny\", \"actress\", \"bad\", \"rating\", \"get\", \"see\", \"well\", \"look\", \"show\", \"watch\", \"make\", \"waste\", \"good\", \"great\", \"scene\", \"even\", \"problems\", \"render\", \"longer\", \"plant\", \"doubt\", \"groundbreaking\", \"the\", \"japanese\", \"tiny\", \"weaker\", \"overcome\", \"nearly\", \"movieit\", \"surprised\", \"rejection\", \"filmmostly\", \"underrated\", \"sensitivity\", \"accolade\", \"powerful\", \"professor\", \"prays\", \"kitchy\", \"exploration\", \"hip\", \"inspiration\", \"version\", \"passion\", \"unbearably\", \"creative\", \"art\", \"walk\", \"deserve\", \"audience\", \"reason\", \"film\", \"character\", \"want\", \"movie\", \"actually\", \"played\", \"call\", \"excellent\", \"ever\", \"right\", \"like\", \"series\", \"dont\", \"let\", \"funny\", \"work\", \"lead\", \"anyone\", \"look\", \"well\", \"especially\", \"story\", \"big\", \"im\", \"one\", \"act\", \"see\", \"script\", \"say\", \"bad\", \"doesnt\", \"time\", \"would\", \"recommend\", \"professional\", \"sit\", \"contributory\", \"kristoffersen\", \"normally\", \"forgettable\", \"columbo\", \"variation\", \"desperation\", \"field\", \"rochonwas\", \"network\", \"hayworth\", \"shoot\", \"draft\", \"dad\", \"moviegoing\", \"former\", \"rough\", \"ugliest\", \"cheesiness\", \"unethical\", \"generates\", \"grow\", \"bates\", \"jessice\", \"chimplike\", \"dreary\", \"trashy\", \"paper\", \"journey\", \"sense\", \"camp\", \"annoy\", \"ruthless\", \"bad\", \"indeed\", \"guy\", \"script\", \"ill\", \"make\", \"direct\", \"even\", \"good\", \"film\", \"use\", \"subtle\", \"movie\", \"brilliant\", \"every\", \"character\", \"mess\", \"watch\", \"simply\", \"one\", \"put\", \"human\", \"set\", \"boring\", \"try\", \"camera\", \"act\", \"story\", \"say\", \"see\", \"take\", \"thing\", \"really\", \"actor\", \"give\", \"suck\", \"write\", \"wonderful\"], \"Freq\": [67.0, 141.0, 42.0, 34.0, 157.0, 43.0, 27.0, 19.0, 8.0, 20.0, 35.0, 42.0, 18.0, 8.0, 22.0, 59.0, 16.0, 16.0, 8.0, 10.0, 34.0, 19.0, 18.0, 38.0, 51.0, 5.0, 15.0, 36.0, 5.0, 7.0, 2.015118293735752, 2.0149090637385716, 2.0149094881401886, 2.014713131658724, 2.0148497889793973, 2.9744792806987417, 1.671505768549002, 2.974570951448013, 1.055623337328996, 1.055611029682103, 1.055587333925154, 1.055579765429651, 1.0555707115284882, 1.0555690139220204, 1.0555663967787154, 1.055561091758503, 1.0555605258896803, 1.055559818553652, 1.0555486426444043, 1.0555366179319228, 1.0555525329925601, 1.0555440449602203, 1.055536476464717, 1.0555512597877093, 1.0555282713667884, 1.0555329397845754, 1.0555315958461216, 1.0555338593214123, 1.0555405082800786, 1.0555376082023624, 2.0152160475748673, 2.015130884317056, 1.5048854107809388, 4.990440718980264, 1.5073202028576598, 2.913530964481572, 1.4636910092941748, 3.098940713571809, 2.244106449662639, 4.238231858880761, 5.092673975695823, 13.75771970316744, 11.329337788469596, 11.533702445512636, 6.521575369772567, 11.16903394143453, 3.2922910169160895, 2.5255014148629824, 1.696923747259871, 10.952165846885888, 6.773342292221415, 6.0509682999280905, 6.860623031166879, 5.6694980187674195, 22.301252457266486, 12.738133863277058, 9.64298984657092, 17.725131270471408, 4.02959885330836, 4.246771385283595, 4.488384640512957, 5.155287926792507, 7.888974744989162, 5.595166056090994, 4.059480405292409, 5.093012365251777, 6.218253836497196, 4.507263439109112, 4.5166254558456895, 4.870591399946326, 4.291207649255406, 5.051606611759748, 4.205614331139127, 1.9333201155776867, 1.9332178551045422, 1.9330538180989913, 1.9328851583597229, 1.932825903318435, 1.9328222611645969, 1.9284319248785395, 1.927872714181563, 1.012641199372589, 1.0126399386270295, 1.0126383276743705, 1.0126178755797415, 1.0126259303430372, 1.0125838354496401, 1.0125864970235987, 1.0125735393609057, 1.0125771815147437, 1.0125633133135912, 1.012576481100544, 1.012559811242593, 1.0125652744733502, 1.012554418053256, 1.0125716482425666, 1.0125518265207174, 1.0125670955502692, 1.012579913130122, 1.0125687065029283, 1.012552596976337, 1.0125522467692372, 1.0125462932485405, 3.086429242601202, 1.9327600643836707, 1.933153977329537, 3.5359500329350024, 1.8533277709988594, 1.932923260892182, 1.9329299848684984, 1.9326924043719875, 2.852933001370963, 1.9330657251403849, 6.674676682330703, 40.49121608040323, 4.270773060691086, 3.0127633192390215, 1.7940992053677633, 16.76192039335113, 1.9331896984537176, 3.0273874073957248, 2.589641980585934, 4.7902077956025435, 27.397926302483818, 5.628086967033898, 6.807005096567846, 6.7640781111015436, 10.413935384658007, 11.590259179996563, 6.700815019597797, 4.137858539851701, 9.294358587441293, 4.6783690181954, 8.58127585611005, 7.0269682147987105, 4.562140044585038, 4.342965032411587, 3.4895997030266375, 7.572145412871636, 5.4608706413480075, 4.674045781589666, 4.049732425255527, 6.160815283288461, 5.0179247791888795, 4.371153061792449, 3.6988843063700965, 4.017103209517716, 4.1957993239353755, 4.369112615146117, 4.614700246787233, 4.058746756004635, 1.9019669609285825, 1.901867608477046, 1.9017219896079702, 1.7659636173407016, 2.9489123400880555, 1.901466588285716, 0.9963610077995114, 0.9963487057462929, 0.9963414849759255, 0.9963370722829231, 0.9963427552966382, 0.9963370722829231, 0.9963283137559035, 0.9963258399734628, 0.9963288486277825, 0.9963111309967885, 0.9963248370886895, 0.99631881978005, 0.9963079217655141, 0.9963153431128361, 0.9963149419589268, 0.9963069188807407, 0.9963015033029653, 0.9962920093271118, 0.9962938813786886, 0.9963081892014536, 0.996289602403656, 0.996280442722727, 0.996292477340006, 0.9962809775946061, 0.996289000672792, 1.9018174642383836, 1.9017670525637815, 1.902049866069838, 1.901984477982622, 1.901626916131466, 1.8823411745059386, 2.96470496718937, 1.8886235121615131, 39.26270245934735, 1.6501332341077497, 4.613905919611907, 2.2753853563753337, 6.973669721833421, 7.2824234442807425, 1.9019908964451708, 1.901800615774193, 11.54229231841981, 1.9015612606083108, 11.656047799915893, 3.4908653879614153, 4.630649548914201, 2.0534937573446377, 9.5148379961997, 23.017212174952412, 11.299271140678474, 7.458352967871384, 3.377141731342136, 6.2931704157411295, 5.238807433362763, 6.8247394609542935, 3.660527550309096, 9.259528671908694, 7.131601341565357, 3.6489144120708064, 3.4298458668178227, 3.2990563205891115, 5.289378499784733, 3.0569190186279336, 3.140885613127233, 3.8556506838440954, 3.4022058275951874, 4.144396721347119, 3.6822305116740943, 4.02250904780171, 3.9006598850315934, 3.511816052028507, 3.398254194152645, 3.4210913513372034, 1.5196144037429595, 1.5194987854197437, 1.51950172237969, 1.5194596259537942, 1.5192739121865289, 1.5192872264049515, 1.519357321849001, 1.463156635304933, 1.6478814302578642, 1.5190490389533138, 0.795959025038725, 0.7959546685481381, 0.7959616193533441, 0.7959531021695001, 0.7959499204628917, 0.7959663674385905, 0.7959535916628244, 0.7959494799188997, 0.7959427249110235, 0.7959405711403963, 0.795935725156485, 0.7959366062444688, 0.7959347951191688, 0.7959386621164313, 0.7959289211992763, 0.7959278932632952, 0.795927550617968, 0.7959288233006114, 0.7959305854765791, 0.7959262779353247, 1.5846726677888092, 1.5860913173414946, 1.576016565739338, 1.5704572921558178, 1.5853996632741616, 1.5766333273280426, 1.9566716368266488, 1.626428308432092, 1.6393253806438939, 8.494928736327006, 1.5194076417627462, 10.334221440348678, 5.806519794416135, 1.5192386686671742, 8.71179072599804, 3.4656354490206644, 7.2771124207102185, 1.7856587246732634, 1.5632356992427414, 4.91774089143999, 4.062028633106259, 14.749769984207203, 5.6520407919759466, 12.597084074191713, 2.433074539120424, 3.178989137257001, 5.515495258561988, 4.850452397909652, 3.379810039093813, 3.8311275832976706, 2.586405190221644, 3.276309612615997, 3.859168110485467, 2.8056245797428376, 2.826872114372375, 2.891733504203163, 3.6677558577350107, 2.7679831304908737, 2.879762063867743, 2.660551485226388, 2.4820757578496773, 2.6989851304745103, 2.2979021323799853, 2.428542614126089, 2.610992476079892, 1.3373471425033823, 1.9744699094952964, 0.7007084197418109, 0.7006595460738105, 0.7006523991120203, 0.7006442414687647, 0.7006450355756303, 0.700640054359837, 0.7006394768275711, 0.7006345678033111, 0.7006329795895799, 0.7006295143959846, 0.7006288646721855, 0.7006341346541117, 0.7006258326277897, 0.7006244609886582, 0.7006181803252667, 0.700619479772865, 0.7006225840087941, 0.7006126215772076, 0.7006111055550096, 0.7006144263655385, 0.7006104558312105, 0.7006071350206817, 0.7006116830872755, 0.7006132713010067, 0.7006022259964217, 0.7006012153149564, 0.7005960897160967, 1.3374284301698052, 2.046885669632875, 1.3373591262978992, 1.337406339560635, 2.7494390883895816, 2.089509139068756, 1.3374444566901833, 5.160383050551662, 9.082586013293211, 1.1744728645182478, 1.3373402121161915, 1.3374984559570435, 1.1418391872599407, 1.974270660863567, 4.769861218918241, 2.685318568569944, 1.381917617590621, 1.7342553259329343, 1.3374954239126475, 2.1976556654319714, 2.1074999910663377, 5.576376076473443, 1.2800169582998617, 1.3372439086108556, 6.881125998442802, 2.657312007634357, 1.5668274226059138, 2.2538189456922755, 10.82907072933928, 3.1169913067443114, 2.831022451332717, 4.65611277395903, 3.3824854882658286, 4.093795018088651, 3.4962076555069426, 5.639067781467287, 2.0657106226054576, 3.9223822865101057, 2.775393388418354, 2.3430543223922253, 1.9415976392196466, 2.710449307587568, 2.6215797975780553, 2.0582515046254484, 1.9790829484690353, 1.858278054329211, 1.362699196787859, 1.3625712270126489, 1.2919070625966023, 0.7138549773585606, 0.7138465288685467, 0.7138398818947859, 0.713840006137286, 0.7138161515772469, 0.7138075788447328, 0.713797950050967, 0.71379372580596, 0.7137944091397112, 0.7137986333847182, 0.7137947818672118, 0.7137970803534656, 0.7137995030822195, 0.7137932288359592, 0.7137975152022162, 0.7137965833834647, 0.7137934151997095, 0.7137837242846936, 0.7137828545871922, 0.7137743439759282, 0.7137785060996851, 0.713776021249681, 0.713763845484661, 0.7137678212446675, 0.7137688773059192, 0.7137686288209188, 0.7137707409434223, 1.3957875836846976, 1.3868082054674513, 1.3625588027626283, 1.2816504714772587, 2.0760040904767663, 2.0309368629227555, 2.299765703041733, 2.0116556693160916, 1.3795612646730502, 2.774669490366632, 3.1109092050338134, 2.0226818184816993, 2.056584490724875, 2.7653135331312675, 4.719796655370969, 1.3626537240327843, 1.6800477150565167, 2.011181559935313, 2.026949175636207, 1.632916695331617, 2.9664492197415777, 2.2916531647484106, 3.6032643424223716, 7.2595752627318575, 3.9657694186026866, 2.632335542737888, 6.788827884008784, 3.379947393765635, 3.3526699528458392, 2.8879982808677434, 2.614143955858013, 1.8439720274007174, 2.3730287720770478, 2.0532175189693453, 1.9199574981005025, 2.090953817798817, 1.9244678735854097, 1.2924204169270601, 1.292462990585787, 0.6770889780097346, 0.6770627697128582, 0.677062354649333, 0.677052333829939, 0.6770500806279451, 0.6770454556343787, 0.6770493097956841, 0.6770263627122199, 0.6770308691162077, 0.677016341892826, 0.6770248210476978, 0.6770086335702153, 0.6770172313146657, 0.6770057874203282, 0.6770174091990336, 0.6770103531191054, 0.6770002137101329, 0.6770027633860733, 0.6769981976872962, 0.6770129027950459, 0.676994936473884, 0.6770026447964946, 0.6770006287736581, 0.6769948771790947, 0.6769995021726611, 0.6769965374331954, 0.677002704091284, 0.6769933948093618, 1.3081100553584581, 1.3612737634565653, 1.355419233138949, 1.808870679290108, 2.3439078420799695, 1.9360460248192224, 4.428060866003716, 2.711742593225344, 1.3277629575075425, 4.639556366675496, 13.318095422631714, 0.8771933567065779, 1.292514932821225, 3.330537322196868, 1.4273601779375649, 2.03843697854252, 1.2911799699346305, 3.280523827665386, 1.6981661217468023, 1.5112540035450686, 3.705253826589918, 3.752190395914366, 2.7087802255512625, 4.9743086574298445, 1.30838957099528, 2.292510644345078, 2.539388768874915, 1.2922495293442597, 3.666903617116319, 1.7084066876299069, 1.539117810939071, 4.022879647578235, 2.0961931866625036, 2.12382100079504, 2.394103964562536, 1.8484571851208846, 2.0874211155315265, 2.0558926529788186, 1.9488821608097178, 1.6330344719633219, 1.203540585054757, 1.2035482151366317, 1.2034969056005462, 1.2034676016629113, 1.2033263898577797, 1.141538650321278, 1.7765506662164015, 0.6305055679008983, 0.6304849445636571, 0.630475600477883, 0.6304675280724212, 0.6304665881347989, 0.6304631601270002, 0.6304465729924897, 0.6304433661464844, 0.6304468494447316, 0.6304484528677343, 0.6304396616864438, 0.6304481211250441, 0.6304356254837129, 0.6304344090938488, 0.6304320868950174, 0.6304351278696776, 0.6304267790119741, 0.6304292117917023, 0.6304345196747456, 0.630437892392096, 0.6304298752770827, 0.6304267237215258, 0.630422245195208, 0.6304296541152892, 1.203514598544024, 1.663214978181132, 1.7760401142161724, 1.485228832354665, 3.236184444212601, 2.8486477202336102, 1.8383952443338254, 8.432885030716369, 2.061644362812185, 1.4272769229641344, 8.239679857233948, 1.203507079043046, 4.663441020291736, 1.2034505722048139, 2.541375697826704, 2.5804441498052513, 1.3185493620576387, 3.262413790594743, 2.5103632853371525, 2.052928818855057, 1.2481272449422134, 4.31704370732536, 1.244484046718356, 2.488612907596397, 3.0129067958628837, 2.703635692004788, 2.1648837938136833, 1.9108202026509293, 2.2680497990997495, 2.1382368939654675, 1.6498405504636289, 1.8834459016639853, 1.662206369822005, 1.6109596436859457, 1.6004352174200138, 0.617905352537729, 0.617903532231045, 0.6178979642341288, 0.61790112300161, 0.617898820849039, 0.6178846867030211, 0.6178862928559777, 0.6178799217825833, 0.6178736577860526, 0.6178798147057195, 0.6178699636342525, 0.6178713020950497, 0.6178749962468498, 0.617861343946719, 0.6178659482518611, 0.6178556153345072, 0.6178555617960753, 0.6178552405654839, 0.6178508504140693, 0.617859898409058, 0.6178522959517302, 0.6178471027238374, 0.617853366720368, 0.6178523494901621, 0.6178428196492864, 0.6178382153441443, 0.6178486017999301, 0.6178333433468427, 0.6178488159536577, 0.6178414811884894, 3.5522719574706807, 1.179603168206423, 1.179251527785797, 1.4581846163735424, 1.1791434872302513, 12.056623574656538, 5.622109708306328, 1.7846384171031244, 10.940139969029333, 1.781545287739354, 1.8087428111373407, 1.2775188567443172, 2.094458790737562, 3.0127332704520646, 1.780542512910133, 4.225211498604236, 1.305739606652505, 2.4784942457289603, 1.299563948534478, 2.014328033887812, 2.3329035472885344, 1.2186603108820246, 1.8543909630855395, 2.3370146563961813, 3.0182659320031435, 1.2158646410458118, 2.4102783598185313, 1.3369320607609465, 1.430447853889602, 3.013668051472791, 2.4293566729441727, 2.5755041710762105, 1.8499509138523864, 1.5360750040025992, 1.8868973573893222, 1.3917755454623955, 1.6277475759982902, 1.3936594558035929, 1.3831085299549943, 0.6104619363557323, 0.6104470724830293, 0.6104265414481588, 0.6104327057298148, 0.6104228130519957, 0.6104165493464421, 0.6104163504986466, 0.6104114290157115, 0.6104103353528371, 0.6104060601252369, 0.6104025305768693, 0.6104137157653582, 0.6104105342006325, 0.6104019837454321, 0.6104003432511204, 0.610396763990804, 0.6104007409467112, 0.6103884620953478, 0.6103934332902318, 0.6103952726323388, 0.6103868216010361, 0.6103855788023151, 0.610399846131632, 0.6103827949331802, 0.6103829937809755, 0.6103869707368826, 0.61037508958111, 0.6103846342752872, 0.6103857776501105, 0.6103730513912076, 1.2228468303164675, 1.163795597072596, 0.6103925384751526, 1.7473736097677142, 1.0553233293140067, 9.33862741143049, 1.2279169519785902, 1.1653514816473691, 3.7707594926634926, 1.1651028224792748, 5.7989393970575405, 1.8593839763490956, 3.7436982961933176, 4.518590258399137, 7.347119812847418, 1.8909413203200947, 1.3109349123012866, 6.654570722699057, 1.16518782991179, 2.0801044326523135, 3.3199598085685653, 1.2698250196652205, 2.74521411782373, 1.3842884720740274, 3.2850377610523256, 1.1651972751820694, 1.2042115109028648, 1.2026687502825852, 1.2536810642796496, 1.2433500264957587, 1.1654397700685077, 2.101518351734341, 1.8062009403940134, 1.4688713645461857, 1.9613738059790367, 1.3224533696951535, 1.441026310066712, 1.5396813627446135, 1.4063315455805656, 1.383119644732917, 1.2844026509667619, 1.2959023172439676, 1.2808990522364638], \"Total\": [67.0, 141.0, 42.0, 34.0, 157.0, 43.0, 27.0, 19.0, 8.0, 20.0, 35.0, 42.0, 18.0, 8.0, 22.0, 59.0, 16.0, 16.0, 8.0, 10.0, 34.0, 19.0, 18.0, 38.0, 51.0, 5.0, 15.0, 36.0, 5.0, 7.0, 2.629498770628767, 2.629306875606023, 2.629314194988225, 2.6291013904613503, 2.6292942662961774, 4.150616161333001, 2.486952636637408, 4.50950881596284, 1.6699960796782432, 1.669982714264122, 1.6699662347671678, 1.669959650046527, 1.6699477592675525, 1.669946082282016, 1.6699425757889772, 1.6699349181431806, 1.669936186206549, 1.6699385275887078, 1.6699230612679234, 1.6699093334034512, 1.6699345189904227, 1.6699217875119, 1.6699125730402307, 1.6699360716690466, 1.66990335615648, 1.6699109469891902, 1.6699099818300058, 1.669914356333131, 1.669926597092151, 1.6699224000538193, 3.1911803907044334, 3.278322938834446, 2.4179246923520648, 8.667818587306058, 2.4380532976239673, 5.128692744988779, 2.4220095445504026, 5.889011205184658, 4.072582127861466, 8.780443068031115, 11.06968015962629, 38.766974045966535, 33.65056554633474, 34.626108436773784, 16.91971621189936, 35.15186252960921, 7.261755858648789, 5.186199608189728, 3.1130295059292084, 36.94549506785609, 20.538348217835875, 18.70825328108908, 24.77864161286321, 18.75472172550642, 157.32983528177144, 67.55185283633351, 47.673175731132126, 141.740995216492, 11.555497389820898, 12.741498056771619, 14.977500060093663, 21.780411493993494, 59.08473204092524, 27.248507186750075, 13.14362879938548, 22.829223705062166, 43.89805622237848, 19.626133390253383, 20.26517942149255, 26.162094371635163, 20.465942407437737, 51.407627856211725, 19.732971862108425, 2.551612835700278, 2.5515115791375536, 2.5513568580128543, 2.551197754858008, 2.5511493932944975, 2.5511528714814817, 2.5495509652094244, 2.5492874171233106, 1.6309204894800613, 1.6309220939178373, 1.6309219897883052, 1.6308972332907856, 1.630914075986548, 1.630870799983712, 1.6308770398860073, 1.6308581656493706, 1.6308653758001783, 1.63084401873042, 1.630865668391069, 1.6308394774771364, 1.6308503615240721, 1.630834252357722, 1.6308620407294487, 1.6308327963795213, 1.6308598380006403, 1.6308813669284763, 1.630863673257762, 1.6308388112280054, 1.6308418155737594, 1.6308333303831768, 5.182901695689052, 3.1879406701376696, 3.27494012929657, 6.743766693741833, 3.288021480396123, 3.4567743722988387, 3.4568884843693075, 3.4566800701172755, 5.514690830314156, 3.5109873832641703, 16.09577794761137, 157.32983528177144, 9.773118684955499, 6.335580958032195, 3.454593011469479, 67.55185283633351, 3.836529162434561, 6.996347095944775, 5.693456513977252, 13.156582003134746, 141.740995216492, 16.65434969199698, 21.617558154807284, 22.89500789338793, 42.92110331955385, 51.407627856211725, 22.829223705062166, 11.846167102507522, 47.673175731132126, 15.177422606498514, 43.89805622237848, 34.68611657106369, 16.608361181391913, 14.977500060093663, 9.548568174354076, 59.08473204092524, 27.992063373417427, 19.732971862108425, 14.49664903140038, 42.78403461449873, 27.248507186750075, 20.538348217835875, 12.628958466751158, 17.012761119794675, 20.465942407437737, 26.162094371635163, 35.15186252960921, 18.594725481275, 2.5217464580788076, 2.5216596662560375, 2.52151939525667, 2.478127214881066, 4.224279099675366, 3.0761495116283712, 1.61612769395783, 1.6161141153059617, 1.6161051228652576, 1.61610069130265, 1.6161114003532129, 1.6161037294629226, 1.6160977220304775, 1.6160957049721236, 1.6161015164388894, 1.6160731473695982, 1.6160956228115644, 1.6160864119703762, 1.6160699186857106, 1.6160820271499288, 1.6160864335849021, 1.6160766088246898, 1.6160681886106771, 1.6160539392544804, 1.6160604459610788, 1.6160837246385458, 1.6160568119310053, 1.6160433038771156, 1.6160635701981658, 1.6160457977428773, 1.616058989812269, 3.15843622322115, 3.2049416228055936, 3.2453539236930986, 3.481174078053833, 3.4807635294202135, 3.443124862415252, 5.937906813025198, 3.48203396735465, 141.740995216492, 3.0408705937067007, 11.522971271557331, 4.697103725315122, 20.27167915818248, 22.31927700895267, 3.8073618980733417, 3.912571843419328, 47.673175731132126, 3.937605246168531, 51.407627856211725, 9.410747540682854, 14.420074942419033, 4.557697733695153, 42.78403461449873, 157.32983528177144, 59.08473204092524, 33.65056554633474, 9.759312576709426, 27.248507186750075, 20.465942407437737, 34.626108436773784, 11.715575933572847, 67.55185283633351, 42.92110331955385, 13.637855626729692, 12.195054996505137, 11.689233605671149, 38.766974045966535, 10.068999301622545, 11.003401022002521, 19.35580135052896, 13.702305086439353, 26.162094371635163, 19.774704785974762, 36.94549506785609, 43.89805622237848, 22.89500789338793, 16.608361181391913, 21.617558154807284, 2.1576166637655434, 2.1574917263733537, 2.1575104892832497, 2.1574569849028733, 2.1572626558209826, 2.1573046811345447, 2.1574143634400156, 2.171630559359944, 2.9449632155936993, 2.7187764330587454, 1.433945349193485, 1.433937681964634, 1.4339504466412998, 1.4339359436385315, 1.433932493192439, 1.4339635568290747, 1.4339406568473434, 1.433941080137485, 1.4339299518906692, 1.4339263598789016, 1.4339184795362987, 1.4339239481920072, 1.4339210219275218, 1.4339282942741902, 1.4339119686485422, 1.4339105243197046, 1.433910511154181, 1.4339148967669653, 1.4339182562721795, 1.4339136458857233, 2.8812933199740614, 2.8941341912361147, 2.899929405894011, 2.889987217458169, 2.9570871021957994, 2.9681746751755327, 4.410454153388811, 3.5059892424207617, 3.8488360263867527, 42.78403461449873, 3.632742255952925, 59.08473204092524, 27.248507186750075, 3.7116901102639543, 51.407627856211725, 13.702305086439353, 42.92110331955385, 5.059396785258562, 4.159699642921989, 26.162094371635163, 19.35580135052896, 157.32983528177144, 34.68611657106369, 141.740995216492, 8.580408167945533, 14.824874832916445, 47.673175731132126, 36.94549506785609, 17.012761119794675, 24.77864161286321, 10.002861761986289, 18.594725481275, 33.65056554633474, 14.420074942419033, 15.666261524767076, 17.644615861627976, 43.89805622237848, 18.75472172550642, 22.89500789338793, 18.70825328108908, 21.617558154807284, 38.766974045966535, 21.780411493993494, 67.55185283633351, 3.8193436614997522, 1.9840364763978153, 3.3192721155897886, 1.3473630868165651, 1.34731519744474, 1.3473119324342466, 1.3472998287035955, 1.3473028747160531, 1.3472957345296568, 1.3472949302345447, 1.3472904572426423, 1.3472894328387075, 1.3472857629989472, 1.3472848849429544, 1.347295918719305, 1.3472826844594572, 1.3472805826688634, 1.347275047175919, 1.3472785043215287, 1.347287633663633, 1.347270926543847, 1.347268393214541, 1.3472765186131732, 1.3472709242633207, 1.347265865688199, 1.3472772991209927, 1.347280908095937, 1.3472611959879077, 1.3472645697270291, 1.347255564520158, 2.599608270358694, 4.04270051362248, 2.7019800462242167, 2.707620664513803, 5.976227437974767, 4.772706314005911, 2.8897125010778737, 16.1731615810842, 34.68611657106369, 2.615545592578189, 3.194586221522047, 3.2016252516006705, 2.614212794349042, 5.54177465766138, 18.793651842158557, 9.153533229236766, 3.6404694485806766, 5.146916489819299, 3.4980205868883294, 7.703923866072804, 7.2818490737358195, 34.626108436773784, 3.4710996229312037, 3.765917991424872, 59.08473204092524, 12.584529310596487, 5.210111947962053, 9.687574138645273, 157.32983528177144, 19.774704785974762, 16.91971621189936, 51.407627856211725, 26.162094371635163, 43.89805622237848, 35.15186252960921, 141.740995216492, 10.088894908310792, 67.55185283633351, 27.992063373417427, 16.65434969199698, 10.09151895196898, 47.673175731132126, 42.92110331955385, 17.012761119794675, 36.94549506785609, 2.7176025930635466, 2.0081623099190717, 2.0080750491833905, 2.036210710797279, 1.3593091869742604, 1.3593002424008136, 1.3592945257661622, 1.3592951939941817, 1.3592764971827234, 1.3592712400568328, 1.3592550421725307, 1.3592490202016825, 1.3592510050807287, 1.359259390233842, 1.3592529256259582, 1.3592598326497292, 1.3592647284668005, 1.3592546247952295, 1.3592628192492124, 1.3592620836733755, 1.3592574799379806, 1.3592492245686414, 1.3592478402826378, 1.359234077679972, 1.3592422460640645, 1.3592386274779953, 1.359219943359602, 1.359233128867629, 1.3592356739707454, 1.3592358184779232, 1.3592398517936497, 2.829420922108562, 2.810117893482583, 2.9135677741125847, 2.733308654994661, 5.7875234564435445, 6.3207695136814115, 7.928580846213546, 7.7654635571100945, 4.227818847671935, 14.824874832916445, 18.70825328108908, 8.841502471267393, 9.15001851373152, 15.921142229633752, 43.89805622237848, 4.48600960931855, 6.642595879180224, 9.80693673551425, 10.130312683821824, 6.6961263312721675, 21.617558154807284, 13.156582003134746, 33.65056554633474, 141.740995216492, 42.78403461449873, 19.626133390253383, 157.32983528177144, 35.15186252960921, 42.92110331955385, 38.766974045966535, 27.992063373417427, 9.653979766813611, 34.626108436773784, 21.780411493993494, 24.77864161286321, 59.08473204092524, 67.55185283633351, 1.9412451266917852, 1.9413141257629054, 1.3258960890566402, 1.3258631902789626, 1.3258688653214876, 1.325852381893768, 1.3258542949841383, 1.3258461219718496, 1.3258553717979704, 1.3258270119095095, 1.3258373729599242, 1.3258196888026443, 1.3258378696229713, 1.3258121095232005, 1.325829392993538, 1.3258070800596298, 1.3258302558179043, 1.325823551472862, 1.3258041249806498, 1.3258097988224529, 1.3258016351516033, 1.3258308634222278, 1.325798467015275, 1.3258157616048651, 1.3258125638907454, 1.325807218843682, 1.3258185260376885, 1.325816146977982, 1.325828933028934, 1.325811251420011, 2.739565088283243, 3.330902073061341, 3.3360439737506566, 4.980900945286194, 7.088036973734908, 5.87467201659126, 19.54653107926758, 10.093511790772297, 3.5474878236193352, 27.992063373417427, 157.32983528177144, 2.003575306742758, 3.8063491791702275, 18.594725481275, 4.556957461732329, 8.977099761040588, 4.1319474872003275, 22.31927700895267, 7.28667622685002, 5.917134482551235, 35.15186252960921, 36.94549506785609, 19.626133390253383, 67.55185283633351, 4.9737060159816195, 15.921142229633752, 19.774704785974762, 4.997565105754068, 43.89805622237848, 9.642030381582405, 7.857876004230491, 141.740995216492, 19.732971862108425, 21.780411493993494, 38.766974045966535, 19.35580135052896, 47.673175731132126, 59.08473204092524, 51.407627856211725, 42.78403461449873, 1.8565846892955253, 1.85660870245808, 1.856575716922319, 1.856562164197974, 1.8564021155626482, 1.8553877327959565, 3.078575761969135, 1.2835432465651246, 1.283527970819588, 1.2835145559651133, 1.2835046732044406, 1.283503728563897, 1.2835007607478917, 1.2834830789783565, 1.2834799319814036, 1.2834905392994291, 1.28349433919251, 1.2834783102204586, 1.2834968611634952, 1.2834728448064576, 1.2834711869605686, 1.2834704939880763, 1.283479977859376, 1.283463249593678, 1.2834698346534519, 1.283483355197356, 1.2834902295864907, 1.2834750176694822, 1.283470142292395, 1.2834614531955302, 1.28347748487764, 2.8160131066536853, 4.291750137465489, 4.9948095966828445, 4.64412384632621, 19.54653107926758, 16.65434969199698, 8.841502471267393, 141.740995216492, 11.106629518810944, 5.6896022270049995, 157.32983528177144, 4.351960289438415, 59.08473204092524, 4.420527712902613, 18.793651842158557, 20.465942407437737, 5.501874577948532, 34.68611657106369, 20.538348217835875, 13.637855626729692, 5.072867109756381, 67.55185283633351, 5.16477355824845, 22.31927700895267, 51.407627856211725, 38.766974045966535, 21.780411493993494, 17.012761119794675, 36.94549506785609, 43.89805622237848, 16.1731615810842, 42.92110331955385, 34.626108436773784, 27.248507186750075, 27.992063373417427, 1.2720932875622386, 1.2720933915623032, 1.2720823257743967, 1.2720912047303583, 1.272091512884113, 1.2720678962013114, 1.2720748840101268, 1.2720660131045267, 1.2720599820088054, 1.2720760106165265, 1.2720596930398504, 1.2720637474425718, 1.2720739074354757, 1.272046485300113, 1.2720563456567953, 1.272037859846858, 1.2720423552476248, 1.2720417819888337, 1.2720354368857405, 1.2720586721535854, 1.2720437378230278, 1.272041499506892, 1.2720559584043305, 1.2720544057986871, 1.272035906213393, 1.2720299957410477, 1.272052651559403, 1.2720226108620525, 1.2720547138293892, 1.2720396413019626, 8.977099761040588, 2.7394505446980055, 3.043412698727258, 4.265807850215317, 3.5165944051386244, 141.740995216492, 42.78403461449873, 7.286105768960792, 157.32983528177144, 8.021785141574677, 8.667818587306058, 4.709752418179679, 11.640227608628626, 22.89500789338793, 8.841502471267393, 47.673175731132126, 5.260768060702206, 19.774704785974762, 5.533830645159261, 13.637855626729692, 19.35580135052896, 5.121659400529713, 12.45599202242614, 21.780411493993494, 38.766974045966535, 5.467741214511971, 24.77864161286321, 7.155045767885773, 9.260282775666138, 59.08473204092524, 35.15186252960921, 51.407627856211725, 20.26517942149255, 14.49664903140038, 67.55185283633351, 9.153533229236766, 34.68611657106369, 16.65434969199698, 15.177422606498514, 1.2653209441635633, 1.2653135494106849, 1.265286428686417, 1.2653046336988822, 1.2652869096030486, 1.2652803718569512, 1.265280357934798, 1.2652767044099575, 1.2652745714505722, 1.265269930481134, 1.2652629221986929, 1.2652864090232019, 1.265280172943124, 1.2652692408552122, 1.265267318518656, 1.2652614052622826, 1.2652738352337471, 1.2652499546990432, 1.2652618373231104, 1.265269009010316, 1.2652525299543056, 1.2652507409720037, 1.2652811351667306, 1.265247711087637, 1.2652487794287817, 1.265260501033218, 1.2652377174756717, 1.265259383454171, 1.2652639480195507, 1.2652388214834671, 2.5715179964220107, 2.7411368087815005, 1.2652809434671053, 4.704477877568673, 2.5133553786504885, 67.55185283633351, 3.488195777810426, 3.287535080352681, 20.26517942149255, 3.416444040793513, 43.89805622237848, 8.308269136041554, 27.992063373417427, 42.92110331955385, 141.740995216492, 11.689233605671149, 5.696608423964489, 157.32983528177144, 4.629393029624707, 15.666261524767076, 42.78403461449873, 5.976227437974767, 36.94549506785609, 7.9141168450882535, 59.08473204092524, 5.54177465766138, 6.030455071531375, 6.5914686870837045, 7.406880147416141, 7.395830294065866, 6.6961263312721675, 35.15186252960921, 24.77864161286321, 14.49664903140038, 51.407627856211725, 9.687574138645273, 18.594725481275, 33.65056554633474, 22.829223705062166, 19.626133390253383, 12.027907062523717, 18.70825328108908, 13.954907905727922], \"Category\": [\"Default\", \"Default\", \"Default\", \"Default\", \"Default\", \"Default\", \"Default\", \"Default\", \"Default\", \"Default\", \"Default\", \"Default\", \"Default\", \"Default\", \"Default\", \"Default\", \"Default\", \"Default\", \"Default\", \"Default\", \"Default\", \"Default\", \"Default\", \"Default\", \"Default\", \"Default\", \"Default\", \"Default\", \"Default\", \"Default\", \"Topic1\", \"Topic1\", \"Topic1\", \"Topic1\", \"Topic1\", \"Topic1\", \"Topic1\", \"Topic1\", \"Topic1\", \"Topic1\", \"Topic1\", \"Topic1\", \"Topic1\", \"Topic1\", \"Topic1\", \"Topic1\", \"Topic1\", \"Topic1\", \"Topic1\", \"Topic1\", \"Topic1\", \"Topic1\", \"Topic1\", \"Topic1\", \"Topic1\", \"Topic1\", \"Topic1\", \"Topic1\", \"Topic1\", \"Topic1\", \"Topic1\", \"Topic1\", \"Topic1\", \"Topic1\", \"Topic1\", \"Topic1\", \"Topic1\", \"Topic1\", \"Topic1\", \"Topic1\", \"Topic1\", \"Topic1\", \"Topic1\", \"Topic1\", \"Topic1\", \"Topic1\", \"Topic1\", \"Topic1\", \"Topic1\", \"Topic1\", \"Topic1\", \"Topic1\", \"Topic1\", \"Topic1\", \"Topic1\", \"Topic1\", \"Topic1\", \"Topic1\", \"Topic1\", \"Topic1\", \"Topic1\", \"Topic1\", \"Topic1\", \"Topic1\", \"Topic1\", \"Topic1\", \"Topic1\", \"Topic1\", \"Topic1\", \"Topic1\", \"Topic1\", \"Topic1\", \"Topic1\", \"Topic2\", \"Topic2\", \"Topic2\", \"Topic2\", \"Topic2\", \"Topic2\", \"Topic2\", \"Topic2\", \"Topic2\", \"Topic2\", \"Topic2\", \"Topic2\", \"Topic2\", \"Topic2\", \"Topic2\", \"Topic2\", \"Topic2\", \"Topic2\", \"Topic2\", \"Topic2\", \"Topic2\", \"Topic2\", \"Topic2\", \"Topic2\", \"Topic2\", \"Topic2\", \"Topic2\", \"Topic2\", \"Topic2\", \"Topic2\", \"Topic2\", \"Topic2\", \"Topic2\", \"Topic2\", \"Topic2\", \"Topic2\", \"Topic2\", \"Topic2\", \"Topic2\", \"Topic2\", \"Topic2\", \"Topic2\", \"Topic2\", \"Topic2\", \"Topic2\", \"Topic2\", \"Topic2\", \"Topic2\", \"Topic2\", \"Topic2\", \"Topic2\", \"Topic2\", \"Topic2\", \"Topic2\", \"Topic2\", \"Topic2\", \"Topic2\", \"Topic2\", \"Topic2\", \"Topic2\", \"Topic2\", \"Topic2\", \"Topic2\", \"Topic2\", \"Topic2\", \"Topic2\", \"Topic2\", \"Topic2\", \"Topic2\", \"Topic2\", \"Topic2\", \"Topic2\", \"Topic2\", \"Topic2\", \"Topic2\", \"Topic2\", \"Topic2\", \"Topic2\", \"Topic3\", \"Topic3\", \"Topic3\", \"Topic3\", \"Topic3\", \"Topic3\", \"Topic3\", \"Topic3\", \"Topic3\", \"Topic3\", \"Topic3\", \"Topic3\", \"Topic3\", \"Topic3\", \"Topic3\", \"Topic3\", \"Topic3\", \"Topic3\", \"Topic3\", \"Topic3\", \"Topic3\", \"Topic3\", \"Topic3\", \"Topic3\", \"Topic3\", \"Topic3\", \"Topic3\", \"Topic3\", \"Topic3\", \"Topic3\", \"Topic3\", \"Topic3\", \"Topic3\", \"Topic3\", \"Topic3\", \"Topic3\", \"Topic3\", \"Topic3\", \"Topic3\", \"Topic3\", \"Topic3\", \"Topic3\", \"Topic3\", \"Topic3\", \"Topic3\", \"Topic3\", \"Topic3\", \"Topic3\", \"Topic3\", \"Topic3\", \"Topic3\", \"Topic3\", \"Topic3\", \"Topic3\", \"Topic3\", \"Topic3\", \"Topic3\", \"Topic3\", \"Topic3\", \"Topic3\", \"Topic3\", \"Topic3\", \"Topic3\", \"Topic3\", \"Topic3\", \"Topic3\", \"Topic3\", \"Topic3\", \"Topic3\", \"Topic3\", \"Topic3\", \"Topic3\", \"Topic3\", \"Topic3\", \"Topic3\", \"Topic3\", \"Topic3\", \"Topic3\", \"Topic3\", \"Topic4\", \"Topic4\", \"Topic4\", \"Topic4\", \"Topic4\", \"Topic4\", \"Topic4\", \"Topic4\", \"Topic4\", \"Topic4\", \"Topic4\", \"Topic4\", \"Topic4\", \"Topic4\", \"Topic4\", \"Topic4\", \"Topic4\", \"Topic4\", \"Topic4\", \"Topic4\", \"Topic4\", \"Topic4\", \"Topic4\", \"Topic4\", \"Topic4\", \"Topic4\", \"Topic4\", \"Topic4\", \"Topic4\", \"Topic4\", \"Topic4\", \"Topic4\", \"Topic4\", \"Topic4\", \"Topic4\", \"Topic4\", \"Topic4\", \"Topic4\", \"Topic4\", \"Topic4\", \"Topic4\", \"Topic4\", \"Topic4\", \"Topic4\", \"Topic4\", \"Topic4\", \"Topic4\", \"Topic4\", \"Topic4\", \"Topic4\", \"Topic4\", \"Topic4\", \"Topic4\", \"Topic4\", \"Topic4\", \"Topic4\", \"Topic4\", \"Topic4\", \"Topic4\", \"Topic4\", \"Topic4\", \"Topic4\", \"Topic4\", \"Topic4\", \"Topic4\", \"Topic4\", \"Topic4\", \"Topic4\", \"Topic4\", \"Topic4\", \"Topic4\", \"Topic4\", \"Topic4\", \"Topic4\", \"Topic5\", \"Topic5\", \"Topic5\", \"Topic5\", \"Topic5\", \"Topic5\", \"Topic5\", \"Topic5\", \"Topic5\", \"Topic5\", \"Topic5\", \"Topic5\", \"Topic5\", \"Topic5\", \"Topic5\", \"Topic5\", \"Topic5\", \"Topic5\", \"Topic5\", \"Topic5\", \"Topic5\", \"Topic5\", \"Topic5\", \"Topic5\", \"Topic5\", \"Topic5\", \"Topic5\", \"Topic5\", \"Topic5\", \"Topic5\", \"Topic5\", \"Topic5\", \"Topic5\", \"Topic5\", \"Topic5\", \"Topic5\", \"Topic5\", \"Topic5\", \"Topic5\", \"Topic5\", \"Topic5\", \"Topic5\", \"Topic5\", \"Topic5\", \"Topic5\", \"Topic5\", \"Topic5\", \"Topic5\", \"Topic5\", \"Topic5\", \"Topic5\", \"Topic5\", \"Topic5\", \"Topic5\", \"Topic5\", \"Topic5\", \"Topic5\", \"Topic5\", \"Topic5\", \"Topic5\", \"Topic5\", \"Topic5\", \"Topic5\", \"Topic5\", \"Topic5\", \"Topic5\", \"Topic5\", \"Topic5\", \"Topic5\", \"Topic5\", \"Topic5\", \"Topic5\", \"Topic5\", \"Topic5\", \"Topic5\", \"Topic6\", \"Topic6\", \"Topic6\", \"Topic6\", \"Topic6\", \"Topic6\", \"Topic6\", \"Topic6\", \"Topic6\", \"Topic6\", \"Topic6\", \"Topic6\", \"Topic6\", \"Topic6\", \"Topic6\", \"Topic6\", \"Topic6\", \"Topic6\", \"Topic6\", \"Topic6\", \"Topic6\", \"Topic6\", \"Topic6\", \"Topic6\", \"Topic6\", \"Topic6\", \"Topic6\", \"Topic6\", \"Topic6\", \"Topic6\", \"Topic6\", \"Topic6\", \"Topic6\", \"Topic6\", \"Topic6\", \"Topic6\", \"Topic6\", \"Topic6\", \"Topic6\", \"Topic6\", \"Topic6\", \"Topic6\", \"Topic6\", \"Topic6\", \"Topic6\", \"Topic6\", \"Topic6\", \"Topic6\", \"Topic6\", \"Topic6\", \"Topic6\", \"Topic6\", \"Topic6\", \"Topic6\", \"Topic6\", \"Topic6\", \"Topic6\", \"Topic6\", \"Topic6\", \"Topic6\", \"Topic6\", \"Topic6\", \"Topic6\", \"Topic6\", \"Topic6\", \"Topic6\", \"Topic6\", \"Topic6\", \"Topic7\", \"Topic7\", \"Topic7\", \"Topic7\", \"Topic7\", \"Topic7\", \"Topic7\", \"Topic7\", \"Topic7\", \"Topic7\", \"Topic7\", \"Topic7\", \"Topic7\", \"Topic7\", \"Topic7\", \"Topic7\", \"Topic7\", \"Topic7\", \"Topic7\", \"Topic7\", \"Topic7\", \"Topic7\", \"Topic7\", \"Topic7\", \"Topic7\", \"Topic7\", \"Topic7\", \"Topic7\", \"Topic7\", \"Topic7\", \"Topic7\", \"Topic7\", \"Topic7\", \"Topic7\", \"Topic7\", \"Topic7\", \"Topic7\", \"Topic7\", \"Topic7\", \"Topic7\", \"Topic7\", \"Topic7\", \"Topic7\", \"Topic7\", \"Topic7\", \"Topic7\", \"Topic7\", \"Topic7\", \"Topic7\", \"Topic7\", \"Topic7\", \"Topic7\", \"Topic7\", \"Topic7\", \"Topic7\", \"Topic7\", \"Topic7\", \"Topic7\", \"Topic7\", \"Topic7\", \"Topic7\", \"Topic7\", \"Topic7\", \"Topic7\", \"Topic7\", \"Topic7\", \"Topic7\", \"Topic7\", \"Topic7\", \"Topic7\", \"Topic8\", \"Topic8\", \"Topic8\", \"Topic8\", \"Topic8\", \"Topic8\", \"Topic8\", \"Topic8\", \"Topic8\", \"Topic8\", \"Topic8\", \"Topic8\", \"Topic8\", \"Topic8\", \"Topic8\", \"Topic8\", \"Topic8\", \"Topic8\", \"Topic8\", \"Topic8\", \"Topic8\", \"Topic8\", \"Topic8\", \"Topic8\", \"Topic8\", \"Topic8\", \"Topic8\", \"Topic8\", \"Topic8\", \"Topic8\", \"Topic8\", \"Topic8\", \"Topic8\", \"Topic8\", \"Topic8\", \"Topic8\", \"Topic8\", \"Topic8\", \"Topic8\", \"Topic8\", \"Topic8\", \"Topic8\", \"Topic8\", \"Topic8\", \"Topic8\", \"Topic8\", \"Topic8\", \"Topic8\", \"Topic8\", \"Topic8\", \"Topic8\", \"Topic8\", \"Topic8\", \"Topic8\", \"Topic8\", \"Topic8\", \"Topic8\", \"Topic8\", \"Topic8\", \"Topic8\", \"Topic8\", \"Topic8\", \"Topic8\", \"Topic8\", \"Topic8\", \"Topic8\", \"Topic9\", \"Topic9\", \"Topic9\", \"Topic9\", \"Topic9\", \"Topic9\", \"Topic9\", \"Topic9\", \"Topic9\", \"Topic9\", \"Topic9\", \"Topic9\", \"Topic9\", \"Topic9\", \"Topic9\", \"Topic9\", \"Topic9\", \"Topic9\", \"Topic9\", \"Topic9\", \"Topic9\", \"Topic9\", \"Topic9\", \"Topic9\", \"Topic9\", \"Topic9\", \"Topic9\", \"Topic9\", \"Topic9\", \"Topic9\", \"Topic9\", \"Topic9\", \"Topic9\", \"Topic9\", \"Topic9\", \"Topic9\", \"Topic9\", \"Topic9\", \"Topic9\", \"Topic9\", \"Topic9\", \"Topic9\", \"Topic9\", \"Topic9\", \"Topic9\", \"Topic9\", \"Topic9\", \"Topic9\", \"Topic9\", \"Topic9\", \"Topic9\", \"Topic9\", \"Topic9\", \"Topic9\", \"Topic9\", \"Topic9\", \"Topic9\", \"Topic9\", \"Topic9\", \"Topic9\", \"Topic9\", \"Topic9\", \"Topic9\", \"Topic9\", \"Topic9\", \"Topic9\", \"Topic9\", \"Topic9\", \"Topic9\", \"Topic10\", \"Topic10\", \"Topic10\", \"Topic10\", \"Topic10\", \"Topic10\", \"Topic10\", \"Topic10\", \"Topic10\", \"Topic10\", \"Topic10\", \"Topic10\", \"Topic10\", \"Topic10\", \"Topic10\", \"Topic10\", \"Topic10\", \"Topic10\", \"Topic10\", \"Topic10\", \"Topic10\", \"Topic10\", \"Topic10\", \"Topic10\", \"Topic10\", \"Topic10\", \"Topic10\", \"Topic10\", \"Topic10\", \"Topic10\", \"Topic10\", \"Topic10\", \"Topic10\", \"Topic10\", \"Topic10\", \"Topic10\", \"Topic10\", \"Topic10\", \"Topic10\", \"Topic10\", \"Topic10\", \"Topic10\", \"Topic10\", \"Topic10\", \"Topic10\", \"Topic10\", \"Topic10\", \"Topic10\", \"Topic10\", \"Topic10\", \"Topic10\", \"Topic10\", \"Topic10\", \"Topic10\", \"Topic10\", \"Topic10\", \"Topic10\", \"Topic10\", \"Topic10\", \"Topic10\", \"Topic10\", \"Topic10\", \"Topic10\", \"Topic10\", \"Topic10\", \"Topic10\", \"Topic10\", \"Topic10\", \"Topic10\", \"Topic10\", \"Topic10\", \"Topic10\", \"Topic10\"], \"logprob\": [30.0, 29.0, 28.0, 27.0, 26.0, 25.0, 24.0, 23.0, 22.0, 21.0, 20.0, 19.0, 18.0, 17.0, 16.0, 15.0, 14.0, 13.0, 12.0, 11.0, 10.0, 9.0, 8.0, 7.0, 6.0, 5.0, 4.0, 3.0, 2.0, 1.0, -6.402, -6.4021, -6.4021, -6.4022, -6.4021, -6.0126, -6.5889, -6.0126, -7.0485, -7.0485, -7.0486, -7.0486, -7.0486, -7.0486, -7.0486, -7.0486, -7.0486, -7.0486, -7.0486, -7.0486, -7.0486, -7.0486, -7.0486, -7.0486, -7.0486, -7.0486, -7.0486, -7.0486, -7.0486, -7.0486, -6.4019, -6.402, -6.6939, -5.4951, -6.6923, -6.0333, -6.7217, -5.9716, -6.2944, -5.6585, -5.4749, -4.4811, -4.6753, -4.6574, -5.2275, -4.6895, -5.9111, -6.1762, -6.5738, -4.7091, -5.1897, -5.3024, -5.1769, -5.3676, -3.998, -4.5581, -4.8364, -4.2277, -5.709, -5.6565, -5.6012, -5.4626, -5.0372, -5.3808, -5.7016, -5.4748, -5.2752, -5.597, -5.5949, -5.5194, -5.6461, -5.483, -5.6662, -6.4336, -6.4336, -6.4337, -6.4338, -6.4338, -6.4338, -6.4361, -6.4364, -7.0803, -7.0803, -7.0803, -7.0803, -7.0803, -7.0803, -7.0803, -7.0803, -7.0803, -7.0803, -7.0803, -7.0803, -7.0803, -7.0803, -7.0803, -7.0804, -7.0803, -7.0803, -7.0803, -7.0804, -7.0804, -7.0804, -5.9658, -6.4339, -6.4337, -5.8298, -6.4758, -6.4338, -6.4338, -6.4339, -6.0445, -6.4337, -5.1945, -3.3917, -5.641, -5.99, -6.5083, -4.2737, -6.4337, -5.9851, -6.1413, -5.5263, -3.7824, -5.3651, -5.1749, -5.1812, -4.7497, -4.6427, -5.1906, -5.6726, -4.8634, -5.5499, -4.9432, -5.1431, -5.575, -5.6243, -5.843, -5.0683, -5.3952, -5.5508, -5.6942, -5.2746, -5.4798, -5.6178, -5.7848, -5.7023, -5.6587, -5.6183, -5.5636, -5.692, -6.4034, -6.4035, -6.4036, -6.4776, -5.9649, -6.4037, -7.05, -7.05, -7.05, -7.05, -7.05, -7.05, -7.05, -7.05, -7.05, -7.05, -7.05, -7.05, -7.05, -7.05, -7.05, -7.05, -7.05, -7.05, -7.05, -7.05, -7.05, -7.0501, -7.05, -7.05, -7.05, -6.4035, -6.4035, -6.4034, -6.4034, -6.4036, -6.4138, -5.9595, -6.4105, -3.376, -6.5455, -5.5172, -6.2242, -5.1042, -5.0609, -6.4034, -6.4035, -4.6003, -6.4036, -4.5905, -5.7962, -5.5136, -6.3268, -4.7935, -3.9101, -4.6216, -5.037, -5.8293, -5.2069, -5.3902, -5.1258, -5.7487, -4.8207, -5.0818, -5.7519, -5.8138, -5.8527, -5.3806, -5.9289, -5.9018, -5.6968, -5.8219, -5.6246, -5.7428, -5.6544, -5.6852, -5.7902, -5.8231, -5.8164, -6.3161, -6.3161, -6.3161, -6.3162, -6.3163, -6.3163, -6.3162, -6.3539, -6.235, -6.3164, -6.9627, -6.9627, -6.9627, -6.9627, -6.9627, -6.9627, -6.9627, -6.9627, -6.9628, -6.9628, -6.9628, -6.9628, -6.9628, -6.9628, -6.9628, -6.9628, -6.9628, -6.9628, -6.9628, -6.9628, -6.2741, -6.2733, -6.2796, -6.2832, -6.2737, -6.2792, -6.0633, -6.2481, -6.2402, -4.5951, -6.3162, -4.3991, -4.9755, -6.3163, -4.5698, -5.4916, -4.7498, -6.1547, -6.2878, -5.1417, -5.3328, -4.0433, -5.0025, -4.2011, -5.8454, -5.578, -5.027, -5.1555, -5.5167, -5.3914, -5.7843, -5.5478, -5.3841, -5.7029, -5.6954, -5.6727, -5.4349, -5.7164, -5.6768, -5.756, -5.8254, -5.7416, -5.9025, -5.8472, -5.4702, -6.1392, -5.7496, -6.7856, -6.7856, -6.7857, -6.7857, -6.7857, -6.7857, -6.7857, -6.7857, -6.7857, -6.7857, -6.7857, -6.7857, -6.7857, -6.7857, -6.7857, -6.7857, -6.7857, -6.7857, -6.7857, -6.7857, -6.7857, -6.7857, -6.7857, -6.7857, -6.7857, -6.7857, -6.7857, -6.1392, -5.7136, -6.1392, -6.1392, -5.4185, -5.693, -6.1392, -4.7889, -4.2236, -6.2691, -6.1392, -6.1391, -6.2973, -5.7497, -4.8676, -5.4421, -6.1064, -5.8793, -6.1391, -5.6425, -5.6844, -4.7114, -6.183, -6.1393, -4.5011, -5.4526, -5.9809, -5.6173, -4.0477, -5.293, -5.3893, -4.8917, -5.2113, -5.0204, -5.1782, -4.7002, -5.7044, -5.0632, -5.4091, -5.5785, -5.7664, -5.4328, -5.4661, -5.7081, -5.7473, -5.66, -5.9702, -5.9703, -6.0236, -6.6168, -6.6168, -6.6168, -6.6168, -6.6168, -6.6168, -6.6168, -6.6168, -6.6168, -6.6168, -6.6168, -6.6168, -6.6168, -6.6168, -6.6168, -6.6168, -6.6168, -6.6169, -6.6169, -6.6169, -6.6169, -6.6169, -6.6169, -6.6169, -6.6169, -6.6169, -6.6169, -5.9462, -5.9527, -5.9703, -6.0315, -5.5492, -5.5712, -5.4469, -5.5807, -5.9579, -5.2591, -5.1448, -5.5753, -5.5586, -5.2625, -4.7279, -5.9702, -5.7609, -5.581, -5.5731, -5.7893, -5.1923, -5.4504, -4.9978, -4.2974, -4.902, -5.3118, -4.3644, -5.0618, -5.0699, -5.2191, -5.3187, -5.6678, -5.4155, -5.5603, -5.6274, -5.5421, -5.625, -5.9766, -5.9766, -6.6231, -6.6231, -6.6231, -6.6231, -6.6231, -6.6231, -6.6231, -6.6232, -6.6232, -6.6232, -6.6232, -6.6232, -6.6232, -6.6232, -6.6232, -6.6232, -6.6232, -6.6232, -6.6232, -6.6232, -6.6232, -6.6232, -6.6232, -6.6232, -6.6232, -6.6232, -6.6232, -6.6232, -5.9645, -5.9247, -5.929, -5.6404, -5.3813, -5.5725, -4.7452, -5.2355, -5.9496, -4.6985, -3.644, -6.3641, -5.9765, -5.03, -5.8773, -5.5209, -5.9776, -5.0451, -5.7036, -5.8202, -4.9234, -4.9108, -5.2366, -4.6288, -5.9643, -5.4035, -5.3012, -5.9767, -4.9338, -5.6976, -5.8019, -4.8411, -5.493, -5.4799, -5.3601, -5.6188, -5.4972, -5.5124, -5.5659, -5.7427, -5.9779, -5.9779, -5.978, -5.978, -5.9781, -6.0308, -5.5885, -6.6244, -6.6245, -6.6245, -6.6245, -6.6245, -6.6245, -6.6245, -6.6245, -6.6245, -6.6245, -6.6245, -6.6245, -6.6245, -6.6245, -6.6245, -6.6245, -6.6245, -6.6245, -6.6245, -6.6245, -6.6245, -6.6245, -6.6246, -6.6245, -5.9779, -5.6544, -5.5888, -5.7676, -4.9888, -5.1163, -5.5543, -4.0311, -5.4397, -5.8074, -4.0542, -5.978, -4.6234, -5.978, -5.2305, -5.2152, -5.8867, -4.9807, -5.2428, -5.4439, -5.9415, -4.7006, -5.9445, -5.2515, -5.0603, -5.1686, -5.3908, -5.5157, -5.3443, -5.4032, -5.6625, -5.5301, -5.655, -5.6864, -5.6929, -6.6124, -6.6124, -6.6124, -6.6124, -6.6124, -6.6124, -6.6124, -6.6125, -6.6125, -6.6125, -6.6125, -6.6125, -6.6125, -6.6125, -6.6125, -6.6125, -6.6125, -6.6125, -6.6125, -6.6125, -6.6125, -6.6125, -6.6125, -6.6125, -6.6125, -6.6125, -6.6125, -6.6125, -6.6125, -6.6125, -4.8634, -5.9658, -5.9661, -5.7538, -5.9662, -3.6414, -4.4043, -5.5518, -3.7386, -5.5535, -5.5384, -5.8861, -5.3917, -5.0281, -5.5541, -4.6899, -5.8642, -5.2233, -5.869, -5.4307, -5.2839, -5.9332, -5.5134, -5.2821, -5.0263, -5.9355, -5.2512, -5.8406, -5.773, -5.0278, -5.2434, -5.1849, -5.5158, -5.7018, -5.4961, -5.8004, -5.6438, -5.7991, -5.8067, -6.5504, -6.5504, -6.5504, -6.5504, -6.5504, -6.5505, -6.5505, -6.5505, -6.5505, -6.5505, -6.5505, -6.5505, -6.5505, -6.5505, -6.5505, -6.5505, -6.5505, -6.5505, -6.5505, -6.5505, -6.5505, -6.5505, -6.5505, -6.5505, -6.5505, -6.5505, -6.5505, -6.5505, -6.5505, -6.5505, -5.8557, -5.9051, -6.5505, -5.4987, -6.003, -3.8227, -5.8515, -5.9038, -4.7296, -5.904, -4.2992, -5.4366, -4.7368, -4.5486, -4.0625, -5.4198, -5.7861, -4.1615, -5.904, -5.3244, -4.8569, -5.818, -5.047, -5.7317, -4.8675, -5.9039, -5.871, -5.8723, -5.8308, -5.839, -5.9037, -5.3142, -5.4656, -5.6723, -5.3832, -5.7773, -5.6915, -5.6253, -5.7159, -5.7325, -5.8065, -5.7976, -5.8093], \"loglift\": [30.0, 29.0, 28.0, 27.0, 26.0, 25.0, 24.0, 23.0, 22.0, 21.0, 20.0, 19.0, 18.0, 17.0, 16.0, 15.0, 14.0, 13.0, 12.0, 11.0, 10.0, 9.0, 8.0, 7.0, 6.0, 5.0, 4.0, 3.0, 2.0, 1.0, 1.5449, 1.5449, 1.5449, 1.5449, 1.5449, 1.4778, 1.4137, 1.3949, 1.3523, 1.3523, 1.3523, 1.3523, 1.3523, 1.3523, 1.3523, 1.3523, 1.3523, 1.3523, 1.3523, 1.3523, 1.3523, 1.3523, 1.3523, 1.3523, 1.3523, 1.3523, 1.3523, 1.3523, 1.3523, 1.3523, 1.3514, 1.3244, 1.3368, 1.2589, 1.3302, 1.2455, 1.3074, 1.169, 1.2151, 1.0826, 1.0346, 0.7751, 0.7224, 0.7117, 0.8577, 0.6645, 1.02, 1.0915, 1.2042, 0.5951, 0.7017, 0.6823, 0.5268, 0.6147, -0.1427, 0.1427, 0.2129, -0.268, 0.7575, 0.7123, 0.606, 0.37, -0.2025, 0.2279, 0.6361, 0.3109, -0.1434, 0.3399, 0.3099, 0.1299, 0.2488, -0.5091, 0.2652, 1.5434, 1.5434, 1.5433, 1.5433, 1.5433, 1.5433, 1.5416, 1.5415, 1.3443, 1.3443, 1.3443, 1.3443, 1.3443, 1.3443, 1.3442, 1.3442, 1.3442, 1.3442, 1.3442, 1.3442, 1.3442, 1.3442, 1.3442, 1.3442, 1.3442, 1.3442, 1.3442, 1.3442, 1.3442, 1.3442, 1.3025, 1.3204, 1.2937, 1.1752, 1.2476, 1.2396, 1.2395, 1.2395, 1.1618, 1.2241, 0.9406, 0.4636, 0.993, 1.0775, 1.1657, 0.4271, 1.1355, 0.9832, 1.0331, 0.8105, 0.1773, 0.736, 0.6653, 0.6016, 0.4046, 0.3312, 0.595, 0.769, 0.1859, 0.644, 0.1886, 0.2243, 0.5287, 0.5829, 0.8143, -0.2336, 0.1865, 0.3806, 0.5456, -0.1171, 0.1289, 0.2736, 0.5929, 0.3775, 0.2362, 0.0311, -0.2096, 0.2989, 1.5853, 1.5853, 1.5853, 1.5286, 1.5079, 1.3863, 1.3837, 1.3837, 1.3837, 1.3837, 1.3837, 1.3837, 1.3837, 1.3837, 1.3837, 1.3837, 1.3837, 1.3837, 1.3837, 1.3837, 1.3837, 1.3837, 1.3837, 1.3837, 1.3837, 1.3837, 1.3837, 1.3837, 1.3837, 1.3837, 1.3837, 1.3601, 1.3455, 1.3331, 1.2629, 1.2628, 1.2635, 1.1728, 1.2556, 0.5836, 1.2561, 0.9521, 1.1426, 0.8003, 0.7474, 1.1733, 1.146, 0.449, 1.1395, 0.3834, 0.8757, 0.7314, 1.0701, 0.364, -0.0547, 0.2131, 0.3607, 0.8062, 0.4018, 0.5047, 0.2433, 0.704, -0.1199, 0.0725, 0.5489, 0.5988, 0.6023, -0.1245, 0.6753, 0.6137, 0.2539, 0.4742, 0.0248, 0.1865, -0.3502, -0.5534, -0.0074, 0.2807, 0.0238, 1.8286, 1.8286, 1.8286, 1.8286, 1.8286, 1.8285, 1.8285, 1.7843, 1.5986, 1.5971, 1.5905, 1.5905, 1.5905, 1.5905, 1.5905, 1.5905, 1.5905, 1.5905, 1.5905, 1.5905, 1.5905, 1.5905, 1.5905, 1.5905, 1.5905, 1.5905, 1.5905, 1.5905, 1.5905, 1.5905, 1.5813, 1.5777, 1.5694, 1.5693, 1.5558, 1.5465, 1.3664, 1.4111, 1.3257, 0.5625, 1.3075, 0.4356, 0.6331, 1.2859, 0.4041, 0.8045, 0.4045, 1.1377, 1.2005, 0.5077, 0.6179, -0.188, 0.3648, -0.2414, 0.9188, 0.6394, 0.0224, 0.1488, 0.563, 0.3123, 0.8266, 0.443, 0.0136, 0.5422, 0.4668, 0.3706, -0.3031, 0.2658, 0.1059, 0.2287, 0.0148, -0.4855, -0.0699, -1.1464, 2.1034, 2.0893, 1.9643, 1.83, 1.8299, 1.8299, 1.8299, 1.8299, 1.8299, 1.8299, 1.8299, 1.8299, 1.8299, 1.8299, 1.8299, 1.8299, 1.8299, 1.8299, 1.8299, 1.8299, 1.8299, 1.8299, 1.8299, 1.8299, 1.8299, 1.8299, 1.8299, 1.8299, 1.8299, 1.8299, 1.8192, 1.8032, 1.7805, 1.7784, 1.7074, 1.6578, 1.7134, 1.3414, 1.1438, 1.6831, 1.613, 1.6109, 1.6554, 1.4517, 1.1126, 1.2574, 1.5151, 1.396, 1.5224, 1.2294, 1.2439, 0.6577, 1.4862, 1.4484, 0.3336, 0.9286, 1.2822, 1.0256, -0.1923, 0.6362, 0.6959, 0.0822, 0.4381, 0.1114, 0.1758, -0.7405, 0.8978, -0.3624, 0.1726, 0.5226, 0.8356, -0.3835, -0.3118, 0.3717, -0.443, 2.2539, 2.2463, 2.2462, 2.179, 1.99, 1.9899, 1.9899, 1.9899, 1.9899, 1.9899, 1.9899, 1.9899, 1.9899, 1.9899, 1.9899, 1.9899, 1.9899, 1.9899, 1.9899, 1.9899, 1.9899, 1.9899, 1.9899, 1.9899, 1.9899, 1.9899, 1.9899, 1.9899, 1.9899, 1.9899, 1.9899, 1.9274, 1.9278, 1.874, 1.8766, 1.6087, 1.4987, 1.3963, 1.2833, 1.5141, 0.9582, 0.84, 1.159, 1.1413, 0.8835, 0.4039, 1.4425, 1.2593, 1.0496, 1.025, 1.2228, 0.6479, 0.8864, 0.3998, -0.3377, 0.2555, 0.625, -0.5091, 0.2922, 0.0844, 0.037, 0.263, 0.9786, -0.0464, 0.2724, 0.0763, -0.7073, -0.9242, 2.2738, 2.2738, 2.0085, 2.0085, 2.0085, 2.0085, 2.0085, 2.0085, 2.0085, 2.0085, 2.0085, 2.0085, 2.0085, 2.0085, 2.0085, 2.0085, 2.0085, 2.0085, 2.0085, 2.0085, 2.0085, 2.0085, 2.0085, 2.0085, 2.0085, 2.0085, 2.0085, 2.0085, 2.0085, 2.0085, 1.9414, 1.7857, 1.7799, 1.6677, 1.574, 1.5706, 1.1957, 1.3663, 1.6978, 0.8833, 0.2114, 1.8546, 1.6005, 0.9608, 1.5197, 1.1981, 1.5174, 0.7631, 1.2241, 1.3157, 0.4306, 0.3935, 0.7002, 0.072, 1.3452, 0.7426, 0.6281, 1.328, 0.198, 0.95, 1.0503, -0.8814, 0.4384, 0.3528, -0.104, 0.3319, -0.4479, -0.6777, -0.592, -0.5852, 2.317, 2.317, 2.317, 2.317, 2.3169, 2.2648, 2.2007, 2.0396, 2.0396, 2.0396, 2.0396, 2.0396, 2.0396, 2.0396, 2.0396, 2.0396, 2.0396, 2.0396, 2.0396, 2.0396, 2.0396, 2.0396, 2.0396, 2.0396, 2.0396, 2.0396, 2.0396, 2.0396, 2.0396, 2.0396, 2.0396, 1.9004, 1.8026, 1.7165, 1.6105, 0.9521, 0.9847, 1.1799, -0.0714, 1.0665, 1.3676, -0.1989, 1.4651, 0.2113, 1.4494, 0.7497, 0.6797, 1.3219, 0.3866, 0.6486, 0.8569, 1.3482, 0.0002, 1.3274, 0.5568, -0.0864, 0.0875, 0.4418, 0.5641, -0.04, -0.2714, 0.4678, -0.3758, -0.286, -0.0777, -0.1112, 2.0606, 2.0606, 2.0606, 2.0606, 2.0606, 2.0606, 2.0606, 2.0606, 2.0606, 2.0606, 2.0606, 2.0606, 2.0606, 2.0606, 2.0606, 2.0606, 2.0606, 2.0606, 2.0606, 2.0606, 2.0606, 2.0606, 2.0606, 2.0606, 2.0606, 2.0606, 2.0606, 2.0605, 2.0605, 2.0605, 1.8556, 1.9401, 1.8346, 1.7093, 1.69, 0.3183, 0.7532, 1.3759, 0.1168, 1.278, 1.2157, 1.478, 1.0675, 0.7546, 1.1802, 0.3594, 1.3892, 0.7059, 1.3338, 0.8701, 0.6668, 1.347, 0.878, 0.5506, 0.2298, 1.2793, 0.4525, 1.1053, 0.9149, -0.1931, 0.1106, -0.211, 0.3889, 0.538, -0.7953, 0.8991, -0.2764, 0.302, 0.3872, 2.128, 2.128, 2.128, 2.1279, 2.1279, 2.1279, 2.1279, 2.1279, 2.1279, 2.1279, 2.1279, 2.1279, 2.1279, 2.1279, 2.1279, 2.1279, 2.1279, 2.1279, 2.1279, 2.1279, 2.1279, 2.1279, 2.1279, 2.1279, 2.1279, 2.1279, 2.1279, 2.1279, 2.1279, 2.1279, 2.1135, 2.0002, 2.1279, 1.8664, 1.9891, 0.8781, 1.8128, 1.8197, 1.1752, 1.7811, 0.8327, 1.3598, 0.845, 0.6057, -0.1028, 1.0353, 1.3877, -0.3062, 1.4773, 0.8378, 0.3006, 1.3079, 0.2573, 1.1134, -0.0327, 1.2974, 1.2459, 1.1556, 1.0805, 1.0737, 1.1084, 0.0398, 0.2381, 0.5674, -0.4093, 0.8655, 0.2993, -0.2276, 0.0698, 0.2043, 0.6199, 0.1871, 0.4686]}, \"token.table\": {\"Topic\": [3, 9, 1, 2, 3, 4, 5, 6, 7, 8, 9, 10, 2, 3, 5, 7, 1, 2, 3, 4, 5, 6, 7, 8, 10, 2, 5, 8, 1, 3, 4, 8, 9, 4, 3, 1, 1, 2, 5, 6, 7, 8, 1, 7, 7, 1, 2, 3, 4, 5, 7, 8, 10, 3, 5, 6, 6, 5, 3, 3, 5, 10, 1, 2, 3, 8, 9, 2, 4, 7, 2, 7, 4, 1, 2, 3, 4, 7, 9, 5, 8, 1, 2, 3, 4, 6, 10, 1, 2, 9, 1, 2, 3, 5, 6, 10, 2, 4, 6, 7, 8, 1, 3, 5, 1, 2, 3, 4, 5, 6, 7, 8, 9, 10, 1, 5, 7, 8, 6, 5, 10, 2, 3, 4, 6, 6, 1, 2, 4, 6, 6, 6, 2, 5, 1, 2, 3, 4, 6, 8, 10, 2, 5, 7, 8, 9, 10, 2, 4, 4, 3, 6, 1, 2, 3, 5, 10, 5, 6, 6, 2, 7, 2, 5, 7, 10, 5, 2, 3, 2, 6, 9, 1, 2, 3, 6, 10, 10, 4, 5, 1, 2, 3, 4, 5, 6, 8, 9, 1, 2, 3, 4, 5, 6, 7, 8, 9, 10, 6, 1, 3, 6, 10, 10, 4, 5, 1, 4, 5, 3, 1, 3, 1, 8, 10, 1, 2, 3, 4, 5, 6, 9, 1, 3, 7, 6, 2, 8, 3, 5, 10, 1, 2, 8, 1, 2, 3, 4, 5, 6, 9, 10, 3, 6, 2, 5, 6, 10, 2, 7, 1, 4, 7, 9, 9, 1, 1, 9, 8, 5, 5, 4, 1, 2, 10, 6, 7, 3, 1, 2, 3, 5, 7, 4, 9, 4, 9, 6, 2, 5, 8, 9, 10, 1, 2, 3, 4, 5, 6, 7, 8, 10, 6, 1, 3, 4, 5, 6, 10, 1, 2, 3, 7, 8, 4, 2, 2, 1, 2, 3, 4, 5, 6, 9, 7, 1, 2, 3, 4, 5, 6, 7, 9, 9, 5, 8, 10, 2, 4, 10, 1, 3, 6, 7, 1, 7, 10, 1, 7, 2, 1, 4, 5, 6, 2, 4, 5, 6, 8, 6, 2, 1, 2, 7, 1, 2, 3, 4, 5, 6, 7, 8, 10, 6, 1, 2, 3, 4, 7, 8, 4, 2, 3, 6, 9, 10, 1, 2, 3, 4, 5, 6, 7, 8, 10, 1, 2, 3, 4, 5, 6, 8, 9, 1, 2, 3, 4, 7, 9, 10, 3, 1, 2, 3, 4, 6, 8, 1, 2, 3, 4, 7, 8, 9, 1, 1, 4, 7, 9, 1, 3, 5, 7, 8, 3, 7, 1, 2, 1, 2, 4, 9, 1, 2, 3, 4, 6, 3, 7, 8, 10, 6, 1, 2, 3, 4, 5, 6, 7, 8, 9, 10, 9, 5, 4, 5, 6, 8, 10, 2, 3, 5, 7, 1, 3, 10, 10, 7, 5, 4, 3, 5, 7, 3, 4, 9, 1, 2, 8, 1, 2, 3, 4, 5, 8, 9, 2, 3, 6, 7, 5, 8, 10, 8, 8, 1, 2, 3, 4, 6, 7, 8, 9, 10, 4, 1, 2, 3, 4, 5, 6, 7, 8, 9, 10, 1, 2, 3, 4, 5, 7, 8, 9, 3, 4, 1, 2, 3, 4, 5, 6, 7, 8, 10, 6, 5, 1, 2, 3, 4, 5, 6, 7, 8, 9, 10, 6, 9, 10, 3, 9, 10, 5, 6, 3, 6, 4, 7, 9, 10, 7, 10, 1, 8, 4, 2, 3, 4, 7, 9, 9, 3, 6, 8, 1, 1, 2, 3, 5, 3, 4, 6, 3, 5, 1, 2, 6, 10, 2, 4, 8, 10, 1, 5, 10, 1, 2, 3, 4, 9, 3, 2, 10, 3, 9, 6, 1, 2, 3, 4, 6, 9, 7, 6, 1, 5, 7, 1, 6, 6, 2, 3, 6, 7, 8, 10, 3, 9, 10, 1, 2, 3, 4, 5, 7, 8, 4, 3, 7, 8, 1, 10, 8, 4, 4, 9, 3, 5, 10, 1, 2, 7, 8, 1, 3, 5, 9, 1, 9, 8, 2, 3, 4, 8, 9, 1, 2, 3, 4, 5, 6, 1, 8, 6, 8, 1, 2, 3, 4, 5, 6, 7, 8, 9, 8, 1, 2, 3, 4, 5, 6, 9, 1, 2, 3, 5, 6, 7, 9, 1, 2, 3, 4, 5, 6, 7, 8, 9, 10, 1, 2, 3, 4, 5, 6, 7, 8, 10, 3, 4, 3, 5, 1, 2, 3, 4, 5, 6, 7, 8, 9, 10, 1, 3, 4, 6, 9, 1, 3, 4, 6, 8, 9, 5, 5, 2, 2, 3, 5, 3, 4, 7, 6, 7, 4, 1, 5, 10, 4, 1, 5, 2, 3, 7, 9, 10, 5, 6, 5, 8, 1, 3, 6, 2, 3, 5, 8, 1, 2, 3, 4, 5, 6, 7, 8, 9, 10, 10, 9, 1, 2, 3, 4, 5, 6, 7, 9, 10, 2, 3, 4, 5, 6, 7, 9, 1, 3, 8, 6, 9, 5, 6, 9, 1, 4, 5, 10, 1, 2, 3, 4, 6, 7, 10, 7, 2, 3, 10, 8, 1, 2, 3, 6, 7, 8, 8, 4, 5, 2, 1, 2, 3, 4, 5, 6, 7, 8, 9, 10, 2, 4, 4, 7, 7, 4, 9, 6, 2, 4, 10, 1, 2, 3, 4, 5, 6, 7, 9, 4, 1, 2, 3, 4, 6, 9, 6, 1, 2, 3, 4, 5, 7, 2, 3, 5, 8, 9, 1, 2, 3, 4, 5, 6, 7, 8, 10, 1, 4, 9, 8, 1, 2, 3, 4, 5, 6, 8, 9, 1, 2, 3, 6, 1, 2, 5, 5, 9, 4, 9, 1, 3, 4, 6, 7, 9, 2, 10, 9, 3, 2, 3, 5, 10, 1, 3, 1, 2, 3, 2, 3, 2, 3, 2, 4, 8, 2, 3, 1, 2, 4, 5, 6, 7, 8, 9, 1, 1, 2, 3, 4, 5, 6, 7, 8, 10, 1, 4, 9, 1, 2, 3, 4, 6, 8, 9, 10, 3, 9, 1, 2, 1, 3, 9, 1, 4, 6, 7, 4, 5, 6, 8, 9, 4, 10, 10, 7, 6, 2, 7, 10, 2, 1, 2, 3, 5, 6, 8, 9, 1, 2, 3, 4, 6, 7, 8, 9, 10, 6, 1, 2, 3, 4, 5, 7, 8, 10, 1, 7, 2, 1, 1, 2, 3, 6, 8, 5, 4, 5, 1, 2, 3, 4, 5, 7, 9, 10, 3, 5, 1, 2, 3, 4, 5, 7, 8, 9, 10, 1, 2, 4, 5, 6, 2, 8, 2, 10, 9, 4, 1, 2, 8, 9, 10, 3, 5, 6, 8, 9, 10, 5, 8, 2, 3, 5, 1, 10, 1, 2, 3, 4, 5, 6, 7, 8, 5, 9, 4, 7, 1, 2, 3, 4, 8, 10, 2, 5, 6, 10, 7, 1, 2, 5, 6, 3, 7, 2, 6, 9, 1, 3, 5, 8, 3, 4, 1, 5, 6, 7, 3, 4, 7, 3, 1, 7, 2, 3, 8, 8, 2, 5, 1, 2, 3, 4, 5, 6, 7, 9, 10, 8, 1, 1, 2, 3, 4, 10, 1, 2, 3, 4, 5, 6, 7, 9, 10, 6, 9, 1, 4, 3, 1, 2, 6, 7, 2, 1, 2, 3, 5, 6, 9, 10, 3, 2, 6, 7, 1, 4, 5, 3, 4, 9, 3, 1, 2, 3, 4, 5, 6, 7, 8, 9, 10, 1, 2, 3, 4, 7, 8, 9, 2, 2, 3, 6, 9, 10, 8, 1, 2, 3, 4, 5, 6, 7, 8, 9, 9, 5, 4, 1, 2, 3, 4, 5, 6, 8, 3, 10, 1, 3, 6, 8, 10, 1, 2, 3, 4, 5, 6, 3, 10, 10, 9, 5, 9, 2, 4, 5, 6, 7, 9, 8, 3, 10, 2, 7, 8, 1, 2, 3, 4, 5, 6, 10, 7, 1, 10, 6, 9, 4, 7, 2, 6, 7, 3, 9, 1, 5, 6, 8, 9, 4, 1, 2, 3, 4, 5, 6, 7, 8, 9, 1, 2, 3, 4, 5, 6, 7, 8, 9, 10, 1, 2, 3, 4, 5, 6, 7, 8, 10, 9, 4, 5, 7, 1, 2, 3, 4, 5, 6, 7, 8, 9, 1, 2, 3, 5, 6, 5, 1, 3, 7, 1, 2, 3, 4, 5, 6, 7, 9, 10, 8, 1, 2, 3, 4, 5, 6, 7, 9, 10, 1, 3, 5, 6, 7, 9, 1, 1, 2, 3, 4, 5, 6, 8, 9, 1, 2, 3, 4, 5, 6, 10, 4, 3, 1, 2, 3, 4, 6, 7, 9, 7], \"Freq\": [0.6187752352310405, 0.7861416207462341, 0.3129279420325011, 0.1422399736511369, 0.05689598946045475, 0.028447994730227376, 0.08534398419068213, 0.08534398419068213, 0.1137919789209095, 0.028447994730227376, 0.05689598946045475, 0.05689598946045475, 0.42879519252823534, 0.1429317308427451, 0.1429317308427451, 0.1429317308427451, 0.21901752177807504, 0.30662453048930505, 0.08760700871123002, 0.08760700871123002, 0.08760700871123002, 0.04380350435561501, 0.04380350435561501, 0.04380350435561501, 0.04380350435561501, 0.3942543647858435, 0.19712718239292176, 0.19712718239292176, 0.24932106316766792, 0.12466053158383396, 0.24932106316766792, 0.12466053158383396, 0.24932106316766792, 0.694132730650972, 0.6187825469036776, 0.5988257321500357, 0.14108278550260847, 0.28216557100521694, 0.14108278550260847, 0.14108278550260847, 0.28216557100521694, 0.14108278550260847, 0.6424609841283916, 0.3212304920641958, 0.7542481794723713, 0.15962836947262682, 0.21283782596350245, 0.05320945649087561, 0.10641891298175123, 0.26604728245437803, 0.05320945649087561, 0.15962836947262682, 0.05320945649087561, 0.525298107598353, 0.2626490537991765, 0.2626490537991765, 0.4911083095169702, 0.7422496713577594, 0.6577063832111577, 0.21256343977470488, 0.21256343977470488, 0.42512687954940975, 0.24084793845393532, 0.16056529230262354, 0.24084793845393532, 0.08028264615131177, 0.16056529230262354, 0.33800144409387817, 0.16900072204693908, 0.33800144409387817, 0.6131594189918538, 0.7542451179696625, 0.6973677923944602, 0.5988244378336134, 0.1113945513159903, 0.1113945513159903, 0.1113945513159903, 0.2227891026319806, 0.4455782052639612, 0.7422439961315196, 0.5389709020513254, 0.15054355528902236, 0.15054355528902236, 0.15054355528902236, 0.15054355528902236, 0.3010871105780447, 0.15054355528902236, 0.23442218569444587, 0.23442218569444587, 0.23442218569444587, 0.1373277569850769, 0.1373277569850769, 0.1373277569850769, 0.2746555139701538, 0.1373277569850769, 0.1373277569850769, 0.09907354553389647, 0.19814709106779294, 0.19814709106779294, 0.2972206366016894, 0.09907354553389647, 0.5849443804040094, 0.19498146013466983, 0.19498146013466983, 0.1924447584213087, 0.25165853024324986, 0.13323098659936758, 0.029606885910970573, 0.059213771821941145, 0.029606885910970573, 0.07401721477742643, 0.059213771821941145, 0.029606885910970573, 0.13323098659936758, 0.5988253185048771, 0.3846733415192667, 0.3846733415192667, 0.7791296988391674, 0.7356883383762234, 0.7422358882505927, 0.7903583992797584, 0.21857879270938968, 0.21857879270938968, 0.21857879270938968, 0.21857879270938968, 0.7357075103566675, 0.1756402279608235, 0.5269206838824705, 0.1756402279608235, 0.1756402279608235, 0.735694751998707, 0.7356726415598861, 0.6131720366316281, 0.7422376972078668, 0.19544665573505762, 0.19544665573505762, 0.24430831966882205, 0.048861663933764406, 0.09772332786752881, 0.14658499180129322, 0.048861663933764406, 0.13976150991071684, 0.13976150991071684, 0.13976150991071684, 0.13976150991071684, 0.13976150991071684, 0.13976150991071684, 0.6131530868020102, 0.69738413559287, 0.6973935842157472, 0.618768186311324, 0.7357002541732923, 0.1350096099973814, 0.2700192199947628, 0.1350096099973814, 0.2700192199947628, 0.1350096099973814, 0.7422320037783872, 0.3534292095552798, 0.7356678006612603, 0.6131693571372958, 0.7542624500473787, 0.21601103937400354, 0.21601103937400354, 0.21601103937400354, 0.21601103937400354, 0.7422347303462967, 0.5788263363156763, 0.1929421121052254, 0.784451861245973, 0.2123253859672098, 0.2123253859672098, 0.29868014745474925, 0.14934007372737462, 0.14934007372737462, 0.29868014745474925, 0.14934007372737462, 0.7903383079964943, 0.4808039454009944, 0.2404019727004972, 0.34082585053850983, 0.1947576288791485, 0.09737881443957425, 0.04868940721978712, 0.04868940721978712, 0.04868940721978712, 0.14606822165936137, 0.04868940721978712, 0.0467464094497118, 0.14023922834913538, 0.23373204724855898, 0.1869856377988472, 0.0233732047248559, 0.0934928188994236, 0.0467464094497118, 0.0233732047248559, 0.14023922834913538, 0.07011961417456769, 0.7356918627087179, 0.509423381188138, 0.16980779372937935, 0.16980779372937935, 0.7903560564594285, 0.7903653093705912, 0.6973870554717151, 0.7422357089682683, 0.1976520210697202, 0.3953040421394404, 0.1976520210697202, 0.7931725624487677, 0.28718846782523316, 0.5743769356504663, 0.7606603892295978, 0.779131776884291, 0.7903386737404262, 0.15892529236798314, 0.07946264618399157, 0.2383879385519747, 0.07946264618399157, 0.2383879385519747, 0.07946264618399157, 0.07946264618399157, 0.5988145024617358, 0.7931284410673242, 0.7542403166441943, 0.7356992904637271, 0.6131802547926343, 0.7791429945248648, 0.6187838722694268, 0.7422186176242475, 0.7903348817533516, 0.2965701648391819, 0.5931403296783638, 0.538623422764219, 0.413718522954718, 0.05910264613638829, 0.11820529227277658, 0.11820529227277658, 0.17730793840916487, 0.05910264613638829, 0.05910264613638829, 0.05910264613638829, 0.3432218082878063, 0.3432218082878063, 0.6131834451562517, 0.3123413645928874, 0.3123413645928874, 0.3123413645928874, 0.6131501115695919, 0.7542069158009874, 0.20105731958961354, 0.20105731958961354, 0.20105731958961354, 0.20105731958961354, 0.7861390223471939, 0.5988343281436512, 0.7227842526003484, 0.24092808420011613, 0.7791370855532282, 0.7422330343446087, 0.7422252854898854, 0.9270356376097278, 0.5988217288030516, 0.6131734786147867, 0.7903505124245095, 0.7357040313422303, 0.49910776831528975, 0.6187892931533185, 0.25452170521948275, 0.12726085260974138, 0.25452170521948275, 0.12726085260974138, 0.25452170521948275, 0.7356250317904626, 0.3678125158952313, 0.5704524063568064, 0.2852262031784032, 0.735693294186153, 0.7838966131761422, 0.3285785067592692, 0.3285785067592692, 0.3285785067592692, 0.7903422881987989, 0.22669804949955658, 0.17002353712466742, 0.11334902474977829, 0.17002353712466742, 0.11334902474977829, 0.056674512374889144, 0.056674512374889144, 0.056674512374889144, 0.056674512374889144, 0.7357053272683275, 0.12036201326964313, 0.24072402653928626, 0.12036201326964313, 0.12036201326964313, 0.12036201326964313, 0.24072402653928626, 0.17071290488320612, 0.17071290488320612, 0.34142580976641224, 0.08535645244160306, 0.08535645244160306, 0.6973741682233656, 0.7838490784650987, 0.7839592924271052, 0.10924743210697684, 0.10924743210697684, 0.10924743210697684, 0.10924743210697684, 0.3277422963209305, 0.10924743210697684, 0.10924743210697684, 0.7542544302532388, 0.20227862025212157, 0.10113931012606078, 0.20227862025212157, 0.05056965506303039, 0.1517089651890912, 0.05056965506303039, 0.1517089651890912, 0.10113931012606078, 0.7861069662612391, 0.7421904383344172, 0.7791298665160378, 0.7903468187029248, 0.2752741399039014, 0.5505482798078029, 0.2752741399039014, 0.13723678243246074, 0.13723678243246074, 0.13723678243246074, 0.27447356486492147, 0.8271556208206288, 0.7542448563024684, 0.7903517753569153, 0.5988304407297722, 0.7542523918413306, 0.613165384238433, 0.2880931429895234, 0.2880931429895234, 0.2880931429895234, 0.7356971053803674, 0.544001484817436, 0.18133382827247868, 0.18133382827247868, 0.35585695615093876, 0.7791419039980946, 0.7357003647879196, 0.6131794264288256, 0.6652609236244414, 0.22175364120814714, 0.7542300776320094, 0.31991943617270524, 0.10663981205756842, 0.15995971808635262, 0.15995971808635262, 0.05331990602878421, 0.05331990602878421, 0.05331990602878421, 0.05331990602878421, 0.05331990602878421, 0.7356757354969505, 0.09003631554526348, 0.27010894663579044, 0.18007263109052696, 0.09003631554526348, 0.09003631554526348, 0.18007263109052696, 0.6973858825528895, 0.18289087957306627, 0.18289087957306627, 0.18289087957306627, 0.18289087957306627, 0.18289087957306627, 0.10717323549820698, 0.1786220591636783, 0.07144882366547133, 0.07144882366547133, 0.10717323549820698, 0.10717323549820698, 0.1786220591636783, 0.07144882366547133, 0.14289764733094265, 0.1310329314569225, 0.30574350673281914, 0.17471057527589665, 0.1310329314569225, 0.04367764381897416, 0.04367764381897416, 0.04367764381897416, 0.1310329314569225, 0.19149431376830048, 0.19149431376830048, 0.06383143792276683, 0.19149431376830048, 0.06383143792276683, 0.06383143792276683, 0.12766287584553365, 0.6187952993591564, 0.07600758310644326, 0.38003791553221633, 0.15201516621288652, 0.07600758310644326, 0.15201516621288652, 0.07600758310644326, 0.08590897305639655, 0.1718179461127931, 0.25772691916918966, 0.08590897305639655, 0.08590897305639655, 0.08590897305639655, 0.1718179461127931, 0.8203266113784808, 0.20076689156936078, 0.40153378313872157, 0.40153378313872157, 0.7861298977791191, 0.1817562334132428, 0.1817562334132428, 0.1817562334132428, 0.1817562334132428, 0.1817562334132428, 0.6187875393276624, 0.7542526110788774, 0.578458259736587, 0.1928194199121957, 0.7606012302952168, 0.5213045216971197, 0.26065226084855986, 0.26065226084855986, 0.20393727969686196, 0.10196863984843098, 0.20393727969686196, 0.20393727969686196, 0.20393727969686196, 0.42579430154394193, 0.21289715077197097, 0.7791215002220543, 0.7903451871489099, 0.49796771658377537, 0.1269921942660781, 0.19048829139911716, 0.27514975424316923, 0.09171658474772308, 0.042330731422026036, 0.049385853325697046, 0.028220487614684025, 0.05644097522936805, 0.08466146284405207, 0.049385853325697046, 0.7861401233139327, 0.7422310125991438, 0.2262173353378614, 0.2262173353378614, 0.2262173353378614, 0.2262173353378614, 0.2262173353378614, 0.3073987001051172, 0.3073987001051172, 0.10246623336837242, 0.10246623336837242, 0.5988258752831584, 0.6187733260567786, 0.7903386650441591, 0.7903576651285978, 0.7542551769182448, 0.7422465688004388, 0.926948717808628, 0.6187752666889064, 0.742244710111104, 0.7542606476614064, 0.43881804298120936, 0.21940902149060468, 0.21940902149060468, 0.23300517690215633, 0.23300517690215633, 0.46601035380431266, 0.14665062123696881, 0.07332531061848441, 0.29330124247393763, 0.07332531061848441, 0.07332531061848441, 0.14665062123696881, 0.14665062123696881, 0.17022226894978953, 0.17022226894978953, 0.17022226894978953, 0.34044453789957907, 0.7422389378443124, 0.779132761369558, 0.7903381882542858, 0.7791317490342375, 0.7791253378040733, 0.08960863737645997, 0.08960863737645997, 0.3136302308176099, 0.08960863737645997, 0.04480431868822998, 0.13441295606468995, 0.08960863737645997, 0.04480431868822998, 0.04480431868822998, 0.6763412543766094, 0.2547623569338967, 0.10190494277355867, 0.10190494277355867, 0.05095247138677934, 0.10190494277355867, 0.15285741416033802, 0.15285741416033802, 0.05095247138677934, 0.05095247138677934, 0.05095247138677934, 0.10231994576886023, 0.15347991865329036, 0.10231994576886023, 0.05115997288443012, 0.10231994576886023, 0.20463989153772047, 0.15347991865329036, 0.05115997288443012, 0.5111727221990466, 0.2555863610995233, 0.09319424923025438, 0.23298562307563594, 0.16308993615294515, 0.16308993615294515, 0.06989568692269078, 0.06989568692269078, 0.023298562307563594, 0.04659712461512719, 0.11649281153781797, 0.7357075885734314, 0.7422168189719502, 0.3465593028425829, 0.08663982571064573, 0.20215959332484001, 0.028879941903548575, 0.17327965142129145, 0.05775988380709715, 0.028879941903548575, 0.05775988380709715, 0.028879941903548575, 0.028879941903548575, 0.735701003425588, 0.7861215607957963, 0.790359066637138, 0.30417926366057874, 0.30417926366057874, 0.30417926366057874, 0.38252433090436594, 0.38252433090436594, 0.5079229315701698, 0.2539614657850849, 0.21944466420800196, 0.21944466420800196, 0.21944466420800196, 0.21944466420800196, 0.7542574710614123, 0.7903387892927579, 0.35511198354766055, 0.35511198354766055, 0.6973828996465848, 0.6131813843987499, 0.24201662850211278, 0.24201662850211278, 0.24201662850211278, 0.24201662850211278, 0.7861413306930999, 0.6187787851060285, 0.7356928960599018, 0.7791230311378966, 0.5988168636123267, 0.25960796533929553, 0.12980398266964777, 0.25960796533929553, 0.25960796533929553, 0.2694190436951337, 0.5388380873902674, 0.2694190436951337, 0.27468984814303926, 0.27468984814303926, 0.3316499296117166, 0.1658249648058583, 0.1658249648058583, 0.1658249648058583, 0.21532586836396753, 0.21532586836396753, 0.21532586836396753, 0.21532586836396753, 0.2927019989379768, 0.2927019989379768, 0.2927019989379768, 0.2159761260482815, 0.2159761260482815, 0.2159761260482815, 0.10798806302414075, 0.10798806302414075, 0.618788735594166, 0.28668115659141974, 0.28668115659141974, 0.6187730101284226, 0.7861449834895041, 0.7357084525918186, 0.30432995796313245, 0.15216497898156622, 0.22824746847234934, 0.15216497898156622, 0.07608248949078311, 0.07608248949078311, 0.7542575500162692, 0.7357161031115294, 0.3885821741922642, 0.3885821741922642, 0.1942910870961321, 0.6100680248148669, 0.30503401240743344, 0.4979893557298383, 0.40928593307246974, 0.10232148326811744, 0.10232148326811744, 0.10232148326811744, 0.10232148326811744, 0.10232148326811744, 0.6187804722781111, 0.7861227245270558, 0.7903510772551542, 0.804197060505417, 0.2125229681652769, 0.31878445224791535, 0.10626148408263845, 0.10626148408263845, 0.10626148408263845, 0.10626148408263845, 0.9270023961398498, 0.35151842258976296, 0.17575921129488148, 0.17575921129488148, 0.5988229861901343, 0.3888753652089512, 0.7791332623924717, 0.9270173236339347, 0.6920445834217428, 0.786128938269667, 0.34605518702189103, 0.34605518702189103, 0.7903235105341284, 0.2297815084450235, 0.2297815084450235, 0.2297815084450235, 0.2297815084450235, 0.19524921940271428, 0.19524921940271428, 0.19524921940271428, 0.19524921940271428, 0.6267273407124793, 0.31336367035623963, 0.7791360791515584, 0.7839455001838201, 0.18070665044199605, 0.18070665044199605, 0.18070665044199605, 0.18070665044199605, 0.29727933072103707, 0.09909311024034569, 0.19818622048069137, 0.09909311024034569, 0.19818622048069137, 0.09909311024034569, 0.5988299839638895, 0.7791347601107089, 0.3248255288544124, 0.6496510577088248, 0.20976156605127685, 0.18878540944614916, 0.2517138792615322, 0.1258569396307661, 0.06292846981538305, 0.04195231321025537, 0.04195231321025537, 0.020976156605127683, 0.08390462642051073, 0.7791167581052639, 0.18638428100613819, 0.4348966556809891, 0.06212809366871273, 0.12425618733742547, 0.06212809366871273, 0.06212809366871273, 0.06212809366871273, 0.2670672664964747, 0.2670672664964747, 0.13353363324823736, 0.06676681662411868, 0.06676681662411868, 0.06676681662411868, 0.7861126436068019, 0.2295640741855992, 0.13773844451135953, 0.04591281483711984, 0.09182562967423968, 0.04591281483711984, 0.09182562967423968, 0.09182562967423968, 0.09182562967423968, 0.09182562967423968, 0.04591281483711984, 0.19111619769329247, 0.15289295815463397, 0.15289295815463397, 0.19111619769329247, 0.11466971861597548, 0.07644647907731698, 0.03822323953865849, 0.03822323953865849, 0.03822323953865849, 0.7101803477498797, 0.6973935906189024, 0.6332247538499568, 0.3166123769249784, 0.13668031152917662, 0.2050204672937649, 0.09112020768611774, 0.09112020768611774, 0.09112020768611774, 0.11390025960764717, 0.09112020768611774, 0.04556010384305887, 0.022780051921529435, 0.13668031152917662, 0.45168423368149047, 0.09033684673629809, 0.09033684673629809, 0.09033684673629809, 0.09033684673629809, 0.3461555885533368, 0.1730777942766684, 0.1730777942766684, 0.0865388971383342, 0.0865388971383342, 0.0865388971383342, 0.7422370332432391, 0.7422412079842762, 0.7838179727023946, 0.5789393984645562, 0.2894696992322781, 0.6025417411867203, 0.6187857709517154, 0.697391457648352, 0.7542400341033931, 0.3002189731386871, 0.3002189731386871, 0.9270827702224163, 0.16732964238370443, 0.5019889271511133, 0.16732964238370443, 0.6973787234717628, 0.49108893012065796, 0.24554446506032898, 0.3111377875069145, 0.20742519167127632, 0.20742519167127632, 0.10371259583563816, 0.10371259583563816, 0.4947188131450012, 0.2473594065725006, 0.4190494592409406, 0.2095247296204703, 0.5988331055467075, 0.6187851085139081, 0.7356854930344412, 0.19193445553336952, 0.19193445553336952, 0.38386891106673904, 0.19193445553336952, 0.13983361744833, 0.2542429408151455, 0.14618969096870865, 0.09534110280567955, 0.069916808724165, 0.04449251464265046, 0.08262895576492228, 0.05084858816302909, 0.069916808724165, 0.04449251464265046, 0.7903427480702306, 0.7861178459481323, 0.18063190986966338, 0.3010531831161056, 0.18063190986966338, 0.12042127324644225, 0.060210636623221125, 0.060210636623221125, 0.060210636623221125, 0.060210636623221125, 0.060210636623221125, 0.09911888359311223, 0.19823776718622446, 0.09911888359311223, 0.19823776718622446, 0.09911888359311223, 0.09911888359311223, 0.09911888359311223, 0.5988252774326751, 0.6187943444404205, 0.7791107590891868, 0.7356753738395696, 0.7861241246835751, 0.3130295852598883, 0.3130295852598883, 0.3130295852598883, 0.598834906780175, 0.6791256302998689, 0.7422275409705069, 0.7903348940355707, 0.14596084289345765, 0.14596084289345765, 0.2189412643401865, 0.2189412643401865, 0.07298042144672882, 0.07298042144672882, 0.07298042144672882, 0.5151149866624578, 0.5785898490548318, 0.2892949245274159, 0.7903345813588828, 0.5386763953869524, 0.16883097990206913, 0.33766195980413827, 0.16883097990206913, 0.08441548995103457, 0.08441548995103457, 0.08441548995103457, 0.5386164562710698, 0.6973884786595628, 0.7422279840583341, 0.6131506756155849, 0.1353987692532611, 0.1353987692532611, 0.18617330772323404, 0.16924846156657639, 0.11847392309660347, 0.03384969231331528, 0.03384969231331528, 0.08462423078328819, 0.050774538469972916, 0.050774538469972916, 0.6106981871542133, 0.30534909357710666, 0.926994334411984, 0.754244019798125, 0.7542560033031677, 0.6973897151554812, 0.7861266302765184, 0.7357059899448664, 0.613181133894902, 0.6973849417666793, 0.7903646197225597, 0.3139348279281927, 0.07848370698204818, 0.23545112094614454, 0.15696741396409636, 0.07848370698204818, 0.07848370698204818, 0.07848370698204818, 0.7861495475479778, 0.46048348126706007, 0.24600135061791364, 0.16400090041194243, 0.24600135061791364, 0.08200045020597121, 0.08200045020597121, 0.08200045020597121, 0.7356973312859973, 0.1999427811349515, 0.09997139056747575, 0.1999427811349515, 0.2999141717024273, 0.1999427811349515, 0.7542592311776033, 0.4735161652692048, 0.15783872175640162, 0.15783872175640162, 0.15783872175640162, 0.7861071566892621, 0.06934776719213398, 0.13869553438426796, 0.34673883596066996, 0.20804330157640197, 0.06934776719213398, 0.06934776719213398, 0.06934776719213398, 0.06934776719213398, 0.06934776719213398, 0.5768464060060572, 0.11536928120121144, 0.23073856240242288, 0.7791191330633129, 0.09251738728665072, 0.32381085550327754, 0.13877608092997606, 0.09251738728665072, 0.04625869364332536, 0.13877608092997606, 0.04625869364332536, 0.04625869364332536, 0.5988346742523983, 0.3368190278117645, 0.5052285417176468, 0.7356982509634722, 0.5988038009003406, 0.627364247626864, 0.313682123813432, 0.7422236074503679, 0.7861272611797125, 0.6973928817558425, 0.786137873951165, 0.2330891445784069, 0.11654457228920345, 0.2330891445784069, 0.11654457228920345, 0.11654457228920345, 0.7861058695752876, 0.6131712865024318, 0.7903133229656979, 0.7861364906456733, 0.7931011436905913, 0.6082685322843605, 0.3608952228389591, 0.3608952228389591, 0.18044761141947954, 0.2872594066192331, 0.5745188132384662, 0.20945548730245017, 0.3141832309536753, 0.20945548730245017, 0.5785740648933217, 0.2892870324466609, 0.5785549661330456, 0.2892774830665228, 0.3872386615684014, 0.1936193307842007, 0.1936193307842007, 0.290433847147364, 0.580867694294728, 0.18842869165606416, 0.12561912777070944, 0.12561912777070944, 0.06280956388535472, 0.18842869165606416, 0.12561912777070944, 0.06280956388535472, 0.06280956388535472, 0.7606546238605603, 0.3268890082947843, 0.08915154771675936, 0.20802027800577183, 0.11886873028901247, 0.029717182572253118, 0.11886873028901247, 0.029717182572253118, 0.029717182572253118, 0.059434365144506236, 0.2843660328125273, 0.2843660328125273, 0.2843660328125273, 0.1317746795258676, 0.329436698814669, 0.1317746795258676, 0.1317746795258676, 0.0658873397629338, 0.0658873397629338, 0.0658873397629338, 0.0658873397629338, 0.6187629874413211, 0.7861286989482171, 0.2848201633439931, 0.5696403266879863, 0.2872932882535025, 0.574586576507005, 0.7861058053071595, 0.20009744322262568, 0.20009744322262568, 0.20009744322262568, 0.20009744322262568, 0.11310294865038409, 0.11310294865038409, 0.22620589730076818, 0.22620589730076818, 0.22620589730076818, 0.6973789293335166, 0.7903495648653515, 0.7903502425361065, 0.7542546887429081, 0.7356957859416211, 0.613167011088645, 0.39787449418988896, 0.39787449418988896, 0.7845329587265046, 0.19862947052521046, 0.09931473526260523, 0.29794420578781566, 0.09931473526260523, 0.09931473526260523, 0.09931473526260523, 0.09931473526260523, 0.06898145894502626, 0.27592583578010504, 0.13796291789005252, 0.13796291789005252, 0.06898145894502626, 0.06898145894502626, 0.06898145894502626, 0.13796291789005252, 0.06898145894502626, 0.7359427773232307, 0.22019554902140012, 0.18349629085116678, 0.22019554902140012, 0.22019554902140012, 0.036699258170233354, 0.036699258170233354, 0.07339851634046671, 0.036699258170233354, 0.5988370502480108, 0.7542503769144551, 0.6131713965104897, 0.5988287160293773, 0.36352396790788194, 0.18176198395394097, 0.27264297593091147, 0.09088099197697048, 0.7791173315241496, 0.7422412092406683, 0.3693279539139454, 0.3693279539139454, 0.24672863220234667, 0.09869145288093867, 0.148037179321408, 0.09869145288093867, 0.09869145288093867, 0.049345726440469334, 0.09869145288093867, 0.19738290576187734, 0.6187692257980748, 0.37009895813161664, 0.09726183075369886, 0.23342839380887728, 0.23342839380887728, 0.17507129535665797, 0.09726183075369886, 0.03890473230147955, 0.05835709845221932, 0.05835709845221932, 0.03890473230147955, 0.1261259763123397, 0.1261259763123397, 0.2522519526246794, 0.1261259763123397, 0.2522519526246794, 0.6131726504301505, 0.779102616175522, 0.36481214538304035, 0.36481214538304035, 0.7861376993737602, 0.6910529601758996, 0.1900863122002988, 0.1900863122002988, 0.1900863122002988, 0.1900863122002988, 0.1900863122002988, 0.15171125700096966, 0.15171125700096966, 0.15171125700096966, 0.15171125700096966, 0.15171125700096966, 0.15171125700096966, 0.5040229914601085, 0.5386299577164955, 0.2655395051822783, 0.2655395051822783, 0.2655395051822783, 0.5988337450381652, 0.7903456179208836, 0.05877940640902086, 0.23511762563608343, 0.11755881281804172, 0.17633821922706258, 0.11755881281804172, 0.05877940640902086, 0.05877940640902086, 0.11755881281804172, 0.7854752716392066, 0.26182509054640224, 0.6973803761331545, 0.7542353395526483, 0.12635648671533464, 0.12635648671533464, 0.2527129734306693, 0.12635648671533464, 0.12635648671533464, 0.12635648671533464, 0.4458305207027434, 0.2229152603513717, 0.2229152603513717, 0.7903179417194626, 0.7542224017437251, 0.598808593321668, 0.28587596189350956, 0.28587596189350956, 0.28587596189350956, 0.6187798223286115, 0.7542462108686108, 0.23652858271130842, 0.23652858271130842, 0.23652858271130842, 0.41312322507055704, 0.13770774169018568, 0.13770774169018568, 0.13770774169018568, 0.6162656052391569, 0.3081328026195784, 0.15820858486225187, 0.15820858486225187, 0.31641716972450373, 0.15820858486225187, 0.6187721628068568, 0.6973766472776977, 0.7542256300136059, 0.6240363274539795, 0.4128802887049026, 0.754251038404613, 0.200207831878941, 0.400415663757882, 0.400415663757882, 0.7791255258111124, 0.7839603612618093, 0.7422304482484013, 0.2825013618327699, 0.12107201221404426, 0.08071467480936284, 0.16142934961872568, 0.04035733740468142, 0.08071467480936284, 0.04035733740468142, 0.08071467480936284, 0.08071467480936284, 0.7791379064783465, 0.7607161927098762, 0.17554304694582845, 0.17554304694582845, 0.17554304694582845, 0.17554304694582845, 0.17554304694582845, 0.2494199518174972, 0.1662799678783315, 0.1662799678783315, 0.08313998393916575, 0.08313998393916575, 0.08313998393916575, 0.08313998393916575, 0.08313998393916575, 0.08313998393916575, 0.36585696173488075, 0.7861347926794284, 0.7606567413470992, 0.6896719609570722, 0.8070610693390037, 0.17278547681507003, 0.17278547681507003, 0.34557095363014007, 0.17278547681507003, 0.6131836459384544, 0.10322501646834795, 0.10322501646834795, 0.10322501646834795, 0.2064500329366959, 0.10322501646834795, 0.10322501646834795, 0.10322501646834795, 0.6187716293028388, 0.6131770416174014, 0.7356945125426158, 0.7542306901920647, 0.2267340199493155, 0.453468039898631, 0.2267340199493155, 0.2598188109714795, 0.519637621942959, 0.7861172424437547, 0.6187912270188958, 0.053778691221174846, 0.21511476488469938, 0.10755738244234969, 0.16133607366352454, 0.053778691221174846, 0.053778691221174846, 0.16133607366352454, 0.053778691221174846, 0.053778691221174846, 0.053778691221174846, 0.19731961860620886, 0.14798971395465665, 0.3453093325608655, 0.09865980930310443, 0.049329904651552216, 0.049329904651552216, 0.049329904651552216, 0.6131830984996083, 0.31075267117430255, 0.20716844744953503, 0.20716844744953503, 0.10358422372476751, 0.10358422372476751, 0.7790933438947917, 0.11531991457749215, 0.20180985051061126, 0.05765995728874607, 0.17297987186623823, 0.25946980779935735, 0.028829978644373037, 0.028829978644373037, 0.08648993593311911, 0.05765995728874607, 0.7861264516951668, 0.7422426036537758, 0.6973920660210354, 0.15836618714563774, 0.3167323742912755, 0.15836618714563774, 0.07918309357281887, 0.07918309357281887, 0.07918309357281887, 0.07918309357281887, 0.6187787933819535, 0.7903489240843746, 0.13521132316980855, 0.2704226463396171, 0.13521132316980855, 0.13521132316980855, 0.13521132316980855, 0.2603495165700044, 0.08678317219000146, 0.43391586095000734, 0.08678317219000146, 0.08678317219000146, 0.08678317219000146, 0.6501634567629623, 0.32508172838148114, 0.7903457627419426, 0.7861297074161248, 0.7422274395001263, 0.7861373450928314, 0.2575506259595785, 0.12877531297978925, 0.12877531297978925, 0.2575506259595785, 0.12877531297978925, 0.12877531297978925, 0.5386260257985702, 0.6187744629350708, 0.7903571739715164, 0.6131741073889296, 0.5151332957647505, 0.7791377197243626, 0.08554880788034212, 0.08554880788034212, 0.2566464236410264, 0.17109761576068425, 0.08554880788034212, 0.08554880788034212, 0.17109761576068425, 0.28188962153497876, 0.5988302210736088, 0.7903409558673055, 0.7357089661529186, 0.7861309819008709, 0.9271008305842416, 0.7542443654546866, 0.6131500724217781, 0.29975624058567707, 0.29975624058567707, 0.36503670487332673, 0.36503670487332673, 0.13724752724014172, 0.13724752724014172, 0.13724752724014172, 0.13724752724014172, 0.27449505448028344, 0.6973812215506339, 0.12366165947041295, 0.12366165947041295, 0.061830829735206476, 0.061830829735206476, 0.30915414867603236, 0.061830829735206476, 0.061830829735206476, 0.12366165947041295, 0.061830829735206476, 0.29773589391065963, 0.1082675977856944, 0.1082675977856944, 0.13533449723211802, 0.0541337988928472, 0.0270668994464236, 0.1082675977856944, 0.0541337988928472, 0.0270668994464236, 0.08120069833927081, 0.20270641583799476, 0.25338301979749345, 0.10135320791899738, 0.05067660395949869, 0.10135320791899738, 0.10135320791899738, 0.10135320791899738, 0.05067660395949869, 0.05067660395949869, 0.7861165462237891, 0.6973898237405416, 0.7422335180746432, 0.7542317784817493, 0.36113213229900293, 0.10318060922828655, 0.1289757615353582, 0.07738545692121492, 0.051590304614143274, 0.07738545692121492, 0.051590304614143274, 0.07738545692121492, 0.07738545692121492, 0.45555787663650793, 0.11388946915912698, 0.341668407477381, 0.38232940876181876, 0.38232940876181876, 0.7422381272029855, 0.26271893431962984, 0.26271893431962984, 0.26271893431962984, 0.21497812957752463, 0.1433187530516831, 0.07165937652584155, 0.1433187530516831, 0.07165937652584155, 0.07165937652584155, 0.07165937652584155, 0.07165937652584155, 0.07165937652584155, 0.7791375062255932, 0.05166409707819572, 0.10332819415639144, 0.20665638831278288, 0.20665638831278288, 0.05166409707819572, 0.10332819415639144, 0.10332819415639144, 0.10332819415639144, 0.05166409707819572, 0.09871363611480685, 0.2961409083444206, 0.09871363611480685, 0.1974272722296137, 0.09871363611480685, 0.09871363611480685, 0.5988211274576667, 0.06004437390194445, 0.3602662434116667, 0.06004437390194445, 0.06004437390194445, 0.1200887478038889, 0.06004437390194445, 0.18013312170583334, 0.06004437390194445, 0.3207140672007578, 0.05345234453345963, 0.1603570336003789, 0.1603570336003789, 0.05345234453345963, 0.1603570336003789, 0.05345234453345963, 0.6738147915374029, 0.6187901270655906, 0.13490839029273255, 0.20236258543909882, 0.13490839029273255, 0.20236258543909882, 0.20236258543909882, 0.06745419514636627, 0.06745419514636627, 0.36502144237304945], \"Term\": [\"aailiyah\", \"accolade\", \"act\", \"act\", \"act\", \"act\", \"act\", \"act\", \"act\", \"act\", \"act\", \"act\", \"action\", \"action\", \"action\", \"action\", \"actor\", \"actor\", \"actor\", \"actor\", \"actor\", \"actor\", \"actor\", \"actor\", \"actor\", \"actress\", \"actress\", \"actress\", \"actually\", \"actually\", \"actually\", \"actually\", \"actually\", \"aerial\", \"aesthetically\", \"affected\", \"almost\", \"almost\", \"almost\", \"almost\", \"almost\", \"almost\", \"along\", \"along\", \"alongside\", \"also\", \"also\", \"also\", \"also\", \"also\", \"also\", \"also\", \"also\", \"american\", \"american\", \"american\", \"angel\", \"animate\", \"animation\", \"annoy\", \"annoy\", \"annoy\", \"anyone\", \"anyone\", \"anyone\", \"anyone\", \"anyone\", \"anything\", \"anything\", \"anything\", \"appear\", \"apt\", \"argue\", \"armand\", \"art\", \"art\", \"art\", \"art\", \"art\", \"assault\", \"astronaut\", \"attempt\", \"attempt\", \"attempt\", \"attempt\", \"attempt\", \"attempt\", \"audience\", \"audience\", \"audience\", \"avoid\", \"avoid\", \"avoid\", \"avoid\", \"avoid\", \"avoid\", \"awful\", \"awful\", \"awful\", \"awful\", \"awful\", \"back\", \"back\", \"back\", \"bad\", \"bad\", \"bad\", \"bad\", \"bad\", \"bad\", \"bad\", \"bad\", \"bad\", \"bad\", \"badass\", \"balance\", \"balance\", \"barcelona\", \"basic\", \"bat\", \"bates\", \"beautiful\", \"beautiful\", \"beautiful\", \"beautiful\", \"bechard\", \"become\", \"become\", \"become\", \"become\", \"behind\", \"behold\", \"bela\", \"belowpar\", \"best\", \"best\", \"best\", \"best\", \"best\", \"best\", \"best\", \"big\", \"big\", \"big\", \"big\", \"big\", \"big\", \"bigbudget\", \"blandly\", \"bombardment\", \"boob\", \"boost\", \"boring\", \"boring\", \"boring\", \"boring\", \"boring\", \"borrow\", \"brain\", \"brainsucking\", \"breeder\", \"brevity\", \"brilliant\", \"brilliant\", \"brilliant\", \"brilliant\", \"brilliantly\", \"budget\", \"budget\", \"bullock\", \"call\", \"call\", \"camera\", \"camera\", \"camera\", \"camera\", \"camera\", \"camp\", \"care\", \"care\", \"cast\", \"cast\", \"cast\", \"cast\", \"cast\", \"cast\", \"cast\", \"cast\", \"character\", \"character\", \"character\", \"character\", \"character\", \"character\", \"character\", \"character\", \"character\", \"character\", \"characterage\", \"cheap\", \"cheap\", \"cheap\", \"cheesiness\", \"chimplike\", \"chodorov\", \"chosen\", \"classic\", \"classic\", \"classic\", \"clearly\", \"clich\\u00e9s\", \"clich\\u00e9s\", \"close\", \"color\", \"columbo\", \"come\", \"come\", \"come\", \"come\", \"come\", \"come\", \"come\", \"company\", \"compelling\", \"complexity\", \"confuse\", \"confuses\", \"conrad\", \"consequence\", \"consolation\", \"contributory\", \"cool\", \"cool\", \"costume\", \"could\", \"could\", \"could\", \"could\", \"could\", \"could\", \"could\", \"could\", \"course\", \"course\", \"court\", \"cover\", \"cover\", \"cover\", \"cox\", \"crayonpencil\", \"create\", \"create\", \"create\", \"create\", \"creative\", \"creature\", \"credit\", \"credit\", \"crisp\", \"crowd\", \"crowes\", \"cut\", \"cutebut\", \"cutout\", \"dad\", \"damian\", \"de\", \"decipher\", \"definitely\", \"definitely\", \"definitely\", \"definitely\", \"definitely\", \"delight\", \"delight\", \"deliver\", \"deliver\", \"depends\", \"depress\", \"deserve\", \"deserve\", \"deserve\", \"desperation\", \"didnt\", \"didnt\", \"didnt\", \"didnt\", \"didnt\", \"didnt\", \"didnt\", \"didnt\", \"didnt\", \"dignity\", \"direct\", \"direct\", \"direct\", \"direct\", \"direct\", \"direct\", \"director\", \"director\", \"director\", \"director\", \"director\", \"disbelief\", \"discover\", \"disliked\", \"doesnt\", \"doesnt\", \"doesnt\", \"doesnt\", \"doesnt\", \"doesnt\", \"doesnt\", \"donlevy\", \"dont\", \"dont\", \"dont\", \"dont\", \"dont\", \"dont\", \"dont\", \"dont\", \"doubt\", \"dr\", \"dracula\", \"draft\", \"drago\", \"drago\", \"drago\", \"drama\", \"drama\", \"drama\", \"drama\", \"dramatic\", \"drawing\", \"dreary\", \"duethe\", \"dwight\", \"dysfunctionhe\", \"easy\", \"easy\", \"easy\", \"eat\", \"edit\", \"edit\", \"edit\", \"effective\", \"eiko\", \"elegant\", \"elia\", \"emotion\", \"emotion\", \"emptiness\", \"end\", \"end\", \"end\", \"end\", \"end\", \"end\", \"end\", \"end\", \"end\", \"endall\", \"enjoy\", \"enjoy\", \"enjoy\", \"enjoy\", \"enjoy\", \"enjoy\", \"error\", \"especially\", \"especially\", \"especially\", \"especially\", \"especially\", \"even\", \"even\", \"even\", \"even\", \"even\", \"even\", \"even\", \"even\", \"even\", \"ever\", \"ever\", \"ever\", \"ever\", \"ever\", \"ever\", \"ever\", \"ever\", \"every\", \"every\", \"every\", \"every\", \"every\", \"every\", \"every\", \"everyones\", \"everything\", \"everything\", \"everything\", \"everything\", \"everything\", \"everything\", \"excellent\", \"excellent\", \"excellent\", \"excellent\", \"excellent\", \"excellent\", \"excellent\", \"exceptional\", \"expect\", \"expect\", \"expect\", \"exploration\", \"face\", \"face\", \"face\", \"face\", \"face\", \"falwell\", \"fanciful\", \"fast\", \"fast\", \"father\", \"feature\", \"feature\", \"feature\", \"feel\", \"feel\", \"feel\", \"feel\", \"feel\", \"felt\", \"felt\", \"fest\", \"field\", \"fifteen\", \"film\", \"film\", \"film\", \"film\", \"film\", \"film\", \"film\", \"film\", \"film\", \"film\", \"filmmostly\", \"filmsomething\", \"fine\", \"fine\", \"fine\", \"fine\", \"fine\", \"first\", \"first\", \"first\", \"first\", \"flashback\", \"foreign\", \"forgettable\", \"former\", \"four\", \"france\", \"freedom\", \"freshness\", \"frost\", \"fulfil\", \"full\", \"full\", \"full\", \"fun\", \"fun\", \"fun\", \"funny\", \"funny\", \"funny\", \"funny\", \"funny\", \"funny\", \"funny\", \"garbage\", \"garbage\", \"garbage\", \"garbage\", \"garbo\", \"garfield\", \"generates\", \"gerardo\", \"gere\", \"get\", \"get\", \"get\", \"get\", \"get\", \"get\", \"get\", \"get\", \"get\", \"giallo\", \"give\", \"give\", \"give\", \"give\", \"give\", \"give\", \"give\", \"give\", \"give\", \"give\", \"go\", \"go\", \"go\", \"go\", \"go\", \"go\", \"go\", \"go\", \"god\", \"god\", \"good\", \"good\", \"good\", \"good\", \"good\", \"good\", \"good\", \"good\", \"good\", \"gorman\", \"grant\", \"great\", \"great\", \"great\", \"great\", \"great\", \"great\", \"great\", \"great\", \"great\", \"great\", \"greenstreet\", \"groundbreaking\", \"grow\", \"guy\", \"guy\", \"guy\", \"hand\", \"hand\", \"handle\", \"handle\", \"happen\", \"happen\", \"happen\", \"happen\", \"havilland\", \"hayworth\", \"head\", \"head\", \"heroism\", \"highlight\", \"hilarious\", \"hilarious\", \"hilarious\", \"hilarious\", \"hip\", \"hoffman\", \"homework\", \"horse\", \"host\", \"hour\", \"hour\", \"hour\", \"hour\", \"house\", \"house\", \"house\", \"huge\", \"huge\", \"human\", \"human\", \"human\", \"human\", \"id\", \"id\", \"id\", \"id\", \"ill\", \"ill\", \"ill\", \"im\", \"im\", \"im\", \"im\", \"im\", \"imitation\", \"indeed\", \"indeed\", \"indictment\", \"inspiration\", \"integral\", \"interest\", \"interest\", \"interest\", \"interest\", \"interest\", \"interest\", \"interim\", \"inventive\", \"involve\", \"involve\", \"involve\", \"issue\", \"issue\", \"italian\", \"ive\", \"ive\", \"ive\", \"ive\", \"ive\", \"ive\", \"jaclyn\", \"japanese\", \"jessice\", \"jimmy\", \"job\", \"job\", \"job\", \"job\", \"job\", \"job\", \"joes\", \"john\", \"john\", \"john\", \"jones\", \"journey\", \"judith\", \"junkyard\", \"kill\", \"kitchy\", \"knew\", \"knew\", \"kristoffersen\", \"last\", \"last\", \"last\", \"last\", \"lead\", \"lead\", \"lead\", \"lead\", \"learn\", \"learn\", \"leeand\", \"length\", \"let\", \"let\", \"let\", \"let\", \"life\", \"life\", \"life\", \"life\", \"life\", \"life\", \"lifemy\", \"lifetime\", \"light\", \"light\", \"like\", \"like\", \"like\", \"like\", \"like\", \"like\", \"like\", \"like\", \"like\", \"lilli\", \"line\", \"line\", \"line\", \"line\", \"line\", \"line\", \"line\", \"little\", \"little\", \"little\", \"little\", \"little\", \"little\", \"longer\", \"look\", \"look\", \"look\", \"look\", \"look\", \"look\", \"look\", \"look\", \"look\", \"look\", \"love\", \"love\", \"love\", \"love\", \"love\", \"love\", \"love\", \"love\", \"love\", \"lovely\", \"lust\", \"main\", \"main\", \"make\", \"make\", \"make\", \"make\", \"make\", \"make\", \"make\", \"make\", \"make\", \"make\", \"man\", \"man\", \"man\", \"man\", \"man\", \"many\", \"many\", \"many\", \"many\", \"many\", \"many\", \"mar\", \"marion\", \"mark\", \"martin\", \"martin\", \"masterpiece\", \"matthew\", \"mchattie\", \"mclaglen\", \"mean\", \"mean\", \"mercy\", \"mess\", \"mess\", \"mess\", \"microsoft\", \"mind\", \"mind\", \"minute\", \"minute\", \"minute\", \"minute\", \"minute\", \"moment\", \"moment\", \"money\", \"money\", \"monotonous\", \"monstrous\", \"motivation\", \"move\", \"move\", \"move\", \"move\", \"movie\", \"movie\", \"movie\", \"movie\", \"movie\", \"movie\", \"movie\", \"movie\", \"movie\", \"movie\", \"moviegoing\", \"movieit\", \"much\", \"much\", \"much\", \"much\", \"much\", \"much\", \"much\", \"much\", \"much\", \"music\", \"music\", \"music\", \"music\", \"music\", \"music\", \"music\", \"musicincluding\", \"nasty\", \"nationality\", \"native\", \"nearly\", \"need\", \"need\", \"need\", \"needlessly\", \"negative\", \"netflix\", \"network\", \"never\", \"never\", \"never\", \"never\", \"never\", \"never\", \"never\", \"none\", \"nonsense\", \"nonsense\", \"normally\", \"notable\", \"nothing\", \"nothing\", \"nothing\", \"nothing\", \"nothing\", \"nothing\", \"nun\", \"nutbag\", \"oblige\", \"ole\", \"one\", \"one\", \"one\", \"one\", \"one\", \"one\", \"one\", \"one\", \"one\", \"one\", \"open\", \"open\", \"opening\", \"opera\", \"orient\", \"outward\", \"overcome\", \"overdue\", \"palance\", \"paolo\", \"paper\", \"part\", \"part\", \"part\", \"part\", \"part\", \"part\", \"part\", \"passion\", \"past\", \"people\", \"people\", \"people\", \"people\", \"people\", \"people\", \"phrase\", \"piece\", \"piece\", \"piece\", \"piece\", \"piece\", \"pile\", \"place\", \"place\", \"place\", \"place\", \"plant\", \"play\", \"play\", \"play\", \"play\", \"play\", \"play\", \"play\", \"play\", \"play\", \"played\", \"played\", \"played\", \"plmer\", \"plot\", \"plot\", \"plot\", \"plot\", \"plot\", \"plot\", \"plot\", \"plot\", \"poler\", \"poor\", \"poor\", \"popcorn\", \"portrayed\", \"possible\", \"possible\", \"postproduction\", \"powerful\", \"practical\", \"prays\", \"predictable\", \"predictable\", \"predictable\", \"predictable\", \"predictable\", \"problems\", \"product\", \"professional\", \"professor\", \"provoke\", \"pure\", \"put\", \"put\", \"put\", \"question\", \"question\", \"quite\", \"quite\", \"quite\", \"race\", \"race\", \"racial\", \"racial\", \"rating\", \"rating\", \"rating\", \"ready\", \"ready\", \"real\", \"real\", \"real\", \"real\", \"real\", \"real\", \"real\", \"real\", \"realize\", \"really\", \"really\", \"really\", \"really\", \"really\", \"really\", \"really\", \"really\", \"really\", \"reason\", \"reason\", \"reason\", \"recommend\", \"recommend\", \"recommend\", \"recommend\", \"recommend\", \"recommend\", \"recommend\", \"recommend\", \"recover\", \"rejection\", \"relation\", \"relation\", \"remake\", \"remake\", \"render\", \"rent\", \"rent\", \"rent\", \"rent\", \"right\", \"right\", \"right\", \"right\", \"right\", \"riot\", \"rochonwas\", \"rough\", \"round\", \"routine\", \"rpger\", \"ruthless\", \"ruthless\", \"sandra\", \"saw\", \"saw\", \"saw\", \"saw\", \"saw\", \"saw\", \"saw\", \"say\", \"say\", \"say\", \"say\", \"say\", \"say\", \"say\", \"say\", \"say\", \"scamp\", \"scene\", \"scene\", \"scene\", \"scene\", \"scene\", \"scene\", \"scene\", \"scene\", \"schizophrenic\", \"school\", \"sci\", \"scifis\", \"screen\", \"screen\", \"screen\", \"screen\", \"screenjames\", \"screenplay\", \"screenwriter\", \"screenwriter\", \"script\", \"script\", \"script\", \"script\", \"script\", \"script\", \"script\", \"script\", \"sculpture\", \"sea\", \"see\", \"see\", \"see\", \"see\", \"see\", \"see\", \"see\", \"see\", \"see\", \"seem\", \"seem\", \"seem\", \"seem\", \"seem\", \"selfrespecting\", \"sell\", \"sense\", \"sense\", \"sensitivity\", \"sequence\", \"series\", \"series\", \"series\", \"series\", \"series\", \"set\", \"set\", \"set\", \"set\", \"set\", \"set\", \"several\", \"shakespear\", \"share\", \"share\", \"share\", \"shirley\", \"shoot\", \"show\", \"show\", \"show\", \"show\", \"show\", \"show\", \"show\", \"show\", \"silent\", \"silent\", \"simmer\", \"simplify\", \"simply\", \"simply\", \"simply\", \"simply\", \"simply\", \"simply\", \"since\", \"since\", \"since\", \"sit\", \"slacker\", \"slowmotion\", \"small\", \"small\", \"small\", \"smoothly\", \"sole\", \"solid\", \"solid\", \"solid\", \"song\", \"song\", \"song\", \"song\", \"sort\", \"sort\", \"sound\", \"sound\", \"sound\", \"sound\", \"southern\", \"specialtoo\", \"spot\", \"stage\", \"stand\", \"stanwycks\", \"star\", \"star\", \"star\", \"steamboat\", \"stereotype\", \"stock\", \"story\", \"story\", \"story\", \"story\", \"story\", \"story\", \"story\", \"story\", \"story\", \"student\", \"subject\", \"subtle\", \"subtle\", \"subtle\", \"subtle\", \"subtle\", \"suck\", \"suck\", \"suck\", \"suck\", \"suck\", \"suck\", \"suck\", \"suck\", \"suck\", \"suffer\", \"surprised\", \"surprising\", \"surprisingly\", \"surround\", \"suspense\", \"suspense\", \"suspense\", \"suspense\", \"sven\", \"take\", \"take\", \"take\", \"take\", \"take\", \"take\", \"take\", \"taxidermist\", \"teach\", \"team\", \"tender\", \"terrific\", \"terrific\", \"terrific\", \"th\", \"th\", \"the\", \"theatrical\", \"thing\", \"thing\", \"thing\", \"thing\", \"thing\", \"thing\", \"thing\", \"thing\", \"thing\", \"thing\", \"think\", \"think\", \"think\", \"think\", \"think\", \"think\", \"think\", \"thorsen\", \"thought\", \"thought\", \"thought\", \"thought\", \"thought\", \"throwback\", \"time\", \"time\", \"time\", \"time\", \"time\", \"time\", \"time\", \"time\", \"time\", \"tiny\", \"ton\", \"tongue\", \"totally\", \"totally\", \"totally\", \"totally\", \"totally\", \"totally\", \"totally\", \"tract\", \"trashy\", \"try\", \"try\", \"try\", \"try\", \"try\", \"two\", \"two\", \"two\", \"two\", \"two\", \"two\", \"type\", \"type\", \"ugliest\", \"unbearably\", \"underact\", \"underrated\", \"understand\", \"understand\", \"understand\", \"understand\", \"understand\", \"understand\", \"understated\", \"understatement\", \"unethical\", \"unrealistic\", \"unrecognizable\", \"unrestrained\", \"use\", \"use\", \"use\", \"use\", \"use\", \"use\", \"use\", \"utterly\", \"vandiver\", \"variation\", \"versatile\", \"version\", \"versus\", \"victor\", \"violinplaying\", \"visual\", \"visual\", \"walk\", \"walk\", \"want\", \"want\", \"want\", \"want\", \"want\", \"wartime\", \"waste\", \"waste\", \"waste\", \"waste\", \"waste\", \"waste\", \"waste\", \"waste\", \"waste\", \"watch\", \"watch\", \"watch\", \"watch\", \"watch\", \"watch\", \"watch\", \"watch\", \"watch\", \"watch\", \"way\", \"way\", \"way\", \"way\", \"way\", \"way\", \"way\", \"way\", \"way\", \"weaker\", \"weave\", \"wed\", \"weight\", \"well\", \"well\", \"well\", \"well\", \"well\", \"well\", \"well\", \"well\", \"well\", \"white\", \"white\", \"white\", \"wilkinson\", \"wilkinson\", \"within\", \"without\", \"without\", \"without\", \"wonderful\", \"wonderful\", \"wonderful\", \"wonderful\", \"wonderful\", \"wonderful\", \"wonderful\", \"wonderful\", \"wonderful\", \"wong\", \"work\", \"work\", \"work\", \"work\", \"work\", \"work\", \"work\", \"work\", \"work\", \"worth\", \"worth\", \"worth\", \"worth\", \"worth\", \"worth\", \"worthless\", \"would\", \"would\", \"would\", \"would\", \"would\", \"would\", \"would\", \"would\", \"write\", \"write\", \"write\", \"write\", \"write\", \"write\", \"write\", \"wrong\", \"wrotedirected\", \"year\", \"year\", \"year\", \"year\", \"year\", \"year\", \"year\", \"yes\"]}, \"R\": 30, \"lambda.step\": 0.01, \"plot.opts\": {\"xlab\": \"PC1\", \"ylab\": \"PC2\"}, \"topic.order\": [6, 5, 7, 10, 1, 3, 8, 9, 2, 4]};\n",
       "\n",
       "function LDAvis_load_lib(url, callback){\n",
       "  var s = document.createElement('script');\n",
       "  s.src = url;\n",
       "  s.async = true;\n",
       "  s.onreadystatechange = s.onload = callback;\n",
       "  s.onerror = function(){console.warn(\"failed to load library \" + url);};\n",
       "  document.getElementsByTagName(\"head\")[0].appendChild(s);\n",
       "}\n",
       "\n",
       "if(typeof(LDAvis) !== \"undefined\"){\n",
       "   // already loaded: just create the visualization\n",
       "   !function(LDAvis){\n",
       "       new LDAvis(\"#\" + \"ldavis_el1913615827015860005802355315\", ldavis_el1913615827015860005802355315_data);\n",
       "   }(LDAvis);\n",
       "}else if(typeof define === \"function\" && define.amd){\n",
       "   // require.js is available: use it to load d3/LDAvis\n",
       "   require.config({paths: {d3: \"https://d3js.org/d3.v5\"}});\n",
       "   require([\"d3\"], function(d3){\n",
       "      window.d3 = d3;\n",
       "      LDAvis_load_lib(\"https://cdn.jsdelivr.net/gh/bmabey/pyLDAvis@3.3.1/pyLDAvis/js/ldavis.v3.0.0.js\", function(){\n",
       "        new LDAvis(\"#\" + \"ldavis_el1913615827015860005802355315\", ldavis_el1913615827015860005802355315_data);\n",
       "      });\n",
       "    });\n",
       "}else{\n",
       "    // require.js not available: dynamically load d3 & LDAvis\n",
       "    LDAvis_load_lib(\"https://d3js.org/d3.v5.js\", function(){\n",
       "         LDAvis_load_lib(\"https://cdn.jsdelivr.net/gh/bmabey/pyLDAvis@3.3.1/pyLDAvis/js/ldavis.v3.0.0.js\", function(){\n",
       "                 new LDAvis(\"#\" + \"ldavis_el1913615827015860005802355315\", ldavis_el1913615827015860005802355315_data);\n",
       "            })\n",
       "         });\n",
       "}\n",
       "</script>"
      ],
      "text/plain": [
       "PreparedData(topic_coordinates=              x         y  topics  cluster       Freq\n",
       "topic                                                \n",
       "5      0.031002  0.008374       1        1  16.348635\n",
       "4     -0.014649 -0.006487       2        1  16.188651\n",
       "6      0.024804  0.022492       3        1  15.453096\n",
       "9     -0.051205  0.076651       4        1  11.313644\n",
       "0      0.048507 -0.086228       5        1   8.342803\n",
       "2      0.080526  0.036488       6        1   7.179032\n",
       "7     -0.031997 -0.000965       7        1   6.852393\n",
       "8     -0.073227 -0.061386       8        1   6.389632\n",
       "1     -0.013464  0.020201       9        1   6.187160\n",
       "3     -0.000297 -0.009141      10        1   5.744953, topic_info=           Term        Freq       Total Category  logprob  loglift\n",
       "142         bad   67.000000   67.000000  Default  30.0000  30.0000\n",
       "98         film  141.000000  141.000000  Default  29.0000  29.0000\n",
       "8     character   42.000000   42.000000  Default  28.0000  28.0000\n",
       "364        time   34.000000   34.000000  Default  27.0000  27.0000\n",
       "4         movie  157.000000  157.000000  Default  26.0000  26.0000\n",
       "...         ...         ...         ...      ...      ...      ...\n",
       "125       actor    1.406332   22.829224  Topic10  -5.7159   0.0698\n",
       "226        give    1.383120   19.626133  Topic10  -5.7325   0.2043\n",
       "616        suck    1.284403   12.027907  Topic10  -5.8065   0.6199\n",
       "397       write    1.295902   18.708253  Topic10  -5.7976   0.1871\n",
       "1016  wonderful    1.280899   13.954908  Topic10  -5.8093   0.4686\n",
       "\n",
       "[755 rows x 6 columns], token_table=      Topic      Freq      Term\n",
       "term                           \n",
       "2123      3  0.618775  aailiyah\n",
       "1651      9  0.786142  accolade\n",
       "15        1  0.312928       act\n",
       "15        2  0.142240       act\n",
       "15        3  0.056896       act\n",
       "...     ...       ...       ...\n",
       "401       4  0.202363      year\n",
       "401       6  0.202363      year\n",
       "401       7  0.067454      year\n",
       "401       9  0.067454      year\n",
       "398       7  0.365021       yes\n",
       "\n",
       "[1393 rows x 3 columns], R=30, lambda_step=0.01, plot_opts={'xlab': 'PC1', 'ylab': 'PC2'}, topic_order=[6, 5, 7, 10, 1, 3, 8, 9, 2, 4])"
      ]
     },
     "execution_count": 46,
     "metadata": {},
     "output_type": "execute_result"
    }
   ],
   "source": [
    "import pyLDAvis.gensim_models\n",
    "import pyLDAvis\n",
    "\n",
    "pyLDAvis.enable_notebook()\n",
    "LDAvis = pyLDAvis.gensim_models.prepare(lda_model, corpus, id2word)\n",
    "LDAvis"
   ]
  }
 ],
 "metadata": {
  "kernelspec": {
   "display_name": "Python 3",
   "language": "python",
   "name": "python3"
  },
  "language_info": {
   "codemirror_mode": {
    "name": "ipython",
    "version": 3
   },
   "file_extension": ".py",
   "mimetype": "text/x-python",
   "name": "python",
   "nbconvert_exporter": "python",
   "pygments_lexer": "ipython3",
   "version": "3.10.4"
  },
  "orig_nbformat": 4,
  "vscode": {
   "interpreter": {
    "hash": "1b71bac9c495026ac314894acc67ce1522302aabe8018d8e93d44dbc51b6da4a"
   }
  }
 },
 "nbformat": 4,
 "nbformat_minor": 2
}
